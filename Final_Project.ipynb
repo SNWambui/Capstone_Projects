{
  "cells": [
    {
      "cell_type": "markdown",
      "metadata": {
        "id": "view-in-github",
        "colab_type": "text"
      },
      "source": [
        "<a href=\"https://colab.research.google.com/github/SNWambui/Capstone_Projects/blob/main/Final_Project.ipynb\" target=\"_parent\"><img src=\"https://colab.research.google.com/assets/colab-badge.svg\" alt=\"Open In Colab\"/></a>"
      ]
    },
    {
      "cell_type": "markdown",
      "metadata": {
        "id": "TDNu8qDdm19j"
      },
      "source": [
        "# Text Summarization and Keyword Extraction\n",
        "\n",
        "The goal of this project is multi-part:\n",
        "1. To get experience in outsourcing and collecting data for data related projects from the web. \n",
        "2. To explore natural language processing as a machine learning technique as we did not cover this in class\n",
        "3. To set up the foundation in learning more about agriculture in Kenya, common topics and conditions for a set of crops in support of my capstone.\n",
        "4. To make use of pretrained models in addition to building new models for language processing.\n",
        "\n",
        "## Web Scraping and Data consolidation\n",
        "\n",
        "With the goal being to learn about data collection methods, I am going to scrape data from a few websites that have agricultural content about crops and compile them into one file or multiple files depending on the content. The other reason is that there is not a well consolidated and accessible dataset of farming conditions in Kenya. Rather, there are several websites that either have paragraphs or list the conditions out in paragraphs. I will use BeautifulSoup which is a common scraping tool that allows various web formats. The documentation, found [here](https://beautiful-soup-4.readthedocs.io/en/latest/) is very detailed. Note that one needs to install beautifulsoup and requests locally to run it\n",
        "\n",
        "### Importing Necessary Modules"
      ]
    },
    {
      "cell_type": "code",
      "execution_count": 7,
      "metadata": {
        "id": "EB4j-lgfm19n"
      },
      "outputs": [],
      "source": [
        "# !pip3 install beautifulsoup4\n",
        "# !pip3 install requests\n",
        "# !pip3 install lxml\n",
        "# !pip3 install icecream"
      ]
    },
    {
      "cell_type": "code",
      "execution_count": 8,
      "metadata": {
        "id": "oVATiIYnm19o"
      },
      "outputs": [],
      "source": [
        "import pandas as pd\n",
        "import numpy as np\n",
        "from bs4 import BeautifulSoup\n",
        "import re\n",
        "import requests\n",
        "import seaborn as sns\n",
        "from icecream import ic"
      ]
    },
    {
      "cell_type": "code",
      "execution_count": 3,
      "metadata": {
        "id": "6AJDCteZm19o"
      },
      "outputs": [],
      "source": [
        "sns.set_theme()"
      ]
    },
    {
      "cell_type": "markdown",
      "metadata": {
        "id": "nMJ_-ivKm19p"
      },
      "source": [
        "Every website has it's own structure and therefore it is important to visit the website, know what you are looking for, inspect the elements and get the respective HTML/XML tags. Since most websites use HTML to display static contents, it becomes relatively easy to get the content so long as it is publicly rendered. Beautifulsoup makes the process seamless.\n",
        "\n",
        "I will use only three websites with the aim of only getting information about maize as a factor of time and scope of the assignment. Maize is a staple food in Kenya and so it makes sense to start with it. The idea is that eventually, enough data on the main crops in Kenya can be added to a database and the key topics can emerge. This can then be used to provide recommendations to farmers as there is evidence for success:\n",
        "1. The first website contains information on growing conditions for maize in Kenya. \n",
        "2. The second website contains information on general cash crop growing and is an education site target to students.\n",
        "3. The third website contains very detailed information on everything to know about maize"
      ]
    },
    {
      "cell_type": "markdown",
      "metadata": {
        "id": "sPQSSdshm19p"
      },
      "source": [
        "For the first website, the content is rather short and therefore getting all the content that is in paragraphs. "
      ]
    },
    {
      "cell_type": "code",
      "execution_count": null,
      "metadata": {
        "id": "YZwtiQq7m19q"
      },
      "outputs": [],
      "source": [
        "# define the url to get the content from\n",
        "url1 = \"https://www.koppert.co.ke/news/some-tips-for-maize-production-in-challenging-times/#:~:text=Fertile%2C%20well%20drained%2C%20well%20aerated,pH%206.0%E2%80%936.5%20being%20optimal.\"\n",
        "\n",
        "# send a request to get contents from the url\n",
        "maize1 = requests.get(url1)\n",
        "\n",
        "# use lxml in case pages are not correctly formatted as per HTML standards\n",
        "soup1 = BeautifulSoup(maize1.content, 'lxml')\n",
        "\n",
        "# get the content in the div with the paragraphs, and each paragraph\n",
        "parags = soup1.find('div', class_ = 'c-news__bodytext').find_all(\"p\")\n",
        "\n"
      ]
    },
    {
      "cell_type": "code",
      "execution_count": null,
      "metadata": {
        "id": "6vrlL-d1m19r"
      },
      "outputs": [],
      "source": [
        "# create a dataframe to story any scapred data\n",
        "df_all = pd.DataFrame(columns=['Crops', 'Website', 'Content'])\n",
        "\n",
        "# get each of the paragraphs within the div, add them to a list with the crop name\n",
        "# and display the paragraphs\n",
        "lst1 = []\n",
        "for p in parags:\n",
        "    lst1.append(p.get_text())\n",
        "    \n",
        "# combine the paragraphs into one paragraph and remove weird characters\n",
        "cont = ' '.join(lst1).replace('\\xa0', '')\n",
        "df_all.loc[0] = ['Maize', 'Koppert', cont]"
      ]
    },
    {
      "cell_type": "code",
      "execution_count": null,
      "metadata": {
        "colab": {
          "base_uri": "https://localhost:8080/",
          "height": 80
        },
        "id": "2RZ3lda1m19s",
        "outputId": "f8fac123-dcf5-4617-df85-e16fb883b65c"
      },
      "outputs": [
        {
          "output_type": "execute_result",
          "data": {
            "text/plain": [
              "   Crops  Website                                            Content\n",
              "0  Maize  Koppert  The Kenya Meteorological Department has predic..."
            ],
            "text/html": [
              "\n",
              "  <div id=\"df-1ff1a222-4af2-401a-a149-cf87d02cf4f6\">\n",
              "    <div class=\"colab-df-container\">\n",
              "      <div>\n",
              "<style scoped>\n",
              "    .dataframe tbody tr th:only-of-type {\n",
              "        vertical-align: middle;\n",
              "    }\n",
              "\n",
              "    .dataframe tbody tr th {\n",
              "        vertical-align: top;\n",
              "    }\n",
              "\n",
              "    .dataframe thead th {\n",
              "        text-align: right;\n",
              "    }\n",
              "</style>\n",
              "<table border=\"1\" class=\"dataframe\">\n",
              "  <thead>\n",
              "    <tr style=\"text-align: right;\">\n",
              "      <th></th>\n",
              "      <th>Crops</th>\n",
              "      <th>Website</th>\n",
              "      <th>Content</th>\n",
              "    </tr>\n",
              "  </thead>\n",
              "  <tbody>\n",
              "    <tr>\n",
              "      <th>0</th>\n",
              "      <td>Maize</td>\n",
              "      <td>Koppert</td>\n",
              "      <td>The Kenya Meteorological Department has predic...</td>\n",
              "    </tr>\n",
              "  </tbody>\n",
              "</table>\n",
              "</div>\n",
              "      <button class=\"colab-df-convert\" onclick=\"convertToInteractive('df-1ff1a222-4af2-401a-a149-cf87d02cf4f6')\"\n",
              "              title=\"Convert this dataframe to an interactive table.\"\n",
              "              style=\"display:none;\">\n",
              "        \n",
              "  <svg xmlns=\"http://www.w3.org/2000/svg\" height=\"24px\"viewBox=\"0 0 24 24\"\n",
              "       width=\"24px\">\n",
              "    <path d=\"M0 0h24v24H0V0z\" fill=\"none\"/>\n",
              "    <path d=\"M18.56 5.44l.94 2.06.94-2.06 2.06-.94-2.06-.94-.94-2.06-.94 2.06-2.06.94zm-11 1L8.5 8.5l.94-2.06 2.06-.94-2.06-.94L8.5 2.5l-.94 2.06-2.06.94zm10 10l.94 2.06.94-2.06 2.06-.94-2.06-.94-.94-2.06-.94 2.06-2.06.94z\"/><path d=\"M17.41 7.96l-1.37-1.37c-.4-.4-.92-.59-1.43-.59-.52 0-1.04.2-1.43.59L10.3 9.45l-7.72 7.72c-.78.78-.78 2.05 0 2.83L4 21.41c.39.39.9.59 1.41.59.51 0 1.02-.2 1.41-.59l7.78-7.78 2.81-2.81c.8-.78.8-2.07 0-2.86zM5.41 20L4 18.59l7.72-7.72 1.47 1.35L5.41 20z\"/>\n",
              "  </svg>\n",
              "      </button>\n",
              "      \n",
              "  <style>\n",
              "    .colab-df-container {\n",
              "      display:flex;\n",
              "      flex-wrap:wrap;\n",
              "      gap: 12px;\n",
              "    }\n",
              "\n",
              "    .colab-df-convert {\n",
              "      background-color: #E8F0FE;\n",
              "      border: none;\n",
              "      border-radius: 50%;\n",
              "      cursor: pointer;\n",
              "      display: none;\n",
              "      fill: #1967D2;\n",
              "      height: 32px;\n",
              "      padding: 0 0 0 0;\n",
              "      width: 32px;\n",
              "    }\n",
              "\n",
              "    .colab-df-convert:hover {\n",
              "      background-color: #E2EBFA;\n",
              "      box-shadow: 0px 1px 2px rgba(60, 64, 67, 0.3), 0px 1px 3px 1px rgba(60, 64, 67, 0.15);\n",
              "      fill: #174EA6;\n",
              "    }\n",
              "\n",
              "    [theme=dark] .colab-df-convert {\n",
              "      background-color: #3B4455;\n",
              "      fill: #D2E3FC;\n",
              "    }\n",
              "\n",
              "    [theme=dark] .colab-df-convert:hover {\n",
              "      background-color: #434B5C;\n",
              "      box-shadow: 0px 1px 3px 1px rgba(0, 0, 0, 0.15);\n",
              "      filter: drop-shadow(0px 1px 2px rgba(0, 0, 0, 0.3));\n",
              "      fill: #FFFFFF;\n",
              "    }\n",
              "  </style>\n",
              "\n",
              "      <script>\n",
              "        const buttonEl =\n",
              "          document.querySelector('#df-1ff1a222-4af2-401a-a149-cf87d02cf4f6 button.colab-df-convert');\n",
              "        buttonEl.style.display =\n",
              "          google.colab.kernel.accessAllowed ? 'block' : 'none';\n",
              "\n",
              "        async function convertToInteractive(key) {\n",
              "          const element = document.querySelector('#df-1ff1a222-4af2-401a-a149-cf87d02cf4f6');\n",
              "          const dataTable =\n",
              "            await google.colab.kernel.invokeFunction('convertToInteractive',\n",
              "                                                     [key], {});\n",
              "          if (!dataTable) return;\n",
              "\n",
              "          const docLinkHtml = 'Like what you see? Visit the ' +\n",
              "            '<a target=\"_blank\" href=https://colab.research.google.com/notebooks/data_table.ipynb>data table notebook</a>'\n",
              "            + ' to learn more about interactive tables.';\n",
              "          element.innerHTML = '';\n",
              "          dataTable['output_type'] = 'display_data';\n",
              "          await google.colab.output.renderOutput(dataTable, element);\n",
              "          const docLink = document.createElement('div');\n",
              "          docLink.innerHTML = docLinkHtml;\n",
              "          element.appendChild(docLink);\n",
              "        }\n",
              "      </script>\n",
              "    </div>\n",
              "  </div>\n",
              "  "
            ]
          },
          "metadata": {},
          "execution_count": 6
        }
      ],
      "source": [
        "df_all"
      ]
    },
    {
      "cell_type": "code",
      "execution_count": null,
      "metadata": {
        "colab": {
          "base_uri": "https://localhost:8080/"
        },
        "id": "BvuPB3hBm19s",
        "outputId": "b41f7739-f876-43d4-818b-b802cab2d75d",
        "cellView": "form"
      },
      "outputs": [
        {
          "output_type": "execute_result",
          "data": {
            "text/plain": [
              "array(['The Kenya Meteorological Department has predicted that the current dry and hot conditions in the country will continue to prevail. As a result, the long rains growing season that usually starts in March and ends in May will be delayed. Whether this is just a cyclical pattern or the result of climate change is a subject for a separate debate. The delayed onset of rains is already causing anxiety among farmers as they ponder on the implications of this on their yields. Maize is undoubtedly the primary staple food in Kenya. Any factor that influences maize yields is therefore of key concern to farmers. Extraneous factors such as weather patterns notwithstanding, it is important for maize farmers to pay attention to all the good standard practices needed for optimum production. Firstly, the farmer needs to understand their agro ecological zone. This helps determine the climatic conditions ideal for maize production and informs correct hybrid seed choice. At this juncture, the farmer needs to understand the soil characteristics prevalent in their field. Maize is a nutrient intensive and requires adequate supplies of all nutrients for all growth stages. Fertile, well drained, well aerated and good textured soil is able to supply these nutrients. However, soil pH determines the availability of nutrients in the soil. pH is the level of acidity or alkalinity of the soil. Maize crops grow best at a soil pH of between 5.5 and 7.3, with pH 6.0–6.5 being optimal. In this range, nitrogen, potassium, phosphorus, calcium and magnesium are readily available. Nitrogen helps in establishment of healthy leaves, phosphorus for root formation, potassium for fruiting while secondary nutrients such as calcium and magnesium among others are critical for crop physiological functions. Soil testing helps establish the available nutrients and the remedial steps that need to be undertaken in case of deficiencies. Fertile soil should be well prepared for sowing. The correct tillage method ensures ample availability of all plant nutrients, water retention and reduced incidences of pests and diseases. It is important for the farmer to prepare for sowing by selecting the correct seed. Indeed, good seed doesn’t cost, it pays. In the case of maize, “good seed” often equates to good hybrid seed. Commercially acquired certified seeds are as a standard practice dressed with a fungicide and an insecticide to prevent diseases and insects respectively. A novel and growing practice is the further dressing with beneficial microorganisms such as Panoramix to ensure robust growth characterised by well-established root system. This improves nutrient and water use efficiency, resulting in a healthy resilient crop able to achieve higher yields. In addition, the correct sowing depth will ensure uniform emergence and good plant population. During, sowing it is crucial to use the right nutrient sources which include organic manure and fertilizers. Organic manure should be applied few weeks before sowing. For better fertilizer efficiency, it is important to use the 4R principles, which are the four ‘rights’ of fertilizer management i.e. apply the right source of nutrient at the right rate, at the right time and in the right place. Maize also requires ‘booster nitrogen’ over the growing period. It is important to top dress after 25-30 days of sowing and do the final top dressing after 20-25 days of first top dressing. It should be noted that the emergence, comes with other unwanted plants that compete with maize for nutrients. It is important to remove the unwanted plants by weeding regularly. If all these steps are followed, and the weather patterns are favourable, then the farmer is guaranteed of a bumper harvest. We take this opportunity to wish all maize farmers a highly productive season. '],\n",
              "      dtype=object)"
            ]
          },
          "metadata": {},
          "execution_count": 7
        }
      ],
      "source": [
        "#@title\n",
        "df_all['Content'].values"
      ]
    },
    {
      "cell_type": "markdown",
      "source": [
        "For the second website, I am only interested in the paragraph that talks about maize conditions. It does not follow updated website standards and therefore finding the exact content will require a bit more manual filtering and using 'html.parser' rather than XML. I had to do quite a bit of inspecting the HTML elements, loop through all the paragraphs and find the ones where the start talking about maize."
      ],
      "metadata": {
        "id": "8wbIDQtk4LDv"
      }
    },
    {
      "cell_type": "code",
      "execution_count": 9,
      "metadata": {
        "colab": {
          "base_uri": "https://localhost:8080/",
          "height": 1000
        },
        "id": "bTAtdRswm19t",
        "outputId": "5e628407-5d45-46d5-d287-73e3df1be27e"
      },
      "outputs": [
        {
          "output_type": "stream",
          "name": "stderr",
          "text": [
            "ic| maize_text: ('Cotton growing in Kenya\n",
            "                '\n",
            "                 'Cotton is grown to produce cotton balls. Conditions necessary for growing '\n",
            "                 'cotton;\n",
            "                '\n",
            "                 '\n",
            "                '\n",
            "                 'Moderate rainfall.\n",
            "                '\n",
            "                 'An average temperature of 27ºC.\\xa0\n",
            "                '\n",
            "                 'Fertile and well drained black cotton soil.\\xa0\n",
            "                '\n",
            "                 'A dry spell for ripening and harvesting. A lot of rain destroys the cotton '\n",
            "                 'balls.\n",
            "                '\n",
            "                 '\n",
            "                '\n",
            "                 'The main cotton growing areas in Kenya are Siaya, Homa Bay, Tana river and '\n",
            "                 'Machakos.\n",
            "                '\n",
            "                 '\n",
            "                '\n",
            "                 'Uses of cotton\n",
            "                '\n",
            "                 'a) It is used in textile industries to make clothes, blankets and towels.\n",
            "                '\n",
            "                 'b) It is used in hospitals when dressing wounds.\n",
            "                '\n",
            "                 'c) Cotton stalks are used as fi rewood.\n",
            "                '\n",
            "                 'd) Cotton stalks and leaves are used in compost heaps to make manure.\n",
            "                '\n",
            "                 'Factors influencing the growing of cash crops\n",
            "                '\n",
            "                 '\n",
            "                '\n",
            "                 'The type of soil.\n",
            "                '\n",
            "                 'Availability of labour.\n",
            "                '\n",
            "                 'A,mount of rainfall received\n",
            "                '\n",
            "                 'Temperatures of a place\n",
            "                '\n",
            "                 'Absence of pests and diseases.\n",
            "                '\n",
            "                 'Topography.\n",
            "                '\n",
            "                 'Availability of capital\n",
            "                '\n",
            "                 'Good transport network.\n",
            "                '\n",
            "                 '\n",
            "                '\n",
            "                 'Maize growing in Kenya and Tanzania\n",
            "                '\n",
            "                 'Maize is an important food crop in Eastern Africa. However, in some areas, '\n",
            "                 'it is grown as a cash crop. Maize was introduced to Kenya by Portuguese. It '\n",
            "                 'is mainly produced on small farms, which vary in size from a quarter hectare '\n",
            "                 'to about fi ve hectares. In some cases it is grown on large plantations.\n",
            "                '\n",
            "                 '\\xa0\n",
            "                '\n",
            "                 'Conditions necessary for growing maize\n",
            "                '\n",
            "                 'a) Over 500 mm of rainfall. Therefore, it does not do well in desert and '\n",
            "                 'semi-desert\n",
            "                '\n",
            "                 'areas.\n",
            "                '\n",
            "                 'b) Maize does not do well in highland areas above 2 200 metres where '\n",
            "                 'temperatures are very low. In such areas, maize grows very slowly and takes '\n",
            "                 'more than six months to mature. It also produces poor yields.\n",
            "                '\n",
            "                 'c) It requires fertile soils. Where soils are poor, it requires manure or '\n",
            "                 'fertiliser to be\n",
            "                '\n",
            "                 'added.\n",
            "                '\n",
            "                 'd) It requires a short dry season for the maize to ripen and be harvested.\n",
            "                '\n",
            "                 'e) It needs plenty of labour during planting, weeding and harvesting.\n",
            "                '\n",
            "                 'f) On large plantations, farmers need machinery for ploughing, and spraying '\n",
            "                 'the crop.\n",
            "                '\n",
            "                 '\\xa0\n",
            "                '\n",
            "                 'Maize growing in Kenya\n",
            "                '\n",
            "                 'i) Most Kenyans grow maize as small scale farmers. The largest plantations '\n",
            "                 'are found in Nandi, Trans-Nzoia and Uasin Gishu Districts. This area is '\n",
            "                 'sometimes called the granary of Kenya because it produces maize that feeds '\n",
            "                 'people in other parts of the country, especially in urban areas. Other '\n",
            "                 'important large-scale maize farming areas are Sotik, Kipkelion and '\n",
            "                 'Londiani.\n",
            "                '\n",
            "                 'ii) In Embu, Machakos and Kitui counties, maize is grown on small farms. '\n",
            "                 'They grow Katumaini, a drought resistant variety of maize.\n",
            "                '\n",
            "                 'iii) The National Cereals and produce Board (NCPB) buys, stores and '\n",
            "                 'distributes maize on behalf of the government.\n",
            "                '\n",
            "                 '\\xa0\n",
            "                '\n",
            "                 'Maize growing in Tanzania\n",
            "                '\n",
            "                 'Almost every family in Tanzania grows maize. Maize is an important staple '\n",
            "                 'food for many communities in Tanzania. The country has similar climate to '\n",
            "                 'that of Kenya. Large-scale maize plantations are found around Arusha, '\n",
            "                 'Morogoro, Dodoma and along the shores of Lake Victoria. In these areas, '\n",
            "                 'maize is grown for food as well as for export to neighbouring countries like '\n",
            "                 'Zambia and DRC.\n",
            "                '\n",
            "                 '\\xa0\n",
            "                '\n",
            "                 'Uses of maize\n",
            "                '\n",
            "                 'a) Maize is an important food crop. It is ground into fl our and used to '\n",
            "                 'make ugali and porridge. It is also boiled together with beans and eaten as '\n",
            "                 'a whole meal.\n",
            "                '\n",
            "                 'b) Maize is used to feed chicken.\n",
            "                '\n",
            "                 'c) Maize is used to make cattle feed.\n",
            "                '\n",
            "                 'd) Dry maize cobs and stems are used as fuel.\n",
            "                '\n",
            "                 'e) Maize stems are fed to animals.\n",
            "                '\n",
            "                 'f) Maize earns farmers money. In Kenya, maize is sold to the National '\n",
            "                 'Cereals and Produce Board (NCPB) from where it is exported or stored as '\n",
            "                 'reserve for use in times of famine.')\n"
          ]
        },
        {
          "output_type": "execute_result",
          "data": {
            "text/plain": [
              "'Cotton growing in Kenya\\nCotton is grown to produce cotton balls. Conditions necessary for growing cotton;\\n\\nModerate rainfall.\\nAn average temperature of 27ºC.\\xa0\\nFertile and well drained black cotton soil.\\xa0\\nA dry spell for ripening and harvesting. A lot of rain destroys the cotton balls.\\n\\nThe main cotton growing areas in Kenya are Siaya, Homa Bay, Tana river and Machakos.\\n\\nUses of cotton\\na) It is used in textile industries to make clothes, blankets and towels.\\nb) It is used in hospitals when dressing wounds.\\nc) Cotton stalks are used as fi rewood.\\nd) Cotton stalks and leaves are used in compost heaps to make manure.\\nFactors influencing the growing of cash crops\\n\\nThe type of soil.\\nAvailability of labour.\\nA,mount of rainfall received\\nTemperatures of a place\\nAbsence of pests and diseases.\\nTopography.\\nAvailability of capital\\nGood transport network.\\n\\nMaize growing in Kenya and Tanzania\\nMaize is an important food crop in Eastern Africa. However, in some areas, it is grown as a cash crop. Maize was introduced to Kenya by Portuguese. It is mainly produced on small farms, which vary in size from a quarter hectare to about fi ve hectares. In some cases it is grown on large plantations.\\n\\xa0\\nConditions necessary for growing maize\\na) Over 500 mm of rainfall. Therefore, it does not do well in desert and semi-desert\\nareas.\\nb) Maize does not do well in highland areas above 2 200 metres where temperatures are very low. In such areas, maize grows very slowly and takes more than six months to mature. It also produces poor yields.\\nc) It requires fertile soils. Where soils are poor, it requires manure or fertiliser to be\\nadded.\\nd) It requires a short dry season for the maize to ripen and be harvested.\\ne) It needs plenty of labour during planting, weeding and harvesting.\\nf) On large plantations, farmers need machinery for ploughing, and spraying the crop.\\n\\xa0\\nMaize growing in Kenya\\ni) Most Kenyans grow maize as small scale farmers. The largest plantations are found in Nandi, Trans-Nzoia and Uasin Gishu Districts. This area is sometimes called the granary of Kenya because it produces maize that feeds people in other parts of the country, especially in urban areas. Other important large-scale maize farming areas are Sotik, Kipkelion and Londiani.\\nii) In Embu, Machakos and Kitui counties, maize is grown on small farms. They grow Katumaini, a drought resistant variety of maize.\\niii) The National Cereals and produce Board (NCPB) buys, stores and distributes maize on behalf of the government.\\n\\xa0\\nMaize growing in Tanzania\\nAlmost every family in Tanzania grows maize. Maize is an important staple food for many communities in Tanzania. The country has similar climate to that of Kenya. Large-scale maize plantations are found around Arusha, Morogoro, Dodoma and along the shores of Lake Victoria. In these areas, maize is grown for food as well as for export to neighbouring countries like Zambia and DRC.\\n\\xa0\\nUses of maize\\na) Maize is an important food crop. It is ground into fl our and used to make ugali and porridge. It is also boiled together with beans and eaten as a whole meal.\\nb) Maize is used to feed chicken.\\nc) Maize is used to make cattle feed.\\nd) Dry maize cobs and stems are used as fuel.\\ne) Maize stems are fed to animals.\\nf) Maize earns farmers money. In Kenya, maize is sold to the National Cereals and Produce Board (NCPB) from where it is exported or stored as reserve for use in times of famine.'"
            ],
            "application/vnd.google.colaboratory.intrinsic+json": {
              "type": "string"
            }
          },
          "metadata": {},
          "execution_count": 9
        }
      ],
      "source": [
        "# url to get content from\n",
        "url2 = \"https://learn.e-limu.org/topic/view/?c=48&t=272\"\n",
        "\n",
        "# send a request to get contents from the url\n",
        "maize2 = requests.get(url2)\n",
        "\n",
        "# use lxml in case pages are not correctly formatted as per HTML standards\n",
        "soup2 = BeautifulSoup(maize2.content, 'html.parser')\n",
        "\n",
        "# get the content in the div with the paragraphs, and each paragraph\n",
        "parags2 = soup2.find_all('p')\n",
        "\n",
        "text = 'Maize growing in'\n",
        "for i in parags2:\n",
        "    if text in i.text:\n",
        "        maize_text = i.text\n",
        "ic(maize_text)"
      ]
    },
    {
      "cell_type": "code",
      "execution_count": null,
      "metadata": {
        "id": "Q_CeCoG2m19t"
      },
      "outputs": [],
      "source": [
        "# slice out anything that comes before the first instance of maize in the text\n",
        "maize_text = maize_text[maize_text.find('Maize'):]\n",
        "\n",
        "# delete strange characters\n",
        "maize_text = maize_text.replace('\\xa0', '')"
      ]
    },
    {
      "cell_type": "markdown",
      "metadata": {
        "id": "-MtX91SLm19t"
      },
      "source": [
        "The output above is a good example of how even with webscraping, you still need to do cleaning to get the exact content we need because people do not follow the same practices for organizing content. The only important sections are the ones that come after \"Conditions for growing maize\". Everything else can be deleted. While it is possible to delete"
      ]
    },
    {
      "cell_type": "code",
      "execution_count": null,
      "metadata": {
        "id": "bGRFDeslm19u"
      },
      "outputs": [],
      "source": [
        "# add the contents of the new website to the dataframe\n",
        "df_all.loc[1] = ['Maize', 'Elimu', maize_text]"
      ]
    },
    {
      "cell_type": "code",
      "execution_count": null,
      "metadata": {
        "colab": {
          "base_uri": "https://localhost:8080/",
          "height": 112
        },
        "id": "95v30ZcOm19u",
        "outputId": "18b6d8b3-59d9-4189-cc69-f490638c2b0d"
      },
      "outputs": [
        {
          "output_type": "execute_result",
          "data": {
            "text/plain": [
              "   Crops  Website                                            Content\n",
              "0  Maize  Koppert  The Kenya Meteorological Department has predic...\n",
              "1  Maize    Elimu  Maize growing in Kenya and Tanzania\\nMaize is ..."
            ],
            "text/html": [
              "\n",
              "  <div id=\"df-5125bb07-3359-4c48-ab14-29ff1dfc6a6a\">\n",
              "    <div class=\"colab-df-container\">\n",
              "      <div>\n",
              "<style scoped>\n",
              "    .dataframe tbody tr th:only-of-type {\n",
              "        vertical-align: middle;\n",
              "    }\n",
              "\n",
              "    .dataframe tbody tr th {\n",
              "        vertical-align: top;\n",
              "    }\n",
              "\n",
              "    .dataframe thead th {\n",
              "        text-align: right;\n",
              "    }\n",
              "</style>\n",
              "<table border=\"1\" class=\"dataframe\">\n",
              "  <thead>\n",
              "    <tr style=\"text-align: right;\">\n",
              "      <th></th>\n",
              "      <th>Crops</th>\n",
              "      <th>Website</th>\n",
              "      <th>Content</th>\n",
              "    </tr>\n",
              "  </thead>\n",
              "  <tbody>\n",
              "    <tr>\n",
              "      <th>0</th>\n",
              "      <td>Maize</td>\n",
              "      <td>Koppert</td>\n",
              "      <td>The Kenya Meteorological Department has predic...</td>\n",
              "    </tr>\n",
              "    <tr>\n",
              "      <th>1</th>\n",
              "      <td>Maize</td>\n",
              "      <td>Elimu</td>\n",
              "      <td>Maize growing in Kenya and Tanzania\\nMaize is ...</td>\n",
              "    </tr>\n",
              "  </tbody>\n",
              "</table>\n",
              "</div>\n",
              "      <button class=\"colab-df-convert\" onclick=\"convertToInteractive('df-5125bb07-3359-4c48-ab14-29ff1dfc6a6a')\"\n",
              "              title=\"Convert this dataframe to an interactive table.\"\n",
              "              style=\"display:none;\">\n",
              "        \n",
              "  <svg xmlns=\"http://www.w3.org/2000/svg\" height=\"24px\"viewBox=\"0 0 24 24\"\n",
              "       width=\"24px\">\n",
              "    <path d=\"M0 0h24v24H0V0z\" fill=\"none\"/>\n",
              "    <path d=\"M18.56 5.44l.94 2.06.94-2.06 2.06-.94-2.06-.94-.94-2.06-.94 2.06-2.06.94zm-11 1L8.5 8.5l.94-2.06 2.06-.94-2.06-.94L8.5 2.5l-.94 2.06-2.06.94zm10 10l.94 2.06.94-2.06 2.06-.94-2.06-.94-.94-2.06-.94 2.06-2.06.94z\"/><path d=\"M17.41 7.96l-1.37-1.37c-.4-.4-.92-.59-1.43-.59-.52 0-1.04.2-1.43.59L10.3 9.45l-7.72 7.72c-.78.78-.78 2.05 0 2.83L4 21.41c.39.39.9.59 1.41.59.51 0 1.02-.2 1.41-.59l7.78-7.78 2.81-2.81c.8-.78.8-2.07 0-2.86zM5.41 20L4 18.59l7.72-7.72 1.47 1.35L5.41 20z\"/>\n",
              "  </svg>\n",
              "      </button>\n",
              "      \n",
              "  <style>\n",
              "    .colab-df-container {\n",
              "      display:flex;\n",
              "      flex-wrap:wrap;\n",
              "      gap: 12px;\n",
              "    }\n",
              "\n",
              "    .colab-df-convert {\n",
              "      background-color: #E8F0FE;\n",
              "      border: none;\n",
              "      border-radius: 50%;\n",
              "      cursor: pointer;\n",
              "      display: none;\n",
              "      fill: #1967D2;\n",
              "      height: 32px;\n",
              "      padding: 0 0 0 0;\n",
              "      width: 32px;\n",
              "    }\n",
              "\n",
              "    .colab-df-convert:hover {\n",
              "      background-color: #E2EBFA;\n",
              "      box-shadow: 0px 1px 2px rgba(60, 64, 67, 0.3), 0px 1px 3px 1px rgba(60, 64, 67, 0.15);\n",
              "      fill: #174EA6;\n",
              "    }\n",
              "\n",
              "    [theme=dark] .colab-df-convert {\n",
              "      background-color: #3B4455;\n",
              "      fill: #D2E3FC;\n",
              "    }\n",
              "\n",
              "    [theme=dark] .colab-df-convert:hover {\n",
              "      background-color: #434B5C;\n",
              "      box-shadow: 0px 1px 3px 1px rgba(0, 0, 0, 0.15);\n",
              "      filter: drop-shadow(0px 1px 2px rgba(0, 0, 0, 0.3));\n",
              "      fill: #FFFFFF;\n",
              "    }\n",
              "  </style>\n",
              "\n",
              "      <script>\n",
              "        const buttonEl =\n",
              "          document.querySelector('#df-5125bb07-3359-4c48-ab14-29ff1dfc6a6a button.colab-df-convert');\n",
              "        buttonEl.style.display =\n",
              "          google.colab.kernel.accessAllowed ? 'block' : 'none';\n",
              "\n",
              "        async function convertToInteractive(key) {\n",
              "          const element = document.querySelector('#df-5125bb07-3359-4c48-ab14-29ff1dfc6a6a');\n",
              "          const dataTable =\n",
              "            await google.colab.kernel.invokeFunction('convertToInteractive',\n",
              "                                                     [key], {});\n",
              "          if (!dataTable) return;\n",
              "\n",
              "          const docLinkHtml = 'Like what you see? Visit the ' +\n",
              "            '<a target=\"_blank\" href=https://colab.research.google.com/notebooks/data_table.ipynb>data table notebook</a>'\n",
              "            + ' to learn more about interactive tables.';\n",
              "          element.innerHTML = '';\n",
              "          dataTable['output_type'] = 'display_data';\n",
              "          await google.colab.output.renderOutput(dataTable, element);\n",
              "          const docLink = document.createElement('div');\n",
              "          docLink.innerHTML = docLinkHtml;\n",
              "          element.appendChild(docLink);\n",
              "        }\n",
              "      </script>\n",
              "    </div>\n",
              "  </div>\n",
              "  "
            ]
          },
          "metadata": {},
          "execution_count": 11
        }
      ],
      "source": [
        "df_all"
      ]
    },
    {
      "cell_type": "code",
      "source": [
        "https://infonet-biovision.org/PlantHealth/Crops/Maize"
      ],
      "metadata": {
        "id": "Ma0Fh5jA5Kk_"
      },
      "execution_count": null,
      "outputs": []
    },
    {
      "cell_type": "markdown",
      "metadata": {
        "id": "HXgTlFA-m19u"
      },
      "source": [
        "## Topic Modeling\n",
        "\n",
        "I will make use of Term Freqeuency Inverse Documemnt Frequency (TF IDF). This refers to how many times a word appears in a document and how important it is as measured by the share of sentences with the word in it. For keyword search, we need to process the text in several steps:\n",
        "1. Tokenization. This refers to splitting sentences into the simplest forms that is words and phrases\n",
        "2. Removing stop words. Stop words are words that are useful for semantic reasons but do not add meaning to the text eg 'the', 'a', 'and'\n",
        "3. Calculating Term Frequency. This will count how many times a word appears in the text\n",
        "4. Calculting IDF. This will check the share of each word in the sentences\n",
        "\n",
        "### Importing Necessary Libraries"
      ]
    },
    {
      "cell_type": "code",
      "execution_count": null,
      "metadata": {
        "id": "9R_ftuzom19u"
      },
      "outputs": [],
      "source": [
        "# !pip3 install gensim\n"
      ]
    },
    {
      "cell_type": "code",
      "execution_count": null,
      "metadata": {
        "colab": {
          "base_uri": "https://localhost:8080/"
        },
        "id": "XZv1kO01m19v",
        "outputId": "e8cd6f5a-ccc2-43d6-9dcd-cfb7fc0d1291"
      },
      "outputs": [
        {
          "output_type": "stream",
          "name": "stdout",
          "text": [
            "[nltk_data] Downloading package stopwords to /root/nltk_data...\n",
            "[nltk_data]   Package stopwords is already up-to-date!\n",
            "[nltk_data] Downloading package punkt to /root/nltk_data...\n",
            "[nltk_data]   Package punkt is already up-to-date!\n"
          ]
        }
      ],
      "source": [
        "from operator import itemgetter\n",
        "import math\n",
        "import matplotlib.pyplot as plt\n",
        "\n",
        "import nltk\n",
        "# for removing stopwords and tokenizing words\n",
        "nltk.download('stopwords')\n",
        "\n",
        "# for dealing with punctuations\n",
        "nltk.download('punkt')\n",
        "from nltk.corpus import stopwords\n",
        "from nltk.tokenize import word_tokenize, sent_tokenize\n"
      ]
    },
    {
      "cell_type": "code",
      "execution_count": null,
      "metadata": {
        "id": "zpifD_HAm19v"
      },
      "outputs": [],
      "source": [
        "# remove stop words from sentences \n",
        "stop_words = set(stopwords.words('english'))"
      ]
    },
    {
      "cell_type": "code",
      "execution_count": null,
      "metadata": {
        "id": "tJcjLo8Nm19v"
      },
      "outputs": [],
      "source": [
        "# plot the distribution of words"
      ]
    },
    {
      "cell_type": "code",
      "execution_count": null,
      "metadata": {
        "id": "UtqCqB6Km19v"
      },
      "outputs": [],
      "source": [
        "def n_words(text, n=-1):\n",
        "    '''Function to get n number of tokenized words from a given blob of text\n",
        "    Input:\n",
        "     str (text): Text to be tokenized\n",
        "     int (n): number of words to return after tokenizing text\n",
        "     default: -1, shows all the sentences\n",
        "    Output:\n",
        "     str: n number of tokenized words\n",
        "    '''\n",
        "    token_words = word_tokenize(text.lower())[:n]\n",
        "    return token_words"
      ]
    },
    {
      "cell_type": "code",
      "execution_count": null,
      "metadata": {
        "colab": {
          "base_uri": "https://localhost:8080/"
        },
        "id": "CDxrHVeem19v",
        "outputId": "128174a5-ea50-4c10-818a-2a77fc77c80a"
      },
      "outputs": [
        {
          "output_type": "stream",
          "name": "stdout",
          "text": [
            "Total number of words is : 678\n",
            "last 10 words: ['opportunity', 'to', 'wish', 'all', 'maize', 'farmers', 'a', 'highly', 'productive', 'season']\n"
          ]
        }
      ],
      "source": [
        "# for computing TF, get all the words\n",
        "total_words1 = n_words(df_all[\"Content\"][0])\n",
        "word_length1 = len(total_words1)\n",
        "print(f\"Total number of words is : {word_length1}\")\n",
        "print(f\"last 10 words: {total_words1[668:]}\")"
      ]
    },
    {
      "cell_type": "code",
      "execution_count": null,
      "metadata": {
        "colab": {
          "base_uri": "https://localhost:8080/"
        },
        "id": "pAEQ9AIOm19v",
        "outputId": "42c1dbc7-8c59-4c95-b81f-dc413ed25c29"
      },
      "outputs": [
        {
          "output_type": "stream",
          "name": "stdout",
          "text": [
            "Total number of words is : 522\n",
            "last 10 words: ['or', 'stored', 'as', 'reserve', 'for', 'use', 'in', 'times', 'of', 'famine']\n"
          ]
        }
      ],
      "source": [
        "# for computing TF, get all the words\n",
        "total_words2 = n_words(df_all[\"Content\"][1])\n",
        "word_length2 = len(total_words2)\n",
        "print(f\"Total number of words is : {word_length2}\")\n",
        "print(f\"last 10 words: {total_words2[512:]}\")"
      ]
    },
    {
      "cell_type": "code",
      "execution_count": null,
      "metadata": {
        "id": "y17WU9lMm19w"
      },
      "outputs": [],
      "source": [
        "def n_sentens(text, n=-1):\n",
        "    '''Function to get n number of tokenized sentences from a given blob of text\n",
        "    n=-1 to see all the sentences.\n",
        "    Input:\n",
        "        str (text): Several sentences to be tokenized\n",
        "        int (n): number of sentences to return after tokenizing text\n",
        "            default: -1, shows all the sentences\n",
        "    Output:\n",
        "        str (sent_print): n number of tokenized sentences for print display\n",
        "        array (token_sent): list with n number of tokenized sentences\n",
        "    '''\n",
        "    token_sent = sent_tokenize(text)[:n]\n",
        "    sent_print = \"\\n\".join(sent_tokenize(text)[:n])\n",
        "    return token_sent, sent_print"
      ]
    },
    {
      "cell_type": "code",
      "execution_count": null,
      "metadata": {
        "id": "Jn53pDS5m19w"
      },
      "outputs": [],
      "source": [
        "token_sent10, print_sent10 = n_sentens(df_all[\"Content\"][0],10)"
      ]
    },
    {
      "cell_type": "code",
      "execution_count": null,
      "metadata": {
        "colab": {
          "base_uri": "https://localhost:8080/"
        },
        "id": "taY0lBfFm19w",
        "outputId": "7493706e-5985-46a5-daef-8fb9c1908244"
      },
      "outputs": [
        {
          "output_type": "stream",
          "name": "stdout",
          "text": [
            "First 10 sentences:\n",
            "The Kenya Meteorological Department has predicted that the current dry and hot conditions in the country will continue to prevail.\n",
            "As a result, the long rains growing season that usually starts in March and ends in May will be delayed.\n",
            "Whether this is just a cyclical pattern or the result of climate change is a subject for a separate debate.\n",
            "The delayed onset of rains is already causing anxiety among farmers as they ponder on the implications of this on their yields.\n",
            "Maize is undoubtedly the primary staple food in Kenya.\n",
            "Any factor that influences maize yields is therefore of key concern to farmers.\n",
            "Extraneous factors such as weather patterns notwithstanding, it is important for maize farmers to pay attention to all the good standard practices needed for optimum production.\n",
            "Firstly, the farmer needs to understand their agro ecological zone.\n",
            "This helps determine the climatic conditions ideal for maize production and informs correct hybrid seed choice.\n",
            "At this juncture, the farmer needs to understand the soil characteristics prevalent in their field.\n"
          ]
        }
      ],
      "source": [
        "print(f\"First 10 sentences:\\n{print_sent10}\")"
      ]
    },
    {
      "cell_type": "code",
      "execution_count": null,
      "metadata": {
        "colab": {
          "base_uri": "https://localhost:8080/"
        },
        "id": "ZNPjWLmKm19w",
        "outputId": "41140752-5f97-4083-cf48-e04a9ab7b4ca"
      },
      "outputs": [
        {
          "output_type": "execute_result",
          "data": {
            "text/plain": [
              "['The Kenya Meteorological Department has predicted that the current dry and hot conditions in the country will continue to prevail.',\n",
              " 'As a result, the long rains growing season that usually starts in March and ends in May will be delayed.',\n",
              " 'Whether this is just a cyclical pattern or the result of climate change is a subject for a separate debate.',\n",
              " 'The delayed onset of rains is already causing anxiety among farmers as they ponder on the implications of this on their yields.',\n",
              " 'Maize is undoubtedly the primary staple food in Kenya.',\n",
              " 'Any factor that influences maize yields is therefore of key concern to farmers.',\n",
              " 'Extraneous factors such as weather patterns notwithstanding, it is important for maize farmers to pay attention to all the good standard practices needed for optimum production.',\n",
              " 'Firstly, the farmer needs to understand their agro ecological zone.',\n",
              " 'This helps determine the climatic conditions ideal for maize production and informs correct hybrid seed choice.',\n",
              " 'At this juncture, the farmer needs to understand the soil characteristics prevalent in their field.']"
            ]
          },
          "metadata": {},
          "execution_count": 22
        }
      ],
      "source": [
        "token_sent10"
      ]
    },
    {
      "cell_type": "code",
      "execution_count": null,
      "metadata": {
        "id": "iG-7m9iTm19w"
      },
      "outputs": [],
      "source": [
        "# #print(f\"last 10 words: {total_sent1[668:]}\")\n",
        "# for i in df_all['Content']:\n",
        "#     total_sent += sent_tokenize(i)\n",
        "# sent_length = len(total_sent)\n",
        "# print(f\"Total number of sentences is : {sent_length}\")\n",
        "# print(f\"First 10 sentences: {total_sent[:9]}\")"
      ]
    },
    {
      "cell_type": "code",
      "execution_count": null,
      "metadata": {
        "colab": {
          "base_uri": "https://localhost:8080/"
        },
        "id": "EXoBD89Gm19w",
        "outputId": "4be50d75-df67-4277-bbba-74782d8fe818"
      },
      "outputs": [
        {
          "output_type": "stream",
          "name": "stdout",
          "text": [
            "Total number of sentences is : 36\n"
          ]
        }
      ],
      "source": [
        "# for computing IDF,  get all the sentences\n",
        "total_sent1, print_total_se = n_sentens(df_all[\"Content\"][0])\n",
        "sent_length1 = len(total_sent1)\n",
        "print(f\"Total number of sentences is : {sent_length1}\")"
      ]
    },
    {
      "cell_type": "code",
      "execution_count": null,
      "metadata": {
        "colab": {
          "base_uri": "https://localhost:8080/"
        },
        "id": "04ft5PpEm19x",
        "outputId": "99285c0b-e595-4746-a209-578db9ec8ba8"
      },
      "outputs": [
        {
          "output_type": "stream",
          "name": "stdout",
          "text": [
            "Total number of sentences is : 35\n",
            "First 10 sentences: ['Maize growing in Kenya and Tanzania\\nMaize is an important food crop in Eastern Africa.', 'However, in some areas, it is grown as a cash crop.', 'Maize was introduced to Kenya by Portuguese.', 'It is mainly produced on small farms, which vary in size from a quarter hectare to about fi ve hectares.', 'In some cases it is grown on large plantations.', 'Conditions necessary for growing maize\\na) Over 500 mm of rainfall.', 'Therefore, it does not do well in desert and semi-desert\\nareas.', 'b) Maize does not do well in highland areas above 2 200 metres where temperatures are very low.', 'In such areas, maize grows very slowly and takes more than six months to mature.']\n"
          ]
        }
      ],
      "source": [
        "# second website\n",
        "# for computing IDF,  get all the sentences\n",
        "total_sent2, print_total_se2 = n_sentens(df_all[\"Content\"][1])\n",
        "sent_length2 = len(total_sent2)\n",
        "print(f\"Total number of sentences is : {sent_length2}\")\n",
        "print(f\"First 10 sentences: {total_sent2[:9]}\")"
      ]
    },
    {
      "cell_type": "markdown",
      "metadata": {
        "id": "w8R3K-Alm19x"
      },
      "source": [
        "#### Plotting Total Words \n",
        "\n",
        "Before computing the tf and IDF scores, we can plot the frequency distribution of total tokenized words. These will contain stop words and punctuation marks which are removed in computing the TF IDF"
      ]
    },
    {
      "cell_type": "code",
      "execution_count": null,
      "metadata": {
        "colab": {
          "base_uri": "https://localhost:8080/",
          "height": 650
        },
        "id": "yfwgGJHqm19x",
        "outputId": "5014e783-e998-4f98-ea3c-e0484fce97df"
      },
      "outputs": [
        {
          "output_type": "display_data",
          "data": {
            "text/plain": [
              "<Figure size 432x288 with 1 Axes>"
            ],
            "image/png": "[encoded data removed]"
          },
          "metadata": {
            "needs_background": "light"
          }
        },
        {
          "output_type": "display_data",
          "data": {
            "text/plain": [
              "<Figure size 432x288 with 1 Axes>"
            ],
            "image/png": "[encoded data removed]"
          },
          "metadata": {
            "needs_background": "light"
          }
        }
      ],
      "source": [
        "# Figures inline\n",
        "%matplotlib inline\n",
        "\n",
        "# Create freq dist and plot\n",
        "freqdist1 = nltk.FreqDist(total_words1)\n",
        "freqdist2 = nltk.FreqDist(total_words2)\n",
        "freqdist1.plot(25)\n",
        "freqdist2.plot(25);"
      ]
    },
    {
      "cell_type": "markdown",
      "metadata": {
        "id": "TYTDQHpTm19x"
      },
      "source": [
        "It is evident that to get a better representation, stop words and punctuations need to be removed. "
      ]
    },
    {
      "cell_type": "code",
      "execution_count": null,
      "metadata": {
        "colab": {
          "base_uri": "https://localhost:8080/"
        },
        "id": "gpj1_goPm19x",
        "outputId": "6a231eb1-8de8-4350-f00c-fd1b1c2d67c7"
      },
      "outputs": [
        {
          "output_type": "stream",
          "name": "stdout",
          "text": [
            "[('kenya', 0.0029498525073746312), ('meteorological', 0.0014749262536873156), ('department', 0.0014749262536873156), ('predicted', 0.0014749262536873156), ('current', 0.0014749262536873156), ('dry', 0.0014749262536873156), ('hot', 0.0014749262536873156), ('conditions', 0.0029498525073746312), ('country', 0.0014749262536873156), ('continue', 0.0014749262536873156)]\n"
          ]
        }
      ],
      "source": [
        "# computing the tf score\n",
        "def compute_tf_score(tot_words):\n",
        "    '''\n",
        "    Function to compute the term frequency score for the words\n",
        "    Input:\n",
        "        arr (tot_words): list of the tokenized words generated\n",
        "    Output:\n",
        "        dict (tf_score): key/value pair of word and it's tf score\n",
        "    '''\n",
        "    # empty dict to store the term frequency score\n",
        "    tf_score = {}\n",
        "\n",
        "    # loop through, remove all punctuations\n",
        "    for word in tot_words:\n",
        "        word = word.replace('.','')\n",
        "        word = word.replace(',','')\n",
        "        word = word.replace('’','')\n",
        "        word = word.replace('‘','')\n",
        "\n",
        "        # if the word in a stop word, \n",
        "        # then get it's tf_score and add it to the dict\n",
        "        if word not in stop_words:\n",
        "            if word in tf_score:\n",
        "                tf_score[word] += 1\n",
        "            else:\n",
        "                tf_score[word] = 1\n",
        "                \n",
        "    # divide by word_len for each dic element\n",
        "    word_len = len(tot_words)\n",
        "    tf_score.update((x, y/int(word_len)) for x, y in tf_score.items())\n",
        "    return tf_score\n",
        "\n",
        "# tf score for the first website\n",
        "tf_score1 = compute_tf_score(total_words1)\n",
        "print(list(tf_score1.items())[:10])"
      ]
    },
    {
      "cell_type": "code",
      "execution_count": null,
      "metadata": {
        "colab": {
          "base_uri": "https://localhost:8080/"
        },
        "id": "rFaAaKZNm19x",
        "outputId": "ca29f670-1c60-4a62-b711-5d6e9000cb52"
      },
      "outputs": [
        {
          "output_type": "stream",
          "name": "stdout",
          "text": [
            "[('maize', 0.05172413793103448), ('growing', 0.007662835249042145), ('kenya', 0.011494252873563218), ('tanzania', 0.007662835249042145), ('important', 0.007662835249042145), ('food', 0.007662835249042145), ('crop', 0.007662835249042145), ('eastern', 0.0019157088122605363), ('africa', 0.0019157088122605363), ('', 0.1053639846743295)]\n"
          ]
        }
      ],
      "source": [
        "# tf score for the second website\n",
        "tf_score2 = compute_tf_score(total_words2)\n",
        "print(list(tf_score2.items())[:10])"
      ]
    },
    {
      "cell_type": "code",
      "execution_count": null,
      "metadata": {
        "id": "AYeg4DIZm19x"
      },
      "outputs": [],
      "source": [
        "# combining words from both websites\n",
        "total_words_all = total_words1 + total_words2"
      ]
    },
    {
      "cell_type": "code",
      "execution_count": null,
      "metadata": {
        "colab": {
          "base_uri": "https://localhost:8080/"
        },
        "id": "9d2Jvq2Tm19y",
        "outputId": "2e11eead-b8d9-4ce6-c987-dbd3881240ab"
      },
      "outputs": [
        {
          "output_type": "stream",
          "name": "stdout",
          "text": [
            "[('kenya', 0.006666666666666667), ('meteorological', 0.0008333333333333334), ('department', 0.0008333333333333334), ('predicted', 0.0008333333333333334), ('current', 0.0008333333333333334), ('dry', 0.0025), ('hot', 0.0008333333333333334), ('conditions', 0.0025), ('country', 0.0025), ('continue', 0.0008333333333333334)]\n"
          ]
        }
      ],
      "source": [
        "# tf score for the second website\n",
        "tf_score_all = compute_tf_score(total_words_all)\n",
        "print(list(tf_score_all.items())[:10])"
      ]
    },
    {
      "cell_type": "code",
      "execution_count": null,
      "metadata": {
        "id": "oumOCIkWm19y"
      },
      "outputs": [],
      "source": [
        "# calculating IDF\n",
        "\n",
        "def check_sent(word, sentences): \n",
        "    final = [all([w in x for w in word]) for x in sentences] \n",
        "    sent_len = [sentences[i] for i in range(0, len(final)) if final[i]]\n",
        "    return int(len(sent_len))"
      ]
    },
    {
      "cell_type": "code",
      "execution_count": null,
      "metadata": {
        "colab": {
          "base_uri": "https://localhost:8080/"
        },
        "id": "ipFDTxeTm19y",
        "outputId": "d5a34108-dbb5-4a59-9bbb-d23474644425"
      },
      "outputs": [
        {
          "output_type": "stream",
          "name": "stdout",
          "text": [
            "[('kenya', 2.8903717578961645), ('meteorological', 3.58351893845611), ('department', 3.58351893845611), ('predicted', 3.58351893845611), ('current', 3.58351893845611), ('dry', 3.58351893845611), ('hot', 3.58351893845611), ('conditions', 0.36464311358790924), ('country', 3.58351893845611), ('continue', 3.58351893845611)]\n"
          ]
        }
      ],
      "source": [
        "from string import punctuation\n",
        "# computing the idf score\n",
        "def compute_idf_score(tot_words, tot_sent):\n",
        "    '''\n",
        "    Function to compute the inverse document frequency score for the words\n",
        "    Input:\n",
        "        arr (tot_words): list of the tokenized words generated\n",
        "        arr (tot_sent): list of all the tokenized sentences\n",
        "    Output:\n",
        "        dict (idf_score): key/value pair of word and it's tf score\n",
        "    '''\n",
        "\n",
        "    # initialize empty dict to compute IDF\n",
        "    idf_score = {}\n",
        "\n",
        "    # remove punctuations for all the words\n",
        "    for word in tot_words:\n",
        "        word = word.replace('.','')\n",
        "        word = word.replace(',','')\n",
        "        word = word.replace('’','')\n",
        "        word = word.replace('‘','')\n",
        "        word = word.replace('(','')\n",
        "        word = word.replace(')','')\n",
        "        \n",
        "        # if the word is not a stop_word, compute the IDF score and append to dict\n",
        "        if word not in stop_words:\n",
        "            if word in idf_score:\n",
        "                idf_score[word] = check_sent(word, tot_sent)\n",
        "            else:\n",
        "                idf_score[word] = 1\n",
        "\n",
        "    # get the length of the list of sentences\n",
        "    sent_len = len(tot_sent)\n",
        "    \n",
        "    # Performing a log and divide\n",
        "    idf_score.update((x, math.log(int(sent_len)/y)) for x, y in idf_score.items())\n",
        "\n",
        "    return idf_score\n",
        "\n",
        "# idf score for first website\n",
        "idf_score1 = compute_idf_score(total_words1, total_sent1)\n",
        "print(list(idf_score1.items())[:10])"
      ]
    },
    {
      "cell_type": "code",
      "execution_count": null,
      "metadata": {
        "colab": {
          "base_uri": "https://localhost:8080/"
        },
        "id": "paeIfQogm19y",
        "outputId": "2f08a043-1303-467b-f3b4-db2033e1ffe7"
      },
      "outputs": [
        {
          "output_type": "stream",
          "name": "stdout",
          "text": [
            "[('maize', 0.5108256237659907), ('growing', 0.9162907318741551), ('kenya', 3.5553480614894135), ('tanzania', 0.4643056081310978), ('important', 0.7827593392496325), ('food', 0.41985384556026406), ('crop', 0.9162907318741551), ('eastern', 3.5553480614894135), ('africa', 3.5553480614894135), ('', 0.0)]\n"
          ]
        }
      ],
      "source": [
        "# idf score for second website\n",
        "idf_score2 = compute_idf_score(total_words2, total_sent2)\n",
        "print(list(idf_score2.items())[:10])"
      ]
    },
    {
      "cell_type": "code",
      "execution_count": null,
      "metadata": {
        "colab": {
          "base_uri": "https://localhost:8080/"
        },
        "id": "z9PwgNO2m19y",
        "outputId": "724754a6-816b-44d6-add5-d53498c0bd3c"
      },
      "outputs": [
        {
          "output_type": "stream",
          "name": "stdout",
          "text": [
            "[('kenya', 0.008526170377274822), ('meteorological', 0.005285426162914616), ('department', 0.005285426162914616), ('predicted', 0.005285426162914616), ('current', 0.005285426162914616), ('dry', 0.005285426162914616), ('hot', 0.005285426162914616), ('conditions', 0.0010756434029141864), ('country', 0.005285426162914616), ('continue', 0.005285426162914616)]\n"
          ]
        }
      ],
      "source": [
        "# compute tfidf\n",
        "tf_idf_score1 = {key: tf_score1[key] * idf_score1.get(key, 0) for key in tf_score1.keys()}\n",
        "print(list(tf_idf_score1.items())[:10])"
      ]
    },
    {
      "cell_type": "code",
      "execution_count": null,
      "metadata": {
        "colab": {
          "base_uri": "https://localhost:8080/"
        },
        "id": "0sX18nDzm19y",
        "outputId": "193a3ea6-c419-46f5-f86e-ecb2e232e71a"
      },
      "outputs": [
        {
          "output_type": "stream",
          "name": "stdout",
          "text": [
            "[('kenya', 0.008526170377274822), ('meteorological', 0.005285426162914616), ('department', 0.005285426162914616), ('predicted', 0.005285426162914616), ('current', 0.005285426162914616), ('dry', 0.005285426162914616), ('hot', 0.005285426162914616), ('conditions', 0.0010756434029141864), ('country', 0.005285426162914616), ('continue', 0.005285426162914616)]\n"
          ]
        }
      ],
      "source": [
        "# compute tfidf\n",
        "tf_idf_score2 = {key: tf_score2[key] * idf_score2.get(key, 0) for key in tf_score2.keys()}\n",
        "print(list(tf_idf_score1.items())[:10])"
      ]
    },
    {
      "cell_type": "markdown",
      "metadata": {
        "id": "1nntEXHmm19y"
      },
      "source": [
        "#### Top n Words\n",
        "\n",
        "Now that we have the computed the term frequency and inverse document frequency, we can see which are the top words per website and see if any new patterns emerge. We can plot them for better visualization and even have a wordcloud to visually represent them better."
      ]
    },
    {
      "cell_type": "code",
      "execution_count": null,
      "metadata": {
        "id": "lfm2goF1m19y"
      },
      "outputs": [],
      "source": [
        "def get_top_n(tfidf_score, n):\n",
        "    '''Function to get the top n words/important words\n",
        "    Input:\n",
        "        dict (dict_elem): dictionary containing tf_idf_scores\n",
        "        int (n): number of top words to get\n",
        "    Output:\n",
        "        dict: the top n words by their tfidf scores\n",
        "        \n",
        "    '''\n",
        "    result = dict(sorted(tfidf_score.items(), key = itemgetter(1), reverse = True)[:n]) \n",
        "    return result"
      ]
    },
    {
      "cell_type": "code",
      "execution_count": null,
      "metadata": {
        "colab": {
          "base_uri": "https://localhost:8080/"
        },
        "id": "M_W6WBvLm19z",
        "outputId": "e1df546c-f72e-4ee8-95ad-60059878cf12"
      },
      "outputs": [
        {
          "output_type": "stream",
          "name": "stdout",
          "text": [
            "{'maize': 0.018892829579086494, 'kenya': 0.008526170377274822, 'requires': 0.006481488428720411, 'meteorological': 0.005285426162914616, 'department': 0.005285426162914616, 'predicted': 0.005285426162914616, 'current': 0.005285426162914616, 'dry': 0.005285426162914616, 'hot': 0.005285426162914616, 'country': 0.005285426162914616, 'continue': 0.005285426162914616, 'prevail': 0.005285426162914616, 'long': 0.005285426162914616, 'usually': 0.005285426162914616, 'starts': 0.005285426162914616}\n"
          ]
        }
      ],
      "source": [
        "# get the top n number of words for first website\n",
        "topn1 = get_top_n(tf_idf_score1, 15)\n",
        "print(topn1)"
      ]
    },
    {
      "cell_type": "code",
      "execution_count": null,
      "metadata": {
        "colab": {
          "base_uri": "https://localhost:8080/"
        },
        "id": "kKMmSSi8m19z",
        "outputId": "f5126bc5-9de3-406f-f441-51887b65c541"
      },
      "outputs": [
        {
          "output_type": "stream",
          "name": "stdout",
          "text": [
            "{'kenya': 0.04086606967229211, 'maize': 0.02642201502237883, 'requires': 0.012465825864192662, 'large-scale': 0.009412780738778942, 'ncpb': 0.00831055057612844, 'growing': 0.0070213849185759005, 'crop': 0.0070213849185759005, 'grown': 0.0070213849185759005, 'plantations': 0.0070213849185759005, 'eastern': 0.006811011612048685, 'africa': 0.006811011612048685, 'however': 0.006811011612048685, 'cash': 0.006811011612048685, 'introduced': 0.006811011612048685, 'portuguese': 0.006811011612048685}\n"
          ]
        }
      ],
      "source": [
        "# get the top n number of words for second website\n",
        "topn2 = get_top_n(tf_idf_score2, 15)\n",
        "print(topn2)"
      ]
    },
    {
      "cell_type": "code",
      "execution_count": null,
      "metadata": {
        "colab": {
          "base_uri": "https://localhost:8080/",
          "height": 679
        },
        "id": "0FmNIQrrm19z",
        "outputId": "b5a25b51-2144-4200-fdc3-8de99cfc229c"
      },
      "outputs": [
        {
          "output_type": "display_data",
          "data": {
            "text/plain": [
              "<Figure size 432x288 with 1 Axes>"
            ],
            "image/png": "[encoded data removed]"
          },
          "metadata": {}
        },
        {
          "output_type": "display_data",
          "data": {
            "text/plain": [
              "<Figure size 432x288 with 1 Axes>"
            ],
            "image/png": "[encoded data removed]"
          },
          "metadata": {}
        }
      ],
      "source": [
        "import matplotlib.pyplot as plt\n",
        "import seaborn as sns\n",
        "\n",
        "# Figures inline and set visualization style\n",
        "%matplotlib inline\n",
        "sns.set()\n",
        "\n",
        "# Create freq dist and plot\n",
        "freqdist1 = nltk.FreqDist(topn1)\n",
        "freqdist2 = nltk.FreqDist(topn2)\n",
        "freqdist1.plot(25)\n",
        "freqdist2.plot(25);"
      ]
    },
    {
      "cell_type": "code",
      "execution_count": null,
      "metadata": {
        "id": "lstkH75Im19z"
      },
      "outputs": [],
      "source": [
        "# Define a function to plot word cloud\n",
        "def plot_cloud(wordcloud):\n",
        "    # Set figure size\n",
        "    plt.figure(figsize=(20, 10))\n",
        "    # Display image\n",
        "    plt.imshow(wordcloud) \n",
        "    # No axis details\n",
        "    plt.axis(\"off\");"
      ]
    },
    {
      "cell_type": "code",
      "execution_count": null,
      "metadata": {
        "id": "BSLC64wTm19z"
      },
      "outputs": [],
      "source": [
        "#!pip3 install wordcloud\n",
        "from wordcloud import WordCloud, STOPWORDS\n"
      ]
    },
    {
      "cell_type": "code",
      "execution_count": null,
      "metadata": {
        "id": "e68rWVVZm19z"
      },
      "outputs": [],
      "source": [
        "# get the top x number of words\n",
        "top_x1 = [i for i in topn1.keys()]\n",
        "\n",
        "# Generate word cloud\n",
        "wordcloud1 = WordCloud(width= 3000, height = 2000, random_state=1, \n",
        "                      background_color='salmon', colormap='Pastel1', \n",
        "                      collocations=False, stopwords = STOPWORDS).generate(str(top_x1))"
      ]
    },
    {
      "cell_type": "code",
      "execution_count": null,
      "metadata": {
        "id": "AjO8sOSJm19z"
      },
      "outputs": [],
      "source": [
        "# get the top x number of words)\n",
        "top_x2 = [i for i in topn2.keys()]\n",
        "\n",
        "# Generate word cloud\n",
        "wordcloud2 = WordCloud(width= 3000, height = 2000, random_state=1, \n",
        "                      background_color='white', colormap='Paired', \n",
        "                      collocations=False, stopwords = STOPWORDS).generate(str(top_x2))"
      ]
    },
    {
      "cell_type": "code",
      "execution_count": null,
      "metadata": {
        "colab": {
          "base_uri": "https://localhost:8080/",
          "height": 1000
        },
        "id": "IIzVpXRIm19z",
        "outputId": "daa3303f-b389-4237-a9ac-369090742dd7"
      },
      "outputs": [
        {
          "output_type": "display_data",
          "data": {
            "text/plain": [
              "<Figure size 1440x720 with 1 Axes>"
            ],
            "image/png": "[encoded data removed]"
          },
          "metadata": {}
        },
        {
          "output_type": "display_data",
          "data": {
            "text/plain": [
              "<Figure size 1440x720 with 1 Axes>"
            ],
            "image/png": "[encoded data removed]"
          },
          "metadata": {}
        }
      ],
      "source": [
        "plot_cloud(wordcloud1)\n",
        "plot_cloud(wordcloud2)"
      ]
    },
    {
      "cell_type": "markdown",
      "metadata": {
        "id": "rTAcaUu3m19z"
      },
      "source": [
        "Unsurprisingly, Kenya and maize are among the top words in the websites. An interesting observation is that requires is also a top word which means that we can use this as a basis to extract useful summary using requires as a keyword. It may be used to directly refer to the crop requirements. "
      ]
    },
    {
      "cell_type": "markdown",
      "metadata": {
        "id": "8H2dXMrTm19z"
      },
      "source": [
        "## Summarization\n",
        "\n",
        "With summarization being a relatively new area of machine learning, there is no one fits all model that can summarize text best. This is a general text in machine learning where though certain algorithms/models are known to work well for certain situations, it is always a good idea to try different algorithms that also work to see which is best. Therefore I will try several models and check their summarization.\n",
        "\n",
        "The second problem with summarization is that it's harder to compute metrics because we are comparing a summary to the original text. This is where `rouge_score` comes in handy. In an ideal situation, we would have a human generated summary of the text and compare that to the ML generated summary. The `rouge_score` on these two summaries would compare the precision, recall and f1 and determine how close the model came to providing a succint summary. For this case however, we do not have a human generated summary. Instead, we can get the first and last tokenized sentences of the unsummarized text and compare that with the fast and last sentences of the summary given that they are similar sentences. We can then use this score to check which model performs best. \n",
        "\n",
        "For the best performing model, I will tune the hyperparameters. I am also curious to see the difference in summarization for entire paragraphs vs tokenized sentences. My suspicion is that entire paragraph summarization will have a better flow to a ready. \n",
        "\n",
        "There are two types of summarizations I am interested in:\n",
        "1. Abstractive Summarization: This type of summarization, as the name suggests, gives an abstract of the text and may include rewriting some of the text to be less verbose and more coherent. This is useful to someone who wants to get a basic gist of what the website content is\n",
        "2. Extractive Summarization: This type of summarization is useful for extracting the most useful pieces of information from text. It can be based on getting the text with the most common non-stop words or getting text with specific keywords. This is useful when someone is looking for specific things such as the temperature for a given crop.\n",
        "\n",
        "### Abstractive Summarization\n",
        "\n",
        "Anyone who has done anything related to abstractive text summarization knows that one of the very first go to approaches is to use the Encoder-Decoder LSTM (Long Short Term Memory) model which is a type of Recurrent Neural Network. Specifically, they make use of encoders and decoders to understand text and provide summaries. The encoders work by having an internal, often vector, representation of words that is fed into the neural network to obtain a summary based on analysis of words one by one. It therefore 'remembers' whether a word is important or not based on the connections between the previous state. Under the hood, it uses the markov chain concept and words that are kept in the sequence are determined by a probability of importance based on their dependencies. The Network then keeps a memory of this dependencies over many words and therefore is long-term. The decoder on the other hand takes the output of the network and using a mapping based on the encoder, converts the internal vector representation back into text that is legible. The limitation of the LSTM is that it is sequential and only checks the importance of words sequentially. This means that it does not get the context of the entire sentence at a go. An additional step of using Attention helps to try and resolve this (I discuss more on attention below). Additionally, it works best if it has reference point of an expected summary to produce.\n",
        "\n",
        "With that said, we want people to get useful summaries and we are scraping data which does not have prewritten summaries. Therefore I will use Transformers with pretrained models. Transformers are a clever adaptation of the LSTM models described above. They make use of convolutional neural networks, self-attention and encoder-decoders to give a coherent summary that maintains the message fo the text. Internally, transformers have encoders and decoders that work in tandem with self-attention layers. The self-attention is a property that is multi-step that allows embedding of words into vectors, determining the importnace of words not just as dependent on the previous word but as a component of the entire sentence. This non-sequential factor allows the vectorized words to be assigned a score of importance and given a probability that determines whether or not it is relevant. This works in parallel across sentences to determine which words have clear significance so that they can be decoded and returned as output in a new paraphrased summary. Lastly, they use positional encodings which gives information about the relationship between words based on their positions in the vector space represenation and consequently in the document. Just like the objective of the abstractive summarization, my discussion of how LSTM, BERT and Transformers is an abstract in itself and leaves out a lot details but delivers the key ideas of the models. \n",
        "\n",
        "Another important thing to note is that for LSTM, I would define the neural networks, encoders and decoders from scratch ie with keras while for Transformers, I will use pre-trained models and finetune the best performing. \n",
        "\n",
        "I will use the following transformers:\n",
        "1. BERT: this is bidirectional encoder representations from transformers. It is the fundamental definition of transformers. While bidirectional may imply it reads text left to right then right to left, it actually means that it is non-directional, that is it reads the entire sequence of words at a go. This makes it good for summarization.  \n",
        "2. GPT2: this is Generative Pre-trained Transformer 2. It is mainly for text generation based on the previous context of the words in the sequence. It works for abstractive summarization because we want to generate a new shorter summary that captures the essence of text based on the context.\n",
        "3. BART: This is a generalization of BERT and GPT2 which was pretrained on CNN news articles with the intention of providing summaries by the model learning to reconstruct the original text. \n",
        "4. T5: This is an encoder-decoder model pre-trained on supervised and unsupervised tasks and makses use of the power of transfer learning. \n",
        "5. XLNet: "
      ]
    },
    {
      "cell_type": "code",
      "execution_count": null,
      "metadata": {
        "id": "QIOGKeDIm190"
      },
      "outputs": [],
      "source": [
        "# !pip3 install spacy -U\n",
        "# !pip3 install Sentencepiece -U\n",
        "# !pip3 install huggingface transformers -U\n",
        "# !pip3 install transformers\n",
        "# !pip3 install bert-extractive-summarizer -U\n",
        "# !pip3 install icecream\n",
        "# !pip3 install torch -U"
      ]
    },
    {
      "cell_type": "code",
      "execution_count": null,
      "metadata": {
        "id": "g6uaQx1Hm190"
      },
      "outputs": [],
      "source": [
        "# from transformers import Seq2SeqTrainingArguments"
      ]
    },
    {
      "cell_type": "code",
      "execution_count": null,
      "metadata": {
        "id": "DT79CfVYm190"
      },
      "outputs": [],
      "source": [
        "from summarizer import Summarizer, TransformerSummarizer"
      ]
    },
    {
      "cell_type": "code",
      "execution_count": null,
      "metadata": {
        "id": "1ARZZ4ocm190"
      },
      "outputs": [],
      "source": [
        "content1 = df_all['Content'][0]\n",
        "content2 = df_all['Content'][1]"
      ]
    },
    {
      "cell_type": "code",
      "execution_count": null,
      "metadata": {
        "id": "lGVUrQPWm190"
      },
      "outputs": [],
      "source": [
        "from transformers import pipeline \n",
        "from icecream import ic"
      ]
    },
    {
      "cell_type": "code",
      "execution_count": null,
      "metadata": {
        "colab": {
          "base_uri": "https://localhost:8080/"
        },
        "id": "UA8_iwyzm190",
        "outputId": "1051d770-2371-46e2-9f7a-63584e5642c1"
      },
      "outputs": [
        {
          "output_type": "stream",
          "name": "stderr",
          "text": [
            "Some weights of the model checkpoint at bert-large-uncased were not used when initializing BertModel: ['cls.predictions.decoder.weight', 'cls.predictions.transform.LayerNorm.bias', 'cls.predictions.transform.dense.bias', 'cls.seq_relationship.bias', 'cls.predictions.transform.dense.weight', 'cls.predictions.transform.LayerNorm.weight', 'cls.seq_relationship.weight', 'cls.predictions.bias']\n",
            "- This IS expected if you are initializing BertModel from the checkpoint of a model trained on another task or with another architecture (e.g. initializing a BertForSequenceClassification model from a BertForPreTraining model).\n",
            "- This IS NOT expected if you are initializing BertModel from the checkpoint of a model that you expect to be exactly identical (initializing a BertForSequenceClassification model from a BertForSequenceClassification model).\n",
            "ic| bert_list1: [\"['The Kenya Meteorological Department has predicted that the current dry and \"\n",
            "                 \"hot conditions in the country will continue to prevail.', ' This helps \"\n",
            "                 'determine the climatic conditions ideal for maize production and informs '\n",
            "                 \"correct hybrid seed choice.', ' At this juncture, the farmer needs to \"\n",
            "                 \"understand the soil characteristics prevalent in their field.', ' Maize is a \"\n",
            "                 'nutrient intensive and requires adequate supplies of all nutrients for all '\n",
            "                 \"growth stages.', ' Soil testing helps establish the available nutrients and \"\n",
            "                 \"the remedial steps that need to be undertaken in case of deficiencies.', ' \"\n",
            "                 'Commercially acquired certified seeds are as a standard practice dressed '\n",
            "                 'with a fungicide and an insecticide to prevent diseases and insects '\n",
            "                 \"respectively.', ' This improves nutrient and water use efficiency, resulting \"\n",
            "                 \"in a healthy resilient crop able to achieve higher yields.', '\"]\n"
          ]
        },
        {
          "output_type": "execute_result",
          "data": {
            "text/plain": [
              "[\"['The Kenya Meteorological Department has predicted that the current dry and hot conditions in the country will continue to prevail.', ' This helps determine the climatic conditions ideal for maize production and informs correct hybrid seed choice.', ' At this juncture, the farmer needs to understand the soil characteristics prevalent in their field.', ' Maize is a nutrient intensive and requires adequate supplies of all nutrients for all growth stages.', ' Soil testing helps establish the available nutrients and the remedial steps that need to be undertaken in case of deficiencies.', ' Commercially acquired certified seeds are as a standard practice dressed with a fungicide and an insecticide to prevent diseases and insects respectively.', ' This improves nutrient and water use efficiency, resulting in a healthy resilient crop able to achieve higher yields.', '\"]"
            ]
          },
          "metadata": {},
          "execution_count": 50
        }
      ],
      "source": [
        "bert_list1 = []\n",
        "\n",
        "# default is bert-large-uncased\n",
        "bert_model1 = Summarizer()\n",
        "\n",
        "bert_summary1 = ''.join(bert_model1(str(total_sent1), min_length=60))\n",
        "bert_list1.append(bert_summary1)\n",
        "#bert_summary = (bert_model(body, min_length=60))\n",
        "ic(bert_list1)"
      ]
    },
    {
      "cell_type": "code",
      "execution_count": null,
      "metadata": {
        "colab": {
          "base_uri": "https://localhost:8080/"
        },
        "id": "7BDuv3MZm190",
        "outputId": "fa276b36-ea58-4669-b5c1-e8c490bf2d2c"
      },
      "outputs": [
        {
          "output_type": "stream",
          "name": "stderr",
          "text": [
            "Some weights of the model checkpoint at bert-large-uncased were not used when initializing BertModel: ['cls.predictions.decoder.weight', 'cls.predictions.transform.LayerNorm.bias', 'cls.predictions.transform.dense.bias', 'cls.seq_relationship.bias', 'cls.predictions.transform.dense.weight', 'cls.predictions.transform.LayerNorm.weight', 'cls.seq_relationship.weight', 'cls.predictions.bias']\n",
            "- This IS expected if you are initializing BertModel from the checkpoint of a model trained on another task or with another architecture (e.g. initializing a BertForSequenceClassification model from a BertForPreTraining model).\n",
            "- This IS NOT expected if you are initializing BertModel from the checkpoint of a model that you expect to be exactly identical (initializing a BertForSequenceClassification model from a BertForSequenceClassification model).\n",
            "ic| bert_list2: [\"['Maize growing in Kenya and Tanzania\\\n",
            "                Maize is an important food crop in \"\n",
            "                 \"Eastern Africa.', ' Where soils are poor, it requires manure or fertiliser \"\n",
            "                 \"to be\\\n",
            "                added.', e) It needs plenty of labour during planting, weeding and \"\n",
            "                 \"harvesting.', ' Maize growing in Tanzania\\\n",
            "                Almost every family in Tanzania \"\n",
            "                 \"grows maize.', ' Large-scale maize plantations are found around Arusha, \"\n",
            "                 \"Morogoro, Dodoma and along the shores of Lake Victoria.', '\"]\n"
          ]
        },
        {
          "output_type": "execute_result",
          "data": {
            "text/plain": [
              "[\"['Maize growing in Kenya and Tanzania\\\\nMaize is an important food crop in Eastern Africa.', ' Where soils are poor, it requires manure or fertiliser to be\\\\nadded.', e) It needs plenty of labour during planting, weeding and harvesting.', ' Maize growing in Tanzania\\\\nAlmost every family in Tanzania grows maize.', ' Large-scale maize plantations are found around Arusha, Morogoro, Dodoma and along the shores of Lake Victoria.', '\"]"
            ]
          },
          "metadata": {},
          "execution_count": 51
        }
      ],
      "source": [
        "bert_list2 = []\n",
        "\n",
        "# default is bert-large-uncased\n",
        "bert_model2 = Summarizer()\n",
        "\n",
        "bert_summary2 = ''.join(bert_model2(str(total_sent2), min_length=60))\n",
        "bert_list2.append(bert_summary2)\n",
        "#bert_summary = (bert_model(body, min_length=60))\n",
        "ic(bert_list2)"
      ]
    },
    {
      "cell_type": "code",
      "execution_count": null,
      "metadata": {
        "colab": {
          "base_uri": "https://localhost:8080/",
          "height": 303
        },
        "id": "RivTTSV2m190",
        "outputId": "3e8b64eb-47ee-4239-d7c2-b96ee411c748"
      },
      "outputs": [
        {
          "output_type": "stream",
          "name": "stderr",
          "text": [
            "ic| gpt_summary1: (\"['The Kenya Meteorological Department has predicted that the current dry and \"\n",
            "                   \"hot conditions in the country will continue to prevail.', ' As a result, the \"\n",
            "                   'long rains growing season that usually starts in March and ends in May will '\n",
            "                   \"be delayed.', ' At this juncture, the farmer needs to understand the soil \"\n",
            "                   \"characteristics prevalent in their field.', ' Fertile, well drained, well \"\n",
            "                   \"aerated and good textured soil is able to supply these nutrients.', ' \"\n",
            "                   'Commercially acquired certified seeds are as a standard practice dressed '\n",
            "                   'with a fungicide and an insecticide to prevent diseases and insects '\n",
            "                   \"respectively.', ' In addition, the correct sowing depth will ensure uniform \"\n",
            "                   \"emergence and good plant population.', ' Maize also requires ‘booster \"\n",
            "                   \"nitrogen’ over the growing period.', '\")\n"
          ]
        },
        {
          "output_type": "execute_result",
          "data": {
            "text/plain": [
              "\"['The Kenya Meteorological Department has predicted that the current dry and hot conditions in the country will continue to prevail.', ' As a result, the long rains growing season that usually starts in March and ends in May will be delayed.', ' At this juncture, the farmer needs to understand the soil characteristics prevalent in their field.', ' Fertile, well drained, well aerated and good textured soil is able to supply these nutrients.', ' Commercially acquired certified seeds are as a standard practice dressed with a fungicide and an insecticide to prevent diseases and insects respectively.', ' In addition, the correct sowing depth will ensure uniform emergence and good plant population.', ' Maize also requires ‘booster nitrogen’ over the growing period.', '\""
            ],
            "application/vnd.google.colaboratory.intrinsic+json": {
              "type": "string"
            }
          },
          "metadata": {},
          "execution_count": 52
        }
      ],
      "source": [
        "GPT2_model1 = TransformerSummarizer(transformer_type=\"GPT2\",transformer_model_key=\"gpt2-medium\")\n",
        "gpt_summary1 = ''.join(GPT2_model1(str(total_sent1), min_length=60))\n",
        "ic(gpt_summary1)"
      ]
    },
    {
      "cell_type": "code",
      "execution_count": null,
      "metadata": {
        "colab": {
          "base_uri": "https://localhost:8080/",
          "height": 214
        },
        "id": "6MvbzSEqm191",
        "outputId": "d78e2045-4cb9-4081-c5ef-f64a049cec6d"
      },
      "outputs": [
        {
          "output_type": "stream",
          "name": "stderr",
          "text": [
            "ic| gpt_summary2: (\"['Maize growing in Kenya and Tanzania\\\n",
            "                  Maize is an important food crop in \"\n",
            "                   \"Eastern Africa.', ' In such areas, maize grows very slowly and takes more \"\n",
            "                   \"than six months to mature.', ' ii) In Embu, Machakos and Kitui counties, \"\n",
            "                   \"maize is grown on small farms.', ' Maize growing in Tanzania\\\n",
            "                  Almost every \"\n",
            "                   \"family in Tanzania grows maize.', ' It is ground into fl our and used to \"\n",
            "                   \"make ugali and porridge.', '\")\n"
          ]
        },
        {
          "output_type": "execute_result",
          "data": {
            "text/plain": [
              "\"['Maize growing in Kenya and Tanzania\\\\nMaize is an important food crop in Eastern Africa.', ' In such areas, maize grows very slowly and takes more than six months to mature.', ' ii) In Embu, Machakos and Kitui counties, maize is grown on small farms.', ' Maize growing in Tanzania\\\\nAlmost every family in Tanzania grows maize.', ' It is ground into fl our and used to make ugali and porridge.', '\""
            ],
            "application/vnd.google.colaboratory.intrinsic+json": {
              "type": "string"
            }
          },
          "metadata": {},
          "execution_count": 53
        }
      ],
      "source": [
        "GPT2_model2 = TransformerSummarizer(transformer_type=\"GPT2\",transformer_model_key=\"gpt2-medium\")\n",
        "gpt_summary2 = ''.join(GPT2_model2(str(total_sent2), min_length=60))\n",
        "ic(gpt_summary2)"
      ]
    },
    {
      "cell_type": "code",
      "source": [
        "from transformers import T5Tokenizer, T5ForConditionalGeneration\n",
        "\n",
        "t5_model1 = T5ForConditionalGeneration.from_pretrained('t5-base')\n",
        "tokenizer1 = T5Tokenizer.from_pretrained('t5-base')\n",
        "t5_text1 = \".\".join(total_sent1)\n",
        "Preprocessed_text1 = \"summarize: \" + t5_text1\n",
        "tokens_input1 = tokenizer1.encode(Preprocessed_text1,return_tensors=\"pt\", \n",
        "                                 max_length=512, truncation=True)\n",
        "summary_ids = t5_model1.generate(tokens_input1,\n",
        "                             min_length=60,\n",
        "                             max_length=180,\n",
        "                             length_penalty=4.0)\n",
        "\n",
        "t5_summary1 = tokenizer1.decode(summary_ids[0])\n",
        "print(t5_summary1)"
      ],
      "metadata": {
        "id": "nV3bkU5XsXYl",
        "colab": {
          "base_uri": "https://localhost:8080/"
        },
        "outputId": "ad4c5659-ca1a-43ff-df8b-81b58a35e6c5"
      },
      "execution_count": null,
      "outputs": [
        {
          "output_type": "stream",
          "name": "stdout",
          "text": [
            "<pad> the drought is predicted to continue in the country. farmers are worried about the impact of the drought on their yields. maize is the primary staple food in Kenya. it is important for farmers to understand their agro ecological zone. this helps determine the climatic conditions ideal for maize production.</s>\n"
          ]
        }
      ]
    },
    {
      "cell_type": "code",
      "source": [
        "t5_model2 = T5ForConditionalGeneration.from_pretrained('t5-base')\n",
        "tokenizer2 = T5Tokenizer.from_pretrained('t5-base')\n",
        "t5_text2 = \".\".join(total_sent2)\n",
        "Preprocessed_text2 = \"summarize: \" + t5_text2\n",
        "tokens_input2 = tokenizer2.encode(Preprocessed_text2,return_tensors=\"pt\", \n",
        "                                 max_length=512, truncation=True)\n",
        "summary_ids = t5_model1.generate(tokens_input1,\n",
        "                             min_length=60,\n",
        "                             max_length=180,\n",
        "                             length_penalty=4.0)\n",
        "\n",
        "t5_summary2 = tokenizer2.decode(summary_ids[0])\n",
        "print(t5_summary2)"
      ],
      "metadata": {
        "colab": {
          "base_uri": "https://localhost:8080/"
        },
        "id": "Dd6MDwKhUM_v",
        "outputId": "ca3b14db-c245-4906-f9ba-7f3e13296a6a"
      },
      "execution_count": null,
      "outputs": [
        {
          "output_type": "stream",
          "name": "stdout",
          "text": [
            "<pad> the drought is predicted to continue in the country. farmers are worried about the impact of the drought on their yields. maize is the primary staple food in Kenya. it is important for farmers to understand their agro ecological zone. this helps determine the climatic conditions ideal for maize production.</s>\n"
          ]
        }
      ]
    },
    {
      "cell_type": "code",
      "execution_count": null,
      "metadata": {
        "colab": {
          "base_uri": "https://localhost:8080/"
        },
        "id": "OiaLlcmZm191",
        "outputId": "c5eeaf7f-4a3c-4958-f3ac-b26ee0ea1f2b"
      },
      "outputs": [
        {
          "output_type": "stream",
          "name": "stderr",
          "text": [
            "Some weights of the model checkpoint at xlnet-base-cased were not used when initializing XLNetModel: ['lm_loss.weight', 'lm_loss.bias']\n",
            "- This IS expected if you are initializing XLNetModel from the checkpoint of a model trained on another task or with another architecture (e.g. initializing a BertForSequenceClassification model from a BertForPreTraining model).\n",
            "- This IS NOT expected if you are initializing XLNetModel from the checkpoint of a model that you expect to be exactly identical (initializing a BertForSequenceClassification model from a BertForSequenceClassification model).\n"
          ]
        },
        {
          "output_type": "stream",
          "name": "stdout",
          "text": [
            "['The Kenya Meteorological Department has predicted that the current dry and hot conditions in the country will continue to prevail.', ' The delayed onset of rains is already causing anxiety among farmers as they ponder on the implications of this on their yields.', ' This helps determine the climatic conditions ideal for maize production and informs correct hybrid seed choice.', ' However, soil pH determines the availability of nutrients in the soil.', ' The correct tillage method ensures ample availability of all plant nutrients, water retention and reduced incidences of pests and diseases.', ' In addition, the correct sowing depth will ensure uniform emergence and good plant population.', ' Maize also requires ‘booster nitrogen’ over the growing period.', '\n"
          ]
        }
      ],
      "source": [
        "xl_model1 = TransformerSummarizer(transformer_type=\"XLNet\",transformer_model_key=\"xlnet-base-cased\")\n",
        "xl_summary1 = ''.join(xl_model1(str(total_sent1), min_length=60))\n",
        "print(xl_summary1)"
      ]
    },
    {
      "cell_type": "code",
      "execution_count": null,
      "metadata": {
        "id": "RCWgxLZzm191",
        "colab": {
          "base_uri": "https://localhost:8080/"
        },
        "outputId": "d7bcfe44-cb5a-4711-b2b9-75dcedd413e5"
      },
      "outputs": [
        {
          "output_type": "stream",
          "name": "stderr",
          "text": [
            "Some weights of the model checkpoint at xlnet-base-cased were not used when initializing XLNetModel: ['lm_loss.weight', 'lm_loss.bias']\n",
            "- This IS expected if you are initializing XLNetModel from the checkpoint of a model trained on another task or with another architecture (e.g. initializing a BertForSequenceClassification model from a BertForPreTraining model).\n",
            "- This IS NOT expected if you are initializing XLNetModel from the checkpoint of a model that you expect to be exactly identical (initializing a BertForSequenceClassification model from a BertForSequenceClassification model).\n"
          ]
        },
        {
          "output_type": "stream",
          "name": "stdout",
          "text": [
            "['Maize growing in Kenya and Tanzania\\nMaize is an important food crop in Eastern Africa.', ' 'd) It requires a short dry season for the maize to ripen and be harvested.', ' The largest plantations are found in Nandi, Trans-Nzoia and Uasin Gishu Districts.', ' They grow Katumaini, a drought resistant variety of maize.', ' In these areas, maize is grown for food as well as for export to neighbouring countries like Zambia and DRC.', '\n"
          ]
        }
      ],
      "source": [
        "xl_model2 = TransformerSummarizer(transformer_type=\"XLNet\",transformer_model_key=\"xlnet-base-cased\")\n",
        "xl_summary2 = ''.join(xl_model2(str(total_sent2), min_length=60))\n",
        "print(xl_summary2)"
      ]
    },
    {
      "cell_type": "code",
      "execution_count": null,
      "metadata": {
        "id": "g2Uc5wcjm191",
        "colab": {
          "base_uri": "https://localhost:8080/"
        },
        "outputId": "405d2ed9-4e1c-4b9d-b422-13b75b00dd80"
      },
      "outputs": [
        {
          "output_type": "stream",
          "name": "stdout",
          "text": [
            "['250', 'kg', 'Oranges', 'for', 'Sale.', 'I', 'want', 'to', 'sell', '100', 'kg', 'of', 'Onions', 'at', '100', 'per', 'kg.']\n",
            "'kg' is not a number\n",
            "'Oranges' is not a number\n",
            "'for' is not a number\n",
            "'Sale.' is not a number\n",
            "'I' is not a number\n",
            "'want' is not a number\n",
            "'to' is not a number\n",
            "'sell' is not a number\n",
            "'kg' is not a number\n",
            "'of' is not a number\n",
            "'Onions' is not a number\n",
            "'at' is not a number\n",
            "'per' is not a number\n",
            "'kg.' is not a number\n",
            "[250, 100]\n",
            "[100]\n"
          ]
        }
      ],
      "source": [
        "string = \"250 kg Oranges for Sale. I want to sell 100 kg of Onions at 100 per kg.\"\n",
        "\n",
        "# Split the text\n",
        "words_list = string.split(\" \")\n",
        "print(words_list)\n",
        "\n",
        "# Find which words are numbers\n",
        "quantity_array = []\n",
        "price_array = []\n",
        "for i in range(len(words_list)):\n",
        "    try:\n",
        "        number = int(words_list[i])\n",
        "        # Is it a price or a quantity?\n",
        "        if words_list[i + 1] == 'kg':\n",
        "            quantity_array.append(number)\n",
        "        else:\n",
        "            price_array.append(number)\n",
        "    except ValueError:\n",
        "        print(\"\\'%s\\' is not a number\" % words_list[i])\n",
        "\n",
        "# Get the results\n",
        "print(quantity_array)\n",
        "print(price_array)"
      ]
    },
    {
      "cell_type": "markdown",
      "metadata": {
        "id": "MbIiGm7km191"
      },
      "source": [
        "### Extractive Summarization\n",
        "\n",
        "For extractive summarization, I use the following models:\n",
        "1. TextRank: This is a graph-based ranking model that combines the power of PageRank algorithm with text processing to allow text extraction and summarization. Specifically, it uses word graphs where words are linked together and if some words seem to appear often together, they are assigned higher weight. Then, from this graph/network, the PageRank algorithm is applied to group important keywords together. It is unsupervised. \n",
        "2. Conventional\n",
        "3. Cosine Similarity. \n"
      ]
    },
    {
      "cell_type": "code",
      "execution_count": null,
      "metadata": {
        "id": "ccX4MPtsm191"
      },
      "outputs": [],
      "source": [
        "# necessary to install these locally\n",
        "\n",
        "# !pip3 install pytextrank\n",
        "# !pip3 install spacy\n",
        "# !spacy download en_core_web_sm\n",
        "# !pip3 install murmurhash -U\n",
        "# !pip3 install -U pip setuptools wheel"
      ]
    },
    {
      "cell_type": "code",
      "source": [
        "from icecream import ic"
      ],
      "metadata": {
        "id": "TAeJ5lShgtPK"
      },
      "execution_count": null,
      "outputs": []
    },
    {
      "cell_type": "code",
      "execution_count": null,
      "metadata": {
        "colab": {
          "base_uri": "https://localhost:8080/"
        },
        "id": "FBQTzHomm191",
        "outputId": "80c95249-1c79-47d1-fd10-accf0985bfbe"
      },
      "outputs": [
        {
          "output_type": "stream",
          "name": "stdout",
          "text": [
            "Phrase(text='good hybrid seed', chunks=[good hybrid seed], count=1, rank=0.09142339292293922)\n",
            "Phrase(text='good seed', chunks=[good seed], count=1, rank=0.087913270623468)\n",
            "Phrase(text='maize farmers', chunks=[maize farmers], count=1, rank=0.08145581875567495)\n",
            "Phrase(text='hybrid seed choice', chunks=[hybrid seed choice], count=1, rank=0.0813922835900169)\n",
            "Phrase(text='secondary nutrients', chunks=[secondary nutrients], count=1, rank=0.08121117623012586)\n",
            "Phrase(text='nutrient', chunks=[nutrient, nutrient], count=2, rank=0.0795436523609138)\n",
            "Phrase(text='nutrients', chunks=[nutrients, nutrients], count=2, rank=0.0795436523609138)\n",
            "Phrase(text='good plant population', chunks=[good plant population], count=1, rank=0.0740324097604423)\n",
            "Phrase(text='farmers', chunks=[farmers, farmers, farmers], count=3, rank=0.07315151669665593)\n",
            "Phrase(text='first top dressing', chunks=[first top dressing], count=1, rank=0.06609015998557571)\n"
          ]
        }
      ],
      "source": [
        "# TextRank\n",
        "\n",
        "import spacy\n",
        "import pytextrank\n",
        "\n",
        "# load a spaCy model, depending on language, scale, etc.\n",
        "nlp = spacy.load(\"en_core_web_sm\")\n",
        "\n",
        "# add PyTextRank to the spaCy pipeline\n",
        "nlp.add_pipe(\"textrank\")\n",
        "doc = nlp(content1)\n",
        "\n",
        "# examine the top-ranked phrases in the document\n",
        "for phrase in doc._.phrases[:10]:\n",
        "    print(phrase)"
      ]
    },
    {
      "cell_type": "code",
      "source": [
        "#for sent in doc.sents:\n",
        "    #print(sent)\n",
        "\n",
        "tr = doc._.textrank\n",
        "tr.plot_keyphrases()\n",
        "\n",
        "for sent in tr.summary(limit_phrases=15, limit_sentences=5):\n",
        "    ic(sent)"
      ],
      "metadata": {
        "colab": {
          "base_uri": "https://localhost:8080/"
        },
        "id": "dVwVkHDcVEON",
        "outputId": "ec24390b-af9f-4bef-8b5c-cd0d47e27799"
      },
      "execution_count": null,
      "outputs": [
        {
          "output_type": "stream",
          "name": "stderr",
          "text": [
            "ic| sent: This improves nutrient and water use efficiency, resulting in a healthy resilient crop able to achieve higher yields.\n",
            "ic| sent: Nitrogen helps in establishment of healthy leaves, phosphorus for root formation, potassium for fruiting while secondary nutrients such as calcium and magnesium among others are critical for crop physiological functions.\n",
            "ic| sent: However, soil pH determines the availability of nutrients in the soil.\n",
            "ic| sent: In the case of maize, “good seed” often equates to good hybrid seed.\n",
            "ic| sent: Indeed, good seed doesn’t cost, it pays.\n"
          ]
        }
      ]
    },
    {
      "cell_type": "code",
      "source": [
        ""
      ],
      "metadata": {
        "id": "a5Gq1WhSU6rA"
      },
      "execution_count": null,
      "outputs": []
    },
    {
      "cell_type": "code",
      "source": [
        "# Conventional \n",
        "\n",
        "from heapq import nlargest\n",
        "\n",
        "def summarize(text, per):\n",
        "    nlp = spacy.load('en_core_web_sm')\n",
        "    doc= nlp(text)\n",
        "    tokens=[token.text for token in doc]\n",
        "    word_frequencies={}\n",
        "    for word in doc:\n",
        "        if word.text.lower() not in list(stop_words):\n",
        "            if word.text.lower() not in punctuation:\n",
        "                if word.text not in word_frequencies.keys():\n",
        "                    word_frequencies[word.text] = 1\n",
        "                else:\n",
        "                    word_frequencies[word.text] += 1\n",
        "    max_frequency=max(word_frequencies.values())\n",
        "    for word in word_frequencies.keys():\n",
        "        word_frequencies[word]=word_frequencies[word]/max_frequency\n",
        "    sentence_tokens= [sent for sent in doc.sents]\n",
        "    sentence_scores = {}\n",
        "    for sent in sentence_tokens:\n",
        "        for word in sent:\n",
        "            if word.text.lower() in word_frequencies.keys():\n",
        "                if sent not in sentence_scores.keys():                            \n",
        "                    sentence_scores[sent]=word_frequencies[word.text.lower()]\n",
        "                else:\n",
        "                    sentence_scores[sent]+=word_frequencies[word.text.lower()]\n",
        "    #select_length=int(len(sentence_tokens)*per)\n",
        "    select_length = int(per)\n",
        "    summary=nlargest(select_length, sentence_scores,key=sentence_scores.get)\n",
        "    final_summary=[word.text for word in summary]\n",
        "    summary=''.join(final_summary)\n",
        "    return summary"
      ],
      "metadata": {
        "id": "NiEVzg-HUyPc"
      },
      "execution_count": null,
      "outputs": []
    },
    {
      "cell_type": "code",
      "source": [
        "summarize(content1, 10)"
      ],
      "metadata": {
        "colab": {
          "base_uri": "https://localhost:8080/",
          "height": 125
        },
        "id": "cal9PNbjU1hx",
        "outputId": "82fe38b4-7680-4c82-fe1a-b7394181d92d"
      },
      "execution_count": null,
      "outputs": [
        {
          "output_type": "execute_result",
          "data": {
            "text/plain": [
              "'For better fertilizer efficiency, it is important to use the 4R principles, which are the four ‘rights’ of fertilizer management i.e. apply the right source of nutrient at the right rate, at the right time and in the right place.It is important to top dress after 25-30 days of sowing and do the final top dressing after 20-25 days of first top dressing.Nitrogen helps in establishment of healthy leaves, phosphorus for root formation, potassium for fruiting while secondary nutrients such as calcium and magnesium among others are critical for crop physiological functions.Extraneous factors such as weather patterns notwithstanding, it is important for maize farmers to pay attention to all the good standard practices needed for optimum production.In the case of maize, “good seed” often equates to good hybrid seed.Fertile, well drained, well aerated and good textured soil is able to supply these nutrients.This helps determine the climatic conditions ideal for maize production and informs correct hybrid seed choice.Soil testing helps establish the available nutrients and the remedial steps that need to be undertaken in case of deficiencies.The correct tillage method ensures ample availability of all plant nutrients, water retention and reduced incidences of pests and diseases.It is important for the farmer to prepare for sowing by selecting the correct seed.'"
            ],
            "application/vnd.google.colaboratory.intrinsic+json": {
              "type": "string"
            }
          },
          "metadata": {},
          "execution_count": 64
        }
      ]
    },
    {
      "cell_type": "code",
      "source": [
        ""
      ],
      "metadata": {
        "id": "jmdJAVz-gWQD"
      },
      "execution_count": null,
      "outputs": []
    },
    {
      "cell_type": "code",
      "execution_count": null,
      "metadata": {
        "id": "RfhPJx4rm191"
      },
      "outputs": [],
      "source": [
        "from nltk.corpus import stopwords\n",
        "from nltk.cluster.util import cosine_distance\n",
        "import networkx as nx"
      ]
    },
    {
      "cell_type": "code",
      "source": [
        "def read_article(text):        \n",
        "    sentences =[]        \n",
        "    sentences = sent_tokenize(text)    \n",
        "    for sentence in sentences:        \n",
        "      sentence.replace(\"[^a-zA-Z0-9]\",\" \")     \n",
        "    return sentences"
      ],
      "metadata": {
        "id": "BikAWbSP3Tci"
      },
      "execution_count": null,
      "outputs": []
    },
    {
      "cell_type": "code",
      "source": [
        "def sentence_similarity(sent1,sent2,stopwords=None):    \n",
        "    if stopwords is None:        \n",
        "        stopwords = []        \n",
        "    sent1 = [w.lower() for w in sent1]    \n",
        "    sent2 = [w.lower() for w in sent2]\n",
        "            \n",
        "    all_words = list(set(sent1 + sent2))   \n",
        "        \n",
        "    vector1 = [0] * len(all_words)    \n",
        "    vector2 = [0] * len(all_words)        \n",
        "    #build the vector for the first sentence    \n",
        "    for w in sent1:        \n",
        "        if not w in stopwords:\n",
        "            vector1[all_words.index(w)]+=1                                                             \n",
        "    #build the vector for the second sentence    \n",
        "    for w in sent2:        \n",
        "        if not w in stopwords:            \n",
        "            vector2[all_words.index(w)]+=1 \n",
        "                \n",
        "    return 1-cosine_distance(vector1,vector2)"
      ],
      "metadata": {
        "id": "1MKm2o9U3bqL"
      },
      "execution_count": null,
      "outputs": []
    },
    {
      "cell_type": "code",
      "source": [
        "# Create similarity matrix among all sentences\n",
        "def build_similarity_matrix(sentences,stop_words):\n",
        "    #create an empty similarity matrix\n",
        "    similarity_matrix = np.zeros((len(sentences),len(sentences)))\n",
        "    \n",
        "    for idx1 in range(len(sentences)):\n",
        "        for idx2 in range(len(sentences)):\n",
        "            if idx1!=idx2:\n",
        "                similarity_matrix[idx1][idx2] = sentence_similarity(sentences[idx1],sentences[idx2],stop_words)\n",
        "                \n",
        "    return similarity_matrix"
      ],
      "metadata": {
        "id": "eKTIJdKT4FRE"
      },
      "execution_count": null,
      "outputs": []
    },
    {
      "cell_type": "code",
      "source": [
        "def generate_summary(text,top_n):\n",
        "    stop_words = stopwords.words('english')    \n",
        "    summarize_text = []\n",
        "    # Step1: read text and tokenize    \n",
        "    sentences = read_article(text)\n",
        "    # Step2: generate similarity matrix            \n",
        "    sentence_similarity_matrix = build_similarity_matrix(sentences,stop_words)\n",
        "    # Step3: Rank sentences in similarity matrix\n",
        "    sentence_similarity_graph = nx.from_numpy_array(sentence_similarity_matrix)\n",
        "    scores = nx.pagerank(sentence_similarity_graph)\n",
        "    # Step4: sort the rank and place top sentences\n",
        "    ranked_sentences = sorted(((scores[i],s) for i,s in enumerate(sentences)),reverse=True)\n",
        "\n",
        "    # Step5: get the top n number of sentences based on rank\n",
        "    for i in range(top_n):\n",
        "        summarize_text.append(ranked_sentences[i][1])\n",
        "    # Step6 : output the summarized version\n",
        "    return \" \".join(summarize_text),len(sentences)"
      ],
      "metadata": {
        "id": "gtvrQv0U3syA"
      },
      "execution_count": null,
      "outputs": []
    },
    {
      "cell_type": "code",
      "source": [
        "generate_summary(content1, 5)"
      ],
      "metadata": {
        "colab": {
          "base_uri": "https://localhost:8080/"
        },
        "id": "c5kqkeve35IL",
        "outputId": "3b4de9b0-0575-4a2e-a159-5a0512b8c775"
      },
      "execution_count": null,
      "outputs": [
        {
          "output_type": "execute_result",
          "data": {
            "text/plain": [
              "('This improves nutrient and water use efficiency, resulting in a healthy resilient crop able to achieve higher yields. The delayed onset of rains is already causing anxiety among farmers as they ponder on the implications of this on their yields. The Kenya Meteorological Department has predicted that the current dry and hot conditions in the country will continue to prevail. At this juncture, the farmer needs to understand the soil characteristics prevalent in their field. The correct tillage method ensures ample availability of all plant nutrients, water retention and reduced incidences of pests and diseases.',\n",
              " 37)"
            ]
          },
          "metadata": {},
          "execution_count": 70
        }
      ]
    },
    {
      "cell_type": "code",
      "source": [
        ""
      ],
      "metadata": {
        "id": "de2WdbPWpemJ"
      },
      "execution_count": null,
      "outputs": []
    },
    {
      "cell_type": "markdown",
      "source": [
        "### Question Answering"
      ],
      "metadata": {
        "id": "jyux-KCS8Ex9"
      }
    },
    {
      "cell_type": "code",
      "source": [
        "from transformers import AutoTokenizer, TFAutoModelForQuestionAnswering\n",
        "import tensorflow as tf\n",
        "\n",
        "tokenizer = AutoTokenizer.from_pretrained(\"bert-large-uncased-whole-word-masking-finetuned-squad\")\n",
        "model = TFAutoModelForQuestionAnswering.from_pretrained(\"bert-large-uncased-whole-word-masking-finetuned-squad\")\n",
        "\n",
        "\n",
        "\n",
        "questions = [\n",
        "   \"What is the temperature for maize?\"\n",
        "]\n",
        "\n",
        "for question in questions:\n",
        "    inputs = tokenizer(question, total_sent1, add_special_tokens=True, return_tensors=\"tf\")\n",
        "    input_ids = inputs[\"input_ids\"].numpy()[0]\n",
        "\n",
        "    outputs = model(inputs)\n",
        "    answer_start_scores = outputs.start_logits\n",
        "    answer_end_scores = outputs.end_logits\n",
        "\n",
        "    # Get the most likely beginning of answer with the argmax of the score\n",
        "    answer_start = tf.argmax(answer_start_scores, axis=1).numpy()[0]\n",
        "    # Get the most likely end of answer with the argmax of the score\n",
        "    answer_end = tf.argmax(answer_end_scores, axis=1).numpy()[0] + 1\n",
        "\n",
        "    answer = tokenizer.convert_tokens_to_string(\n",
        "        tokenizer.convert_ids_to_tokens(input_ids[answer_start:answer_end])\n",
        "    )\n",
        "\n",
        "    print(f\"Question: {question}\")\n",
        "    print(f\"Answer: {answer}\")"
      ],
      "metadata": {
        "colab": {
          "base_uri": "https://localhost:8080/",
          "height": 675
        },
        "id": "lbu9GvDSYV7P",
        "outputId": "d3be70de-66d1-450f-8b99-cc230dfe41b7"
      },
      "execution_count": null,
      "outputs": [
        {
          "output_type": "stream",
          "name": "stderr",
          "text": [
            "All model checkpoint layers were used when initializing TFBertForQuestionAnswering.\n",
            "\n",
            "All the layers of TFBertForQuestionAnswering were initialized from the model checkpoint at bert-large-uncased-whole-word-masking-finetuned-squad.\n",
            "If your task is similar to the task the model of the checkpoint was trained on, you can already use TFBertForQuestionAnswering for predictions without further training.\n",
            "Token indices sequence length is longer than the specified maximum sequence length for this model (756 > 512). Running this sequence through the model will result in indexing errors\n"
          ]
        },
        {
          "output_type": "error",
          "ename": "InvalidArgumentError",
          "evalue": "ignored",
          "traceback": [
            "\u001b[0;31m---------------------------------------------------------------------------\u001b[0m",
            "\u001b[0;31mInvalidArgumentError\u001b[0m                      Traceback (most recent call last)",
            "\u001b[0;32m<ipython-input-71-2b2f639b1876>\u001b[0m in \u001b[0;36m<module>\u001b[0;34m()\u001b[0m\n\u001b[1;32m     15\u001b[0m     \u001b[0minput_ids\u001b[0m \u001b[0;34m=\u001b[0m \u001b[0minputs\u001b[0m\u001b[0;34m[\u001b[0m\u001b[0;34m\"input_ids\"\u001b[0m\u001b[0;34m]\u001b[0m\u001b[0;34m.\u001b[0m\u001b[0mnumpy\u001b[0m\u001b[0;34m(\u001b[0m\u001b[0;34m)\u001b[0m\u001b[0;34m[\u001b[0m\u001b[0;36m0\u001b[0m\u001b[0;34m]\u001b[0m\u001b[0;34m\u001b[0m\u001b[0;34m\u001b[0m\u001b[0m\n\u001b[1;32m     16\u001b[0m \u001b[0;34m\u001b[0m\u001b[0m\n\u001b[0;32m---> 17\u001b[0;31m     \u001b[0moutputs\u001b[0m \u001b[0;34m=\u001b[0m \u001b[0mmodel\u001b[0m\u001b[0;34m(\u001b[0m\u001b[0minputs\u001b[0m\u001b[0;34m)\u001b[0m\u001b[0;34m\u001b[0m\u001b[0;34m\u001b[0m\u001b[0m\n\u001b[0m\u001b[1;32m     18\u001b[0m     \u001b[0manswer_start_scores\u001b[0m \u001b[0;34m=\u001b[0m \u001b[0moutputs\u001b[0m\u001b[0;34m.\u001b[0m\u001b[0mstart_logits\u001b[0m\u001b[0;34m\u001b[0m\u001b[0;34m\u001b[0m\u001b[0m\n\u001b[1;32m     19\u001b[0m     \u001b[0manswer_end_scores\u001b[0m \u001b[0;34m=\u001b[0m \u001b[0moutputs\u001b[0m\u001b[0;34m.\u001b[0m\u001b[0mend_logits\u001b[0m\u001b[0;34m\u001b[0m\u001b[0;34m\u001b[0m\u001b[0m\n",
            "\u001b[0;32m/usr/local/lib/python3.7/dist-packages/keras/utils/traceback_utils.py\u001b[0m in \u001b[0;36merror_handler\u001b[0;34m(*args, **kwargs)\u001b[0m\n\u001b[1;32m     65\u001b[0m     \u001b[0;32mexcept\u001b[0m \u001b[0mException\u001b[0m \u001b[0;32mas\u001b[0m \u001b[0me\u001b[0m\u001b[0;34m:\u001b[0m  \u001b[0;31m# pylint: disable=broad-except\u001b[0m\u001b[0;34m\u001b[0m\u001b[0;34m\u001b[0m\u001b[0m\n\u001b[1;32m     66\u001b[0m       \u001b[0mfiltered_tb\u001b[0m \u001b[0;34m=\u001b[0m \u001b[0m_process_traceback_frames\u001b[0m\u001b[0;34m(\u001b[0m\u001b[0me\u001b[0m\u001b[0;34m.\u001b[0m\u001b[0m__traceback__\u001b[0m\u001b[0;34m)\u001b[0m\u001b[0;34m\u001b[0m\u001b[0;34m\u001b[0m\u001b[0m\n\u001b[0;32m---> 67\u001b[0;31m       \u001b[0;32mraise\u001b[0m \u001b[0me\u001b[0m\u001b[0;34m.\u001b[0m\u001b[0mwith_traceback\u001b[0m\u001b[0;34m(\u001b[0m\u001b[0mfiltered_tb\u001b[0m\u001b[0;34m)\u001b[0m \u001b[0;32mfrom\u001b[0m \u001b[0;32mNone\u001b[0m\u001b[0;34m\u001b[0m\u001b[0;34m\u001b[0m\u001b[0m\n\u001b[0m\u001b[1;32m     68\u001b[0m     \u001b[0;32mfinally\u001b[0m\u001b[0;34m:\u001b[0m\u001b[0;34m\u001b[0m\u001b[0;34m\u001b[0m\u001b[0m\n\u001b[1;32m     69\u001b[0m       \u001b[0;32mdel\u001b[0m \u001b[0mfiltered_tb\u001b[0m\u001b[0;34m\u001b[0m\u001b[0;34m\u001b[0m\u001b[0m\n",
            "\u001b[0;32m/usr/local/lib/python3.7/dist-packages/transformers/modeling_tf_utils.py\u001b[0m in \u001b[0;36mrun_call_with_unpacked_inputs\u001b[0;34m(self, *args, **kwargs)\u001b[0m\n\u001b[1;32m    381\u001b[0m         \u001b[0mmain_input\u001b[0m \u001b[0;34m=\u001b[0m \u001b[0mfn_args_and_kwargs\u001b[0m\u001b[0;34m.\u001b[0m\u001b[0mpop\u001b[0m\u001b[0;34m(\u001b[0m\u001b[0mmain_input_name\u001b[0m\u001b[0;34m,\u001b[0m \u001b[0;32mNone\u001b[0m\u001b[0;34m)\u001b[0m\u001b[0;34m\u001b[0m\u001b[0;34m\u001b[0m\u001b[0m\n\u001b[1;32m    382\u001b[0m         \u001b[0munpacked_inputs\u001b[0m \u001b[0;34m=\u001b[0m \u001b[0minput_processing\u001b[0m\u001b[0;34m(\u001b[0m\u001b[0mfunc\u001b[0m\u001b[0;34m,\u001b[0m \u001b[0mself\u001b[0m\u001b[0;34m.\u001b[0m\u001b[0mconfig\u001b[0m\u001b[0;34m,\u001b[0m \u001b[0mmain_input\u001b[0m\u001b[0;34m,\u001b[0m \u001b[0;34m**\u001b[0m\u001b[0mfn_args_and_kwargs\u001b[0m\u001b[0;34m)\u001b[0m\u001b[0;34m\u001b[0m\u001b[0;34m\u001b[0m\u001b[0m\n\u001b[0;32m--> 383\u001b[0;31m         \u001b[0;32mreturn\u001b[0m \u001b[0mfunc\u001b[0m\u001b[0;34m(\u001b[0m\u001b[0mself\u001b[0m\u001b[0;34m,\u001b[0m \u001b[0;34m**\u001b[0m\u001b[0munpacked_inputs\u001b[0m\u001b[0;34m)\u001b[0m\u001b[0;34m\u001b[0m\u001b[0;34m\u001b[0m\u001b[0m\n\u001b[0m\u001b[1;32m    384\u001b[0m \u001b[0;34m\u001b[0m\u001b[0m\n\u001b[1;32m    385\u001b[0m     \u001b[0;31m# Keras enforces the first layer argument to be passed, and checks it through `inspect.getfullargspec()`. This\u001b[0m\u001b[0;34m\u001b[0m\u001b[0;34m\u001b[0m\u001b[0;34m\u001b[0m\u001b[0m\n",
            "\u001b[0;32m/usr/local/lib/python3.7/dist-packages/transformers/models/bert/modeling_tf_bert.py\u001b[0m in \u001b[0;36mcall\u001b[0;34m(self, input_ids, attention_mask, token_type_ids, position_ids, head_mask, inputs_embeds, output_attentions, output_hidden_states, return_dict, start_positions, end_positions, training)\u001b[0m\n\u001b[1;32m   1963\u001b[0m             \u001b[0moutput_hidden_states\u001b[0m\u001b[0;34m=\u001b[0m\u001b[0moutput_hidden_states\u001b[0m\u001b[0;34m,\u001b[0m\u001b[0;34m\u001b[0m\u001b[0;34m\u001b[0m\u001b[0m\n\u001b[1;32m   1964\u001b[0m             \u001b[0mreturn_dict\u001b[0m\u001b[0;34m=\u001b[0m\u001b[0mreturn_dict\u001b[0m\u001b[0;34m,\u001b[0m\u001b[0;34m\u001b[0m\u001b[0;34m\u001b[0m\u001b[0m\n\u001b[0;32m-> 1965\u001b[0;31m             \u001b[0mtraining\u001b[0m\u001b[0;34m=\u001b[0m\u001b[0mtraining\u001b[0m\u001b[0;34m,\u001b[0m\u001b[0;34m\u001b[0m\u001b[0;34m\u001b[0m\u001b[0m\n\u001b[0m\u001b[1;32m   1966\u001b[0m         )\n\u001b[1;32m   1967\u001b[0m         \u001b[0msequence_output\u001b[0m \u001b[0;34m=\u001b[0m \u001b[0moutputs\u001b[0m\u001b[0;34m[\u001b[0m\u001b[0;36m0\u001b[0m\u001b[0;34m]\u001b[0m\u001b[0;34m\u001b[0m\u001b[0;34m\u001b[0m\u001b[0m\n",
            "\u001b[0;32m/usr/local/lib/python3.7/dist-packages/transformers/modeling_tf_utils.py\u001b[0m in \u001b[0;36mrun_call_with_unpacked_inputs\u001b[0;34m(self, *args, **kwargs)\u001b[0m\n\u001b[1;32m    381\u001b[0m         \u001b[0mmain_input\u001b[0m \u001b[0;34m=\u001b[0m \u001b[0mfn_args_and_kwargs\u001b[0m\u001b[0;34m.\u001b[0m\u001b[0mpop\u001b[0m\u001b[0;34m(\u001b[0m\u001b[0mmain_input_name\u001b[0m\u001b[0;34m,\u001b[0m \u001b[0;32mNone\u001b[0m\u001b[0;34m)\u001b[0m\u001b[0;34m\u001b[0m\u001b[0;34m\u001b[0m\u001b[0m\n\u001b[1;32m    382\u001b[0m         \u001b[0munpacked_inputs\u001b[0m \u001b[0;34m=\u001b[0m \u001b[0minput_processing\u001b[0m\u001b[0;34m(\u001b[0m\u001b[0mfunc\u001b[0m\u001b[0;34m,\u001b[0m \u001b[0mself\u001b[0m\u001b[0;34m.\u001b[0m\u001b[0mconfig\u001b[0m\u001b[0;34m,\u001b[0m \u001b[0mmain_input\u001b[0m\u001b[0;34m,\u001b[0m \u001b[0;34m**\u001b[0m\u001b[0mfn_args_and_kwargs\u001b[0m\u001b[0;34m)\u001b[0m\u001b[0;34m\u001b[0m\u001b[0;34m\u001b[0m\u001b[0m\n\u001b[0;32m--> 383\u001b[0;31m         \u001b[0;32mreturn\u001b[0m \u001b[0mfunc\u001b[0m\u001b[0;34m(\u001b[0m\u001b[0mself\u001b[0m\u001b[0;34m,\u001b[0m \u001b[0;34m**\u001b[0m\u001b[0munpacked_inputs\u001b[0m\u001b[0;34m)\u001b[0m\u001b[0;34m\u001b[0m\u001b[0;34m\u001b[0m\u001b[0m\n\u001b[0m\u001b[1;32m    384\u001b[0m \u001b[0;34m\u001b[0m\u001b[0m\n\u001b[1;32m    385\u001b[0m     \u001b[0;31m# Keras enforces the first layer argument to be passed, and checks it through `inspect.getfullargspec()`. This\u001b[0m\u001b[0;34m\u001b[0m\u001b[0;34m\u001b[0m\u001b[0;34m\u001b[0m\u001b[0m\n",
            "\u001b[0;32m/usr/local/lib/python3.7/dist-packages/transformers/models/bert/modeling_tf_bert.py\u001b[0m in \u001b[0;36mcall\u001b[0;34m(self, input_ids, attention_mask, token_type_ids, position_ids, head_mask, inputs_embeds, encoder_hidden_states, encoder_attention_mask, past_key_values, use_cache, output_attentions, output_hidden_states, return_dict, training)\u001b[0m\n\u001b[1;32m    772\u001b[0m             \u001b[0minputs_embeds\u001b[0m\u001b[0;34m=\u001b[0m\u001b[0minputs_embeds\u001b[0m\u001b[0;34m,\u001b[0m\u001b[0;34m\u001b[0m\u001b[0;34m\u001b[0m\u001b[0m\n\u001b[1;32m    773\u001b[0m             \u001b[0mpast_key_values_length\u001b[0m\u001b[0;34m=\u001b[0m\u001b[0mpast_key_values_length\u001b[0m\u001b[0;34m,\u001b[0m\u001b[0;34m\u001b[0m\u001b[0;34m\u001b[0m\u001b[0m\n\u001b[0;32m--> 774\u001b[0;31m             \u001b[0mtraining\u001b[0m\u001b[0;34m=\u001b[0m\u001b[0mtraining\u001b[0m\u001b[0;34m,\u001b[0m\u001b[0;34m\u001b[0m\u001b[0;34m\u001b[0m\u001b[0m\n\u001b[0m\u001b[1;32m    775\u001b[0m         )\n\u001b[1;32m    776\u001b[0m \u001b[0;34m\u001b[0m\u001b[0m\n",
            "\u001b[0;32m/usr/local/lib/python3.7/dist-packages/transformers/models/bert/modeling_tf_bert.py\u001b[0m in \u001b[0;36mcall\u001b[0;34m(self, input_ids, position_ids, token_type_ids, inputs_embeds, past_key_values_length, training)\u001b[0m\n\u001b[1;32m    200\u001b[0m             )\n\u001b[1;32m    201\u001b[0m \u001b[0;34m\u001b[0m\u001b[0m\n\u001b[0;32m--> 202\u001b[0;31m         \u001b[0mposition_embeds\u001b[0m \u001b[0;34m=\u001b[0m \u001b[0mtf\u001b[0m\u001b[0;34m.\u001b[0m\u001b[0mgather\u001b[0m\u001b[0;34m(\u001b[0m\u001b[0mparams\u001b[0m\u001b[0;34m=\u001b[0m\u001b[0mself\u001b[0m\u001b[0;34m.\u001b[0m\u001b[0mposition_embeddings\u001b[0m\u001b[0;34m,\u001b[0m \u001b[0mindices\u001b[0m\u001b[0;34m=\u001b[0m\u001b[0mposition_ids\u001b[0m\u001b[0;34m)\u001b[0m\u001b[0;34m\u001b[0m\u001b[0;34m\u001b[0m\u001b[0m\n\u001b[0m\u001b[1;32m    203\u001b[0m         \u001b[0mtoken_type_embeds\u001b[0m \u001b[0;34m=\u001b[0m \u001b[0mtf\u001b[0m\u001b[0;34m.\u001b[0m\u001b[0mgather\u001b[0m\u001b[0;34m(\u001b[0m\u001b[0mparams\u001b[0m\u001b[0;34m=\u001b[0m\u001b[0mself\u001b[0m\u001b[0;34m.\u001b[0m\u001b[0mtoken_type_embeddings\u001b[0m\u001b[0;34m,\u001b[0m \u001b[0mindices\u001b[0m\u001b[0;34m=\u001b[0m\u001b[0mtoken_type_ids\u001b[0m\u001b[0;34m)\u001b[0m\u001b[0;34m\u001b[0m\u001b[0;34m\u001b[0m\u001b[0m\n\u001b[1;32m    204\u001b[0m         \u001b[0mfinal_embeddings\u001b[0m \u001b[0;34m=\u001b[0m \u001b[0minputs_embeds\u001b[0m \u001b[0;34m+\u001b[0m \u001b[0mposition_embeds\u001b[0m \u001b[0;34m+\u001b[0m \u001b[0mtoken_type_embeds\u001b[0m\u001b[0;34m\u001b[0m\u001b[0;34m\u001b[0m\u001b[0m\n",
            "\u001b[0;31mInvalidArgumentError\u001b[0m: Exception encountered when calling layer \"embeddings\" (type TFBertEmbeddings).\n\nindices[0,665] = 665 is not in [0, 512) [Op:ResourceGather]\n\nCall arguments received:\n  • input_ids=tf.Tensor(shape=(1, 756), dtype=int32)\n  • position_ids=None\n  • token_type_ids=tf.Tensor(shape=(1, 756), dtype=int32)\n  • inputs_embeds=None\n  • past_key_values_length=0\n  • training=False"
          ]
        }
      ]
    },
    {
      "cell_type": "code",
      "source": [
        "question_answerer = pipeline(\"question-answering\")\n",
        "result = question_answerer(question=\"What is temperature?\", context=total_sent1)\n",
        "print(\n",
        "    f\"Answer: '{result['answer']}', score: {round(result['score'], 4)}, start: {result['start']}, end: {result['end']}\"\n",
        ")"
      ],
      "metadata": {
        "colab": {
          "base_uri": "https://localhost:8080/",
          "height": 407
        },
        "id": "bJ-TcXzBYaiq",
        "outputId": "056d3628-5d8a-432e-b36a-f27261e2e7c7"
      },
      "execution_count": null,
      "outputs": [
        {
          "output_type": "stream",
          "name": "stderr",
          "text": [
            "No model was supplied, defaulted to distilbert-base-cased-distilled-squad (https://huggingface.co/distilbert-base-cased-distilled-squad)\n"
          ]
        },
        {
          "output_type": "error",
          "ename": "ValueError",
          "evalue": "ignored",
          "traceback": [
            "\u001b[0;31m---------------------------------------------------------------------------\u001b[0m",
            "\u001b[0;31mValueError\u001b[0m                                Traceback (most recent call last)",
            "\u001b[0;32m<ipython-input-73-4ae50d3e4ce0>\u001b[0m in \u001b[0;36m<module>\u001b[0;34m()\u001b[0m\n\u001b[1;32m      1\u001b[0m \u001b[0mquestion_answerer\u001b[0m \u001b[0;34m=\u001b[0m \u001b[0mpipeline\u001b[0m\u001b[0;34m(\u001b[0m\u001b[0;34m\"question-answering\"\u001b[0m\u001b[0;34m)\u001b[0m\u001b[0;34m\u001b[0m\u001b[0;34m\u001b[0m\u001b[0m\n\u001b[0;32m----> 2\u001b[0;31m \u001b[0mresult\u001b[0m \u001b[0;34m=\u001b[0m \u001b[0mquestion_answerer\u001b[0m\u001b[0;34m(\u001b[0m\u001b[0mquestion\u001b[0m\u001b[0;34m=\u001b[0m\u001b[0;34m\"What is temperature?\"\u001b[0m\u001b[0;34m,\u001b[0m \u001b[0mcontext\u001b[0m\u001b[0;34m=\u001b[0m\u001b[0mtotal_sent1\u001b[0m\u001b[0;34m)\u001b[0m\u001b[0;34m\u001b[0m\u001b[0;34m\u001b[0m\u001b[0m\n\u001b[0m\u001b[1;32m      3\u001b[0m print(\n\u001b[1;32m      4\u001b[0m     \u001b[0;34mf\"Answer: '{result['answer']}', score: {round(result['score'], 4)}, start: {result['start']}, end: {result['end']}\"\u001b[0m\u001b[0;34m\u001b[0m\u001b[0;34m\u001b[0m\u001b[0m\n\u001b[1;32m      5\u001b[0m )\n",
            "\u001b[0;32m/usr/local/lib/python3.7/dist-packages/transformers/pipelines/question_answering.py\u001b[0m in \u001b[0;36m__call__\u001b[0;34m(self, *args, **kwargs)\u001b[0m\n\u001b[1;32m    246\u001b[0m \u001b[0;34m\u001b[0m\u001b[0m\n\u001b[1;32m    247\u001b[0m         \u001b[0;31m# Convert inputs to features\u001b[0m\u001b[0;34m\u001b[0m\u001b[0;34m\u001b[0m\u001b[0;34m\u001b[0m\u001b[0m\n\u001b[0;32m--> 248\u001b[0;31m         \u001b[0mexamples\u001b[0m \u001b[0;34m=\u001b[0m \u001b[0mself\u001b[0m\u001b[0;34m.\u001b[0m\u001b[0m_args_parser\u001b[0m\u001b[0;34m(\u001b[0m\u001b[0;34m*\u001b[0m\u001b[0margs\u001b[0m\u001b[0;34m,\u001b[0m \u001b[0;34m**\u001b[0m\u001b[0mkwargs\u001b[0m\u001b[0;34m)\u001b[0m\u001b[0;34m\u001b[0m\u001b[0;34m\u001b[0m\u001b[0m\n\u001b[0m\u001b[1;32m    249\u001b[0m         \u001b[0;32mif\u001b[0m \u001b[0mlen\u001b[0m\u001b[0;34m(\u001b[0m\u001b[0mexamples\u001b[0m\u001b[0;34m)\u001b[0m \u001b[0;34m==\u001b[0m \u001b[0;36m1\u001b[0m\u001b[0;34m:\u001b[0m\u001b[0;34m\u001b[0m\u001b[0;34m\u001b[0m\u001b[0m\n\u001b[1;32m    250\u001b[0m             \u001b[0;32mreturn\u001b[0m \u001b[0msuper\u001b[0m\u001b[0;34m(\u001b[0m\u001b[0;34m)\u001b[0m\u001b[0;34m.\u001b[0m\u001b[0m__call__\u001b[0m\u001b[0;34m(\u001b[0m\u001b[0mexamples\u001b[0m\u001b[0;34m[\u001b[0m\u001b[0;36m0\u001b[0m\u001b[0;34m]\u001b[0m\u001b[0;34m,\u001b[0m \u001b[0;34m**\u001b[0m\u001b[0mkwargs\u001b[0m\u001b[0;34m)\u001b[0m\u001b[0;34m\u001b[0m\u001b[0;34m\u001b[0m\u001b[0m\n",
            "\u001b[0;32m/usr/local/lib/python3.7/dist-packages/transformers/pipelines/question_answering.py\u001b[0m in \u001b[0;36m__call__\u001b[0;34m(self, *args, **kwargs)\u001b[0m\n\u001b[1;32m     79\u001b[0m                 \u001b[0minputs\u001b[0m \u001b[0;34m=\u001b[0m \u001b[0;34m[\u001b[0m\u001b[0;34m{\u001b[0m\u001b[0;34m\"question\"\u001b[0m\u001b[0;34m:\u001b[0m \u001b[0mkwargs\u001b[0m\u001b[0;34m[\u001b[0m\u001b[0;34m\"question\"\u001b[0m\u001b[0;34m]\u001b[0m\u001b[0;34m,\u001b[0m \u001b[0;34m\"context\"\u001b[0m\u001b[0;34m:\u001b[0m \u001b[0mkwargs\u001b[0m\u001b[0;34m[\u001b[0m\u001b[0;34m\"context\"\u001b[0m\u001b[0;34m]\u001b[0m\u001b[0;34m}\u001b[0m\u001b[0;34m]\u001b[0m\u001b[0;34m\u001b[0m\u001b[0;34m\u001b[0m\u001b[0m\n\u001b[1;32m     80\u001b[0m             \u001b[0;32melse\u001b[0m\u001b[0;34m:\u001b[0m\u001b[0;34m\u001b[0m\u001b[0;34m\u001b[0m\u001b[0m\n\u001b[0;32m---> 81\u001b[0;31m                 \u001b[0;32mraise\u001b[0m \u001b[0mValueError\u001b[0m\u001b[0;34m(\u001b[0m\u001b[0;34m\"Arguments can't be understood\"\u001b[0m\u001b[0;34m)\u001b[0m\u001b[0;34m\u001b[0m\u001b[0;34m\u001b[0m\u001b[0m\n\u001b[0m\u001b[1;32m     82\u001b[0m         \u001b[0;32melse\u001b[0m\u001b[0;34m:\u001b[0m\u001b[0;34m\u001b[0m\u001b[0;34m\u001b[0m\u001b[0m\n\u001b[1;32m     83\u001b[0m             \u001b[0;32mraise\u001b[0m \u001b[0mValueError\u001b[0m\u001b[0;34m(\u001b[0m\u001b[0;34mf\"Unknown arguments {kwargs}\"\u001b[0m\u001b[0;34m)\u001b[0m\u001b[0;34m\u001b[0m\u001b[0;34m\u001b[0m\u001b[0m\n",
            "\u001b[0;31mValueError\u001b[0m: Arguments can't be understood"
          ]
        }
      ]
    },
    {
      "cell_type": "code",
      "source": [
        ""
      ],
      "metadata": {
        "id": "LL_CNtazrKit"
      },
      "execution_count": null,
      "outputs": []
    }
  ],
  "metadata": {
    "kernelspec": {
      "display_name": "Python 3",
      "language": "python",
      "name": "python3"
    },
    "language_info": {
      "codemirror_mode": {
        "name": "ipython",
        "version": 3
      },
      "file_extension": ".py",
      "mimetype": "text/x-python",
      "name": "python",
      "nbconvert_exporter": "python",
      "pygments_lexer": "ipython3",
      "version": "3.8.5"
    },
    "colab": {
      "name": "Final_Project.ipynb",
      "provenance": [],
      "collapsed_sections": [],
      "include_colab_link": true
    }
  },
  "nbformat": 4,
  "nbformat_minor": 0
}