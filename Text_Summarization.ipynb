{
  "cells": [
    {
      "cell_type": "markdown",
      "metadata": {
        "id": "view-in-github",
        "colab_type": "text"
      },
      "source": [
        "<a href=\"https://colab.research.google.com/github/SNWambui/Capstone_Projects/blob/main/Text_Summarization.ipynb\" target=\"_parent\"><img src=\"https://colab.research.google.com/assets/colab-badge.svg\" alt=\"Open In Colab\"/></a>"
      ]
    },
    {
      "cell_type": "markdown",
      "metadata": {
        "id": "TDNu8qDdm19j"
      },
      "source": [
        "# Text Summarization and Keyword Extraction\n",
        "\n",
        "The goal of this project is multi-part:\n",
        "1. To get experience in outsourcing and collecting data for data related projects from the web. \n",
        "2. To explore natural language processing as a machine learning technique as we did not cover this in class\n",
        "3. To set up the foundation in learning more about agriculture in Kenya, common topics and conditions for a set of crops in support of my capstone.\n",
        "4. To make use of pretrained models in addition to building new models for language processing.\n",
        "\n",
        "## Web Scraping and Data consolidation\n",
        "\n",
        "With the goal being to learn about data collection methods, I am going to scrape data from a few websites that have agricultural content about crops and compile them into one file or multiple files depending on the content. The other reason is that there is not a well consolidated and accessible dataset of farming conditions in Kenya. Rather, there are several websites that either have paragraphs or list the conditions out in paragraphs. I will use BeautifulSoup which is a common scraping tool that allows various web formats. The documentation, found [here](https://beautiful-soup-4.readthedocs.io/en/latest/) is very detailed. Note that one needs to install beautifulsoup and requests locally to run it\n",
        "\n",
        "### Importing Necessary Modules"
      ]
    },
    {
      "cell_type": "code",
      "execution_count": 1,
      "metadata": {
        "id": "EB4j-lgfm19n"
      },
      "outputs": [],
      "source": [
        "# !pip3 install beautifulsoup4\n",
        "# !pip3 install requests\n",
        "# !pip3 install lxml\n",
        "# !pip3 install icecream"
      ]
    },
    {
      "cell_type": "code",
      "execution_count": 2,
      "metadata": {
        "id": "oVATiIYnm19o"
      },
      "outputs": [],
      "source": [
        "import pandas as pd\n",
        "import numpy as np\n",
        "from bs4 import BeautifulSoup\n",
        "import re\n",
        "import requests\n",
        "import seaborn as sns\n",
        "from icecream import ic"
      ]
    },
    {
      "cell_type": "code",
      "execution_count": 3,
      "metadata": {
        "id": "6AJDCteZm19o"
      },
      "outputs": [],
      "source": [
        "sns.set_theme()"
      ]
    },
    {
      "cell_type": "markdown",
      "metadata": {
        "id": "nMJ_-ivKm19p"
      },
      "source": [
        "Every website has it's own structure and therefore it is important to visit the website, know what you are looking for, inspect the elements and get the respective HTML/XML tags. Since most websites use HTML to display static contents, it becomes relatively easy to get the content so long as it is publicly rendered. Beautifulsoup makes the process seamless.\n",
        "\n",
        "I will use only three websites with the aim of only getting information about maize as a factor of time and scope of the assignment. Maize is a staple food in Kenya and so it makes sense to start with it. The idea is that eventually, enough data on the main crops in Kenya can be added to a database and the key topics can emerge. This can then be used to provide recommendations to farmers as there is evidence for success:\n",
        "1. The first website contains information on growing conditions for maize in Kenya. \n",
        "2. The second website contains information on general cash crop growing and is an education site target to students.\n",
        "3. The third website contains very detailed information on everything to know about maize"
      ]
    },
    {
      "cell_type": "markdown",
      "metadata": {
        "id": "sPQSSdshm19p"
      },
      "source": [
        "For the first website, the content is rather short and therefore getting all the content that is in paragraphs. "
      ]
    },
    {
      "cell_type": "code",
      "execution_count": 4,
      "metadata": {
        "id": "YZwtiQq7m19q"
      },
      "outputs": [],
      "source": [
        "# define the url to get the content from\n",
        "url1 = \"https://www.koppert.co.ke/news/some-tips-for-maize-production-in-challenging-times/#:~:text=Fertile%2C%20well%20drained%2C%20well%20aerated,pH%206.0%E2%80%936.5%20being%20optimal.\"\n",
        "\n",
        "# send a request to get contents from the url\n",
        "maize1 = requests.get(url1)\n",
        "\n",
        "# use lxml in case pages are not correctly formatted as per HTML standards\n",
        "soup1 = BeautifulSoup(maize1.content, 'lxml')\n",
        "\n",
        "# get the content in the div with the paragraphs, and each paragraph\n",
        "parags = soup1.find('div', class_ = 'c-news__bodytext').find_all(\"p\")\n"
      ]
    },
    {
      "cell_type": "code",
      "execution_count": 5,
      "metadata": {
        "id": "6vrlL-d1m19r"
      },
      "outputs": [],
      "source": [
        "# create a dataframe to story any scapred data\n",
        "df_all = pd.DataFrame(columns=['Crops', 'Website', 'Link', 'Content'])\n",
        "\n",
        "# get each of the paragraphs within the div, add them to a list with the crop name\n",
        "# and display the paragraphs\n",
        "lst1 = []\n",
        "for p in parags:\n",
        "    lst1.append(p.get_text())\n",
        "    \n",
        "# combine the paragraphs into one paragraph and remove weird characters\n",
        "cont = ' '.join(lst1).replace('\\xa0', '')\n",
        "df_all.loc[0] = ['Maize', 'Koppert', url1, cont]"
      ]
    },
    {
      "cell_type": "code",
      "execution_count": 6,
      "metadata": {
        "colab": {
          "base_uri": "https://localhost:8080/",
          "height": 80
        },
        "id": "2RZ3lda1m19s",
        "outputId": "235488a6-b2ac-4fb9-a34b-1b68c7c241aa"
      },
      "outputs": [
        {
          "output_type": "execute_result",
          "data": {
            "text/plain": [
              "   Crops  Website                                               Link  \\\n",
              "0  Maize  Koppert  https://www.koppert.co.ke/news/some-tips-for-m...   \n",
              "\n",
              "                                             Content  \n",
              "0  The Kenya Meteorological Department has predic...  "
            ],
            "text/html": [
              "\n",
              "  <div id=\"df-26687d82-6a45-44a4-890e-b7cc13c7079e\">\n",
              "    <div class=\"colab-df-container\">\n",
              "      <div>\n",
              "<style scoped>\n",
              "    .dataframe tbody tr th:only-of-type {\n",
              "        vertical-align: middle;\n",
              "    }\n",
              "\n",
              "    .dataframe tbody tr th {\n",
              "        vertical-align: top;\n",
              "    }\n",
              "\n",
              "    .dataframe thead th {\n",
              "        text-align: right;\n",
              "    }\n",
              "</style>\n",
              "<table border=\"1\" class=\"dataframe\">\n",
              "  <thead>\n",
              "    <tr style=\"text-align: right;\">\n",
              "      <th></th>\n",
              "      <th>Crops</th>\n",
              "      <th>Website</th>\n",
              "      <th>Link</th>\n",
              "      <th>Content</th>\n",
              "    </tr>\n",
              "  </thead>\n",
              "  <tbody>\n",
              "    <tr>\n",
              "      <th>0</th>\n",
              "      <td>Maize</td>\n",
              "      <td>Koppert</td>\n",
              "      <td>https://www.koppert.co.ke/news/some-tips-for-m...</td>\n",
              "      <td>The Kenya Meteorological Department has predic...</td>\n",
              "    </tr>\n",
              "  </tbody>\n",
              "</table>\n",
              "</div>\n",
              "      <button class=\"colab-df-convert\" onclick=\"convertToInteractive('df-26687d82-6a45-44a4-890e-b7cc13c7079e')\"\n",
              "              title=\"Convert this dataframe to an interactive table.\"\n",
              "              style=\"display:none;\">\n",
              "        \n",
              "  <svg xmlns=\"http://www.w3.org/2000/svg\" height=\"24px\"viewBox=\"0 0 24 24\"\n",
              "       width=\"24px\">\n",
              "    <path d=\"M0 0h24v24H0V0z\" fill=\"none\"/>\n",
              "    <path d=\"M18.56 5.44l.94 2.06.94-2.06 2.06-.94-2.06-.94-.94-2.06-.94 2.06-2.06.94zm-11 1L8.5 8.5l.94-2.06 2.06-.94-2.06-.94L8.5 2.5l-.94 2.06-2.06.94zm10 10l.94 2.06.94-2.06 2.06-.94-2.06-.94-.94-2.06-.94 2.06-2.06.94z\"/><path d=\"M17.41 7.96l-1.37-1.37c-.4-.4-.92-.59-1.43-.59-.52 0-1.04.2-1.43.59L10.3 9.45l-7.72 7.72c-.78.78-.78 2.05 0 2.83L4 21.41c.39.39.9.59 1.41.59.51 0 1.02-.2 1.41-.59l7.78-7.78 2.81-2.81c.8-.78.8-2.07 0-2.86zM5.41 20L4 18.59l7.72-7.72 1.47 1.35L5.41 20z\"/>\n",
              "  </svg>\n",
              "      </button>\n",
              "      \n",
              "  <style>\n",
              "    .colab-df-container {\n",
              "      display:flex;\n",
              "      flex-wrap:wrap;\n",
              "      gap: 12px;\n",
              "    }\n",
              "\n",
              "    .colab-df-convert {\n",
              "      background-color: #E8F0FE;\n",
              "      border: none;\n",
              "      border-radius: 50%;\n",
              "      cursor: pointer;\n",
              "      display: none;\n",
              "      fill: #1967D2;\n",
              "      height: 32px;\n",
              "      padding: 0 0 0 0;\n",
              "      width: 32px;\n",
              "    }\n",
              "\n",
              "    .colab-df-convert:hover {\n",
              "      background-color: #E2EBFA;\n",
              "      box-shadow: 0px 1px 2px rgba(60, 64, 67, 0.3), 0px 1px 3px 1px rgba(60, 64, 67, 0.15);\n",
              "      fill: #174EA6;\n",
              "    }\n",
              "\n",
              "    [theme=dark] .colab-df-convert {\n",
              "      background-color: #3B4455;\n",
              "      fill: #D2E3FC;\n",
              "    }\n",
              "\n",
              "    [theme=dark] .colab-df-convert:hover {\n",
              "      background-color: #434B5C;\n",
              "      box-shadow: 0px 1px 3px 1px rgba(0, 0, 0, 0.15);\n",
              "      filter: drop-shadow(0px 1px 2px rgba(0, 0, 0, 0.3));\n",
              "      fill: #FFFFFF;\n",
              "    }\n",
              "  </style>\n",
              "\n",
              "      <script>\n",
              "        const buttonEl =\n",
              "          document.querySelector('#df-26687d82-6a45-44a4-890e-b7cc13c7079e button.colab-df-convert');\n",
              "        buttonEl.style.display =\n",
              "          google.colab.kernel.accessAllowed ? 'block' : 'none';\n",
              "\n",
              "        async function convertToInteractive(key) {\n",
              "          const element = document.querySelector('#df-26687d82-6a45-44a4-890e-b7cc13c7079e');\n",
              "          const dataTable =\n",
              "            await google.colab.kernel.invokeFunction('convertToInteractive',\n",
              "                                                     [key], {});\n",
              "          if (!dataTable) return;\n",
              "\n",
              "          const docLinkHtml = 'Like what you see? Visit the ' +\n",
              "            '<a target=\"_blank\" href=https://colab.research.google.com/notebooks/data_table.ipynb>data table notebook</a>'\n",
              "            + ' to learn more about interactive tables.';\n",
              "          element.innerHTML = '';\n",
              "          dataTable['output_type'] = 'display_data';\n",
              "          await google.colab.output.renderOutput(dataTable, element);\n",
              "          const docLink = document.createElement('div');\n",
              "          docLink.innerHTML = docLinkHtml;\n",
              "          element.appendChild(docLink);\n",
              "        }\n",
              "      </script>\n",
              "    </div>\n",
              "  </div>\n",
              "  "
            ]
          },
          "metadata": {},
          "execution_count": 6
        }
      ],
      "source": [
        "df_all"
      ]
    },
    {
      "cell_type": "code",
      "execution_count": 7,
      "metadata": {
        "colab": {
          "base_uri": "https://localhost:8080/"
        },
        "id": "BvuPB3hBm19s",
        "outputId": "0eba1bdd-08f3-4622-e507-951589047458",
        "cellView": "form"
      },
      "outputs": [
        {
          "output_type": "execute_result",
          "data": {
            "text/plain": [
              "array(['The Kenya Meteorological Department has predicted that the current dry and hot conditions in the country will continue to prevail. As a result, the long rains growing season that usually starts in March and ends in May will be delayed. Whether this is just a cyclical pattern or the result of climate change is a subject for a separate debate. The delayed onset of rains is already causing anxiety among farmers as they ponder on the implications of this on their yields. Maize is undoubtedly the primary staple food in Kenya. Any factor that influences maize yields is therefore of key concern to farmers. Extraneous factors such as weather patterns notwithstanding, it is important for maize farmers to pay attention to all the good standard practices needed for optimum production. Firstly, the farmer needs to understand their agro ecological zone. This helps determine the climatic conditions ideal for maize production and informs correct hybrid seed choice. At this juncture, the farmer needs to understand the soil characteristics prevalent in their field. Maize is a nutrient intensive and requires adequate supplies of all nutrients for all growth stages. Fertile, well drained, well aerated and good textured soil is able to supply these nutrients. However, soil pH determines the availability of nutrients in the soil. pH is the level of acidity or alkalinity of the soil. Maize crops grow best at a soil pH of between 5.5 and 7.3, with pH 6.0–6.5 being optimal. In this range, nitrogen, potassium, phosphorus, calcium and magnesium are readily available. Nitrogen helps in establishment of healthy leaves, phosphorus for root formation, potassium for fruiting while secondary nutrients such as calcium and magnesium among others are critical for crop physiological functions. Soil testing helps establish the available nutrients and the remedial steps that need to be undertaken in case of deficiencies. Fertile soil should be well prepared for sowing. The correct tillage method ensures ample availability of all plant nutrients, water retention and reduced incidences of pests and diseases. It is important for the farmer to prepare for sowing by selecting the correct seed. Indeed, good seed doesn’t cost, it pays. In the case of maize, “good seed” often equates to good hybrid seed. Commercially acquired certified seeds are as a standard practice dressed with a fungicide and an insecticide to prevent diseases and insects respectively. A novel and growing practice is the further dressing with beneficial microorganisms such as Panoramix to ensure robust growth characterised by well-established root system. This improves nutrient and water use efficiency, resulting in a healthy resilient crop able to achieve higher yields. In addition, the correct sowing depth will ensure uniform emergence and good plant population. During, sowing it is crucial to use the right nutrient sources which include organic manure and fertilizers. Organic manure should be applied few weeks before sowing. For better fertilizer efficiency, it is important to use the 4R principles, which are the four ‘rights’ of fertilizer management i.e. apply the right source of nutrient at the right rate, at the right time and in the right place. Maize also requires ‘booster nitrogen’ over the growing period. It is important to top dress after 25-30 days of sowing and do the final top dressing after 20-25 days of first top dressing. It should be noted that the emergence, comes with other unwanted plants that compete with maize for nutrients. It is important to remove the unwanted plants by weeding regularly. If all these steps are followed, and the weather patterns are favourable, then the farmer is guaranteed of a bumper harvest. We take this opportunity to wish all maize farmers a highly productive season. '],\n",
              "      dtype=object)"
            ]
          },
          "metadata": {},
          "execution_count": 7
        }
      ],
      "source": [
        "#@title\n",
        "df_all['Content'].values"
      ]
    },
    {
      "cell_type": "markdown",
      "source": [
        "For the second website, I am only interested in the paragraph that talks about maize conditions. It does not follow updated website standards and therefore finding the exact content will require a bit more manual filtering and using 'html.parser' rather than XML. I had to do quite a bit of inspecting the HTML elements, loop through all the paragraphs and find the ones where the start talking about maize."
      ],
      "metadata": {
        "id": "8wbIDQtk4LDv"
      }
    },
    {
      "cell_type": "code",
      "execution_count": 8,
      "metadata": {
        "colab": {
          "base_uri": "https://localhost:8080/"
        },
        "id": "bTAtdRswm19t",
        "outputId": "7784c45a-e4c3-4c25-f00a-af727415138c"
      },
      "outputs": [
        {
          "output_type": "stream",
          "name": "stdout",
          "text": [
            "Cotton growing in Kenya\n",
            "Cotton is grown to produce cotton balls. Conditions necessary for growing cotton;\n",
            "\n",
            "Moderate rainfall.\n",
            "An average temperature of 27ºC. \n",
            "Fertile and well drained black cotton soil. \n",
            "A dry spell for ripening and harvesting. A lot of rain destroys the cotton balls.\n",
            "\n",
            "The main cotton growing areas in Kenya are Siaya, Homa Bay, Tana river and Machakos.\n",
            "\n",
            "Uses of cotton\n",
            "a) It is used in textile industries to make clothes, blankets and towels.\n",
            "b) It is used in hospitals when dressing wounds.\n",
            "c) Cotton stalks are used as fi rewood.\n",
            "d) Cotton stalks and leaves are used in compost heaps to make manure.\n",
            "Factors influencing the growing of cash crops\n",
            "\n",
            "The type of soil.\n",
            "Availability of labour.\n",
            "A,mount of rainfall received\n",
            "Temperatures of a place\n",
            "Absence of pests and diseases.\n",
            "Topography.\n",
            "Availability of capital\n",
            "Good transport network.\n",
            "\n",
            "Maize growing in Kenya and Tanzania\n",
            "Maize is an important food crop in Eastern Africa. However, in some areas, it is grown as a cash crop. Maize was introduced to Kenya by Portuguese. It is mainly produced on small farms, which vary in size from a quarter hectare to about fi ve hectares. In some cases it is grown on large plantations.\n",
            " \n",
            "Conditions necessary for growing maize\n",
            "a) Over 500 mm of rainfall. Therefore, it does not do well in desert and semi-desert\n",
            "areas.\n",
            "b) Maize does not do well in highland areas above 2 200 metres where temperatures are very low. In such areas, maize grows very slowly and takes more than six months to mature. It also produces poor yields.\n",
            "c) It requires fertile soils. Where soils are poor, it requires manure or fertiliser to be\n",
            "added.\n",
            "d) It requires a short dry season for the maize to ripen and be harvested.\n",
            "e) It needs plenty of labour during planting, weeding and harvesting.\n",
            "f) On large plantations, farmers need machinery for ploughing, and spraying the crop.\n",
            " \n",
            "Maize growing in Kenya\n",
            "i) Most Kenyans grow maize as small scale farmers. The largest plantations are found in Nandi, Trans-Nzoia and Uasin Gishu Districts. This area is sometimes called the granary of Kenya because it produces maize that feeds people in other parts of the country, especially in urban areas. Other important large-scale maize farming areas are Sotik, Kipkelion and Londiani.\n",
            "ii) In Embu, Machakos and Kitui counties, maize is grown on small farms. They grow Katumaini, a drought resistant variety of maize.\n",
            "iii) The National Cereals and produce Board (NCPB) buys, stores and distributes maize on behalf of the government.\n",
            " \n",
            "Maize growing in Tanzania\n",
            "Almost every family in Tanzania grows maize. Maize is an important staple food for many communities in Tanzania. The country has similar climate to that of Kenya. Large-scale maize plantations are found around Arusha, Morogoro, Dodoma and along the shores of Lake Victoria. In these areas, maize is grown for food as well as for export to neighbouring countries like Zambia and DRC.\n",
            " \n",
            "Uses of maize\n",
            "a) Maize is an important food crop. It is ground into fl our and used to make ugali and porridge. It is also boiled together with beans and eaten as a whole meal.\n",
            "b) Maize is used to feed chicken.\n",
            "c) Maize is used to make cattle feed.\n",
            "d) Dry maize cobs and stems are used as fuel.\n",
            "e) Maize stems are fed to animals.\n",
            "f) Maize earns farmers money. In Kenya, maize is sold to the National Cereals and Produce Board (NCPB) from where it is exported or stored as reserve for use in times of famine.\n"
          ]
        }
      ],
      "source": [
        "# url to get content from\n",
        "url2 = \"https://learn.e-limu.org/topic/view/?c=48&t=272\"\n",
        "\n",
        "# send a request to get contents from the url\n",
        "maize2 = requests.get(url2)\n",
        "\n",
        "# use lxml in case pages are not correctly formatted as per HTML standards\n",
        "soup2 = BeautifulSoup(maize2.content, 'html.parser')\n",
        "\n",
        "# get the content in the div with the paragraphs, and each paragraph\n",
        "parags2 = soup2.find_all('p')\n",
        "\n",
        "text = 'Maize growing in'\n",
        "for i in parags2:\n",
        "    if text in i.text:\n",
        "        maize_text = i.text\n",
        "print(maize_text)"
      ]
    },
    {
      "cell_type": "code",
      "execution_count": 9,
      "metadata": {
        "id": "Q_CeCoG2m19t"
      },
      "outputs": [],
      "source": [
        "# slice out anything that comes before the first instance of maize in the text\n",
        "maize_text = maize_text[maize_text.find('Maize'):]\n",
        "\n",
        "# delete strange characters\n",
        "maize_text = maize_text.replace('\\xa0', '')\n",
        "\n",
        "# add the contents of the new website to the dataframe\n",
        "df_all.loc[1] = ['Maize', 'Elimu', url2, maize_text]"
      ]
    },
    {
      "cell_type": "markdown",
      "metadata": {
        "id": "-MtX91SLm19t"
      },
      "source": [
        "The output above is a good example of how even with webscraping, you still need to do cleaning to get the exact content we need because people do not follow the same practices for organizing content. The only important sections are the ones that come after \"Conditions for growing maize\". Everything else can be deleted. While it is possible to delete"
      ]
    },
    {
      "cell_type": "code",
      "execution_count": 10,
      "metadata": {
        "id": "bGRFDeslm19u",
        "colab": {
          "base_uri": "https://localhost:8080/",
          "height": 112
        },
        "outputId": "e28832cf-4f08-4b97-c5f3-532a66a28809"
      },
      "outputs": [
        {
          "output_type": "execute_result",
          "data": {
            "text/plain": [
              "   Crops  Website                                               Link  \\\n",
              "0  Maize  Koppert  https://www.koppert.co.ke/news/some-tips-for-m...   \n",
              "1  Maize    Elimu    https://learn.e-limu.org/topic/view/?c=48&t=272   \n",
              "\n",
              "                                             Content  \n",
              "0  The Kenya Meteorological Department has predic...  \n",
              "1  Maize growing in Kenya and Tanzania\\nMaize is ...  "
            ],
            "text/html": [
              "\n",
              "  <div id=\"df-d6dcc94e-30f0-49bb-b73b-d283437a9aaf\">\n",
              "    <div class=\"colab-df-container\">\n",
              "      <div>\n",
              "<style scoped>\n",
              "    .dataframe tbody tr th:only-of-type {\n",
              "        vertical-align: middle;\n",
              "    }\n",
              "\n",
              "    .dataframe tbody tr th {\n",
              "        vertical-align: top;\n",
              "    }\n",
              "\n",
              "    .dataframe thead th {\n",
              "        text-align: right;\n",
              "    }\n",
              "</style>\n",
              "<table border=\"1\" class=\"dataframe\">\n",
              "  <thead>\n",
              "    <tr style=\"text-align: right;\">\n",
              "      <th></th>\n",
              "      <th>Crops</th>\n",
              "      <th>Website</th>\n",
              "      <th>Link</th>\n",
              "      <th>Content</th>\n",
              "    </tr>\n",
              "  </thead>\n",
              "  <tbody>\n",
              "    <tr>\n",
              "      <th>0</th>\n",
              "      <td>Maize</td>\n",
              "      <td>Koppert</td>\n",
              "      <td>https://www.koppert.co.ke/news/some-tips-for-m...</td>\n",
              "      <td>The Kenya Meteorological Department has predic...</td>\n",
              "    </tr>\n",
              "    <tr>\n",
              "      <th>1</th>\n",
              "      <td>Maize</td>\n",
              "      <td>Elimu</td>\n",
              "      <td>https://learn.e-limu.org/topic/view/?c=48&amp;t=272</td>\n",
              "      <td>Maize growing in Kenya and Tanzania\\nMaize is ...</td>\n",
              "    </tr>\n",
              "  </tbody>\n",
              "</table>\n",
              "</div>\n",
              "      <button class=\"colab-df-convert\" onclick=\"convertToInteractive('df-d6dcc94e-30f0-49bb-b73b-d283437a9aaf')\"\n",
              "              title=\"Convert this dataframe to an interactive table.\"\n",
              "              style=\"display:none;\">\n",
              "        \n",
              "  <svg xmlns=\"http://www.w3.org/2000/svg\" height=\"24px\"viewBox=\"0 0 24 24\"\n",
              "       width=\"24px\">\n",
              "    <path d=\"M0 0h24v24H0V0z\" fill=\"none\"/>\n",
              "    <path d=\"M18.56 5.44l.94 2.06.94-2.06 2.06-.94-2.06-.94-.94-2.06-.94 2.06-2.06.94zm-11 1L8.5 8.5l.94-2.06 2.06-.94-2.06-.94L8.5 2.5l-.94 2.06-2.06.94zm10 10l.94 2.06.94-2.06 2.06-.94-2.06-.94-.94-2.06-.94 2.06-2.06.94z\"/><path d=\"M17.41 7.96l-1.37-1.37c-.4-.4-.92-.59-1.43-.59-.52 0-1.04.2-1.43.59L10.3 9.45l-7.72 7.72c-.78.78-.78 2.05 0 2.83L4 21.41c.39.39.9.59 1.41.59.51 0 1.02-.2 1.41-.59l7.78-7.78 2.81-2.81c.8-.78.8-2.07 0-2.86zM5.41 20L4 18.59l7.72-7.72 1.47 1.35L5.41 20z\"/>\n",
              "  </svg>\n",
              "      </button>\n",
              "      \n",
              "  <style>\n",
              "    .colab-df-container {\n",
              "      display:flex;\n",
              "      flex-wrap:wrap;\n",
              "      gap: 12px;\n",
              "    }\n",
              "\n",
              "    .colab-df-convert {\n",
              "      background-color: #E8F0FE;\n",
              "      border: none;\n",
              "      border-radius: 50%;\n",
              "      cursor: pointer;\n",
              "      display: none;\n",
              "      fill: #1967D2;\n",
              "      height: 32px;\n",
              "      padding: 0 0 0 0;\n",
              "      width: 32px;\n",
              "    }\n",
              "\n",
              "    .colab-df-convert:hover {\n",
              "      background-color: #E2EBFA;\n",
              "      box-shadow: 0px 1px 2px rgba(60, 64, 67, 0.3), 0px 1px 3px 1px rgba(60, 64, 67, 0.15);\n",
              "      fill: #174EA6;\n",
              "    }\n",
              "\n",
              "    [theme=dark] .colab-df-convert {\n",
              "      background-color: #3B4455;\n",
              "      fill: #D2E3FC;\n",
              "    }\n",
              "\n",
              "    [theme=dark] .colab-df-convert:hover {\n",
              "      background-color: #434B5C;\n",
              "      box-shadow: 0px 1px 3px 1px rgba(0, 0, 0, 0.15);\n",
              "      filter: drop-shadow(0px 1px 2px rgba(0, 0, 0, 0.3));\n",
              "      fill: #FFFFFF;\n",
              "    }\n",
              "  </style>\n",
              "\n",
              "      <script>\n",
              "        const buttonEl =\n",
              "          document.querySelector('#df-d6dcc94e-30f0-49bb-b73b-d283437a9aaf button.colab-df-convert');\n",
              "        buttonEl.style.display =\n",
              "          google.colab.kernel.accessAllowed ? 'block' : 'none';\n",
              "\n",
              "        async function convertToInteractive(key) {\n",
              "          const element = document.querySelector('#df-d6dcc94e-30f0-49bb-b73b-d283437a9aaf');\n",
              "          const dataTable =\n",
              "            await google.colab.kernel.invokeFunction('convertToInteractive',\n",
              "                                                     [key], {});\n",
              "          if (!dataTable) return;\n",
              "\n",
              "          const docLinkHtml = 'Like what you see? Visit the ' +\n",
              "            '<a target=\"_blank\" href=https://colab.research.google.com/notebooks/data_table.ipynb>data table notebook</a>'\n",
              "            + ' to learn more about interactive tables.';\n",
              "          element.innerHTML = '';\n",
              "          dataTable['output_type'] = 'display_data';\n",
              "          await google.colab.output.renderOutput(dataTable, element);\n",
              "          const docLink = document.createElement('div');\n",
              "          docLink.innerHTML = docLinkHtml;\n",
              "          element.appendChild(docLink);\n",
              "        }\n",
              "      </script>\n",
              "    </div>\n",
              "  </div>\n",
              "  "
            ]
          },
          "metadata": {},
          "execution_count": 10
        }
      ],
      "source": [
        "df_all"
      ]
    },
    {
      "cell_type": "markdown",
      "source": [
        "For the third website, there is a lot more content. This is the type of website that a farmer would like to get summaries from. Given the scope of the assignment, I will only take 4 sections that all appear in one div but have a lot of information. An extension to this would be to get all the data and use that to summarize. Unlike the other two websites, I will not display the entire contents of this website throughout the paper because of the length. However, I will show the length and snapshots. "
      ],
      "metadata": {
        "id": "oaCLxNz76jI5"
      }
    },
    {
      "cell_type": "code",
      "source": [
        "# url to get content from\n",
        "url3 = \"https://infonet-biovision.org/PlantHealth/Crops/Maize\"\n",
        "\n",
        "# send a request to get contents from the url\n",
        "maize3 = requests.get(url3)\n",
        "\n",
        "# use lxml in case pages are not correctly formatted as per HTML standards\n",
        "soup3 = BeautifulSoup(maize3.content, 'html.parser')\n",
        "\n",
        "# get the content in the div with the paragraphs, and each paragraph\n",
        "parags3 = soup3.find('div', \n",
        "                     class_=\"field field-name-field-main-content-block-phcfv field-type-text-long field-label-hidden\").find_all(lambda tag: tag.name != 'table' and tag.name=='p')"
      ],
      "metadata": {
        "id": "Ma0Fh5jA5Kk_"
      },
      "execution_count": 13,
      "outputs": []
    },
    {
      "cell_type": "code",
      "source": [
        "# get each of the paragraphs within the div, add them to a list with the crop name\n",
        "# and display the paragraphs\n",
        "lst3 = []\n",
        "for p in parags3:\n",
        "    lst3.append(p.get_text())\n",
        "\n",
        "lst3 = ''.join(lst3)\n",
        "df_all.loc[2] = ['Maize', 'Infornet', url3, lst3]"
      ],
      "metadata": {
        "id": "PapQ2Eu4BYOV"
      },
      "execution_count": 14,
      "outputs": []
    },
    {
      "cell_type": "code",
      "source": [
        "df_all"
      ],
      "metadata": {
        "colab": {
          "base_uri": "https://localhost:8080/",
          "height": 143
        },
        "id": "NFON4zzvIOgU",
        "outputId": "483f6607-1cc0-4de7-b6e2-6c7d42aab1bd"
      },
      "execution_count": 15,
      "outputs": [
        {
          "output_type": "execute_result",
          "data": {
            "text/plain": [
              "   Crops   Website                                               Link  \\\n",
              "0  Maize   Koppert  https://www.koppert.co.ke/news/some-tips-for-m...   \n",
              "1  Maize     Elimu    https://learn.e-limu.org/topic/view/?c=48&t=272   \n",
              "2  Maize  Infornet  https://infonet-biovision.org/PlantHealth/Crop...   \n",
              "\n",
              "                                             Content  \n",
              "0  The Kenya Meteorological Department has predic...  \n",
              "1  Maize growing in Kenya and Tanzania\\nMaize is ...  \n",
              "2  Maize is the most important cereal crop in sub...  "
            ],
            "text/html": [
              "\n",
              "  <div id=\"df-ce112d6e-751d-4caf-a171-467cba82951c\">\n",
              "    <div class=\"colab-df-container\">\n",
              "      <div>\n",
              "<style scoped>\n",
              "    .dataframe tbody tr th:only-of-type {\n",
              "        vertical-align: middle;\n",
              "    }\n",
              "\n",
              "    .dataframe tbody tr th {\n",
              "        vertical-align: top;\n",
              "    }\n",
              "\n",
              "    .dataframe thead th {\n",
              "        text-align: right;\n",
              "    }\n",
              "</style>\n",
              "<table border=\"1\" class=\"dataframe\">\n",
              "  <thead>\n",
              "    <tr style=\"text-align: right;\">\n",
              "      <th></th>\n",
              "      <th>Crops</th>\n",
              "      <th>Website</th>\n",
              "      <th>Link</th>\n",
              "      <th>Content</th>\n",
              "    </tr>\n",
              "  </thead>\n",
              "  <tbody>\n",
              "    <tr>\n",
              "      <th>0</th>\n",
              "      <td>Maize</td>\n",
              "      <td>Koppert</td>\n",
              "      <td>https://www.koppert.co.ke/news/some-tips-for-m...</td>\n",
              "      <td>The Kenya Meteorological Department has predic...</td>\n",
              "    </tr>\n",
              "    <tr>\n",
              "      <th>1</th>\n",
              "      <td>Maize</td>\n",
              "      <td>Elimu</td>\n",
              "      <td>https://learn.e-limu.org/topic/view/?c=48&amp;t=272</td>\n",
              "      <td>Maize growing in Kenya and Tanzania\\nMaize is ...</td>\n",
              "    </tr>\n",
              "    <tr>\n",
              "      <th>2</th>\n",
              "      <td>Maize</td>\n",
              "      <td>Infornet</td>\n",
              "      <td>https://infonet-biovision.org/PlantHealth/Crop...</td>\n",
              "      <td>Maize is the most important cereal crop in sub...</td>\n",
              "    </tr>\n",
              "  </tbody>\n",
              "</table>\n",
              "</div>\n",
              "      <button class=\"colab-df-convert\" onclick=\"convertToInteractive('df-ce112d6e-751d-4caf-a171-467cba82951c')\"\n",
              "              title=\"Convert this dataframe to an interactive table.\"\n",
              "              style=\"display:none;\">\n",
              "        \n",
              "  <svg xmlns=\"http://www.w3.org/2000/svg\" height=\"24px\"viewBox=\"0 0 24 24\"\n",
              "       width=\"24px\">\n",
              "    <path d=\"M0 0h24v24H0V0z\" fill=\"none\"/>\n",
              "    <path d=\"M18.56 5.44l.94 2.06.94-2.06 2.06-.94-2.06-.94-.94-2.06-.94 2.06-2.06.94zm-11 1L8.5 8.5l.94-2.06 2.06-.94-2.06-.94L8.5 2.5l-.94 2.06-2.06.94zm10 10l.94 2.06.94-2.06 2.06-.94-2.06-.94-.94-2.06-.94 2.06-2.06.94z\"/><path d=\"M17.41 7.96l-1.37-1.37c-.4-.4-.92-.59-1.43-.59-.52 0-1.04.2-1.43.59L10.3 9.45l-7.72 7.72c-.78.78-.78 2.05 0 2.83L4 21.41c.39.39.9.59 1.41.59.51 0 1.02-.2 1.41-.59l7.78-7.78 2.81-2.81c.8-.78.8-2.07 0-2.86zM5.41 20L4 18.59l7.72-7.72 1.47 1.35L5.41 20z\"/>\n",
              "  </svg>\n",
              "      </button>\n",
              "      \n",
              "  <style>\n",
              "    .colab-df-container {\n",
              "      display:flex;\n",
              "      flex-wrap:wrap;\n",
              "      gap: 12px;\n",
              "    }\n",
              "\n",
              "    .colab-df-convert {\n",
              "      background-color: #E8F0FE;\n",
              "      border: none;\n",
              "      border-radius: 50%;\n",
              "      cursor: pointer;\n",
              "      display: none;\n",
              "      fill: #1967D2;\n",
              "      height: 32px;\n",
              "      padding: 0 0 0 0;\n",
              "      width: 32px;\n",
              "    }\n",
              "\n",
              "    .colab-df-convert:hover {\n",
              "      background-color: #E2EBFA;\n",
              "      box-shadow: 0px 1px 2px rgba(60, 64, 67, 0.3), 0px 1px 3px 1px rgba(60, 64, 67, 0.15);\n",
              "      fill: #174EA6;\n",
              "    }\n",
              "\n",
              "    [theme=dark] .colab-df-convert {\n",
              "      background-color: #3B4455;\n",
              "      fill: #D2E3FC;\n",
              "    }\n",
              "\n",
              "    [theme=dark] .colab-df-convert:hover {\n",
              "      background-color: #434B5C;\n",
              "      box-shadow: 0px 1px 3px 1px rgba(0, 0, 0, 0.15);\n",
              "      filter: drop-shadow(0px 1px 2px rgba(0, 0, 0, 0.3));\n",
              "      fill: #FFFFFF;\n",
              "    }\n",
              "  </style>\n",
              "\n",
              "      <script>\n",
              "        const buttonEl =\n",
              "          document.querySelector('#df-ce112d6e-751d-4caf-a171-467cba82951c button.colab-df-convert');\n",
              "        buttonEl.style.display =\n",
              "          google.colab.kernel.accessAllowed ? 'block' : 'none';\n",
              "\n",
              "        async function convertToInteractive(key) {\n",
              "          const element = document.querySelector('#df-ce112d6e-751d-4caf-a171-467cba82951c');\n",
              "          const dataTable =\n",
              "            await google.colab.kernel.invokeFunction('convertToInteractive',\n",
              "                                                     [key], {});\n",
              "          if (!dataTable) return;\n",
              "\n",
              "          const docLinkHtml = 'Like what you see? Visit the ' +\n",
              "            '<a target=\"_blank\" href=https://colab.research.google.com/notebooks/data_table.ipynb>data table notebook</a>'\n",
              "            + ' to learn more about interactive tables.';\n",
              "          element.innerHTML = '';\n",
              "          dataTable['output_type'] = 'display_data';\n",
              "          await google.colab.output.renderOutput(dataTable, element);\n",
              "          const docLink = document.createElement('div');\n",
              "          docLink.innerHTML = docLinkHtml;\n",
              "          element.appendChild(docLink);\n",
              "        }\n",
              "      </script>\n",
              "    </div>\n",
              "  </div>\n",
              "  "
            ]
          },
          "metadata": {},
          "execution_count": 15
        }
      ]
    },
    {
      "cell_type": "code",
      "source": [
        "print(len(df_all['Content'][1]))\n",
        "print(len(df_all['Content'][2]))"
      ],
      "metadata": {
        "colab": {
          "base_uri": "https://localhost:8080/"
        },
        "id": "al9M6wa1IpNO",
        "outputId": "cec4de1a-e6a5-4c82-a556-b63bea17a047"
      },
      "execution_count": 16,
      "outputs": [
        {
          "output_type": "stream",
          "name": "stdout",
          "text": [
            "2564\n",
            "20678\n"
          ]
        }
      ]
    },
    {
      "cell_type": "markdown",
      "source": [
        "As previously indicated, the third website has significantly more content as can be seen by the number of characters in the website."
      ],
      "metadata": {
        "id": "I_fX3VVLI2x5"
      }
    },
    {
      "cell_type": "markdown",
      "metadata": {
        "id": "HXgTlFA-m19u"
      },
      "source": [
        "## Topic Modeling\n",
        "\n",
        "Topic Modeling is essentially trying to find out what are the key topics in a given document based on the content of the document. There are several methods to topic modeling including LDA, TFIDF and Deep Learning. I will use LDA and TFIDF. LDA (Latent Dirichlet Allocation) is a generative probabilistic method that uses Dirichlet distributions to determine the topics prsent based on the document and the words. Document here refers to a sentence rather than an entire document. The idea of LDA is to assume an initial random distribution of topics in documents, documents have a mixture of topics and topics are a mixture of words. Then, by creating a document-topic matrix and topic-word matrix, each word in vector representation is initially assigned a latent (hidden) topic. The algorithm then iterates over the documents and words and generates topics then iterates again to find out what words would have generated the topics and what topics would have generated the documents. At each iteration, a probability is assigned so that a given topic has a given probability of being generated. One can then get the top x topics. The preprocesing steps for the algorithm are:\n",
        "1. Tokenization. This refers to splitting sentences into the simplest forms that is words and phrases\n",
        "2. Removing stop words. Stop words are words that are useful for semantic reasons but do not add meaning to the text eg 'the', 'a', 'and'\n",
        "3. Word lemmatization. This is changing all third person to first person and all tenses to present tense.\n",
        "4. Word stemming. Reducing words to their root words. \n",
        "\n",
        "Term Freqeuency Inverse Documemnt Frequency (TF IDF) is a more simplistic approach that refers to how many times a word appears in a document and how important it is as measured by the share of sentences with the word in it. For keyword search with TFIDF, we need to process the text in slightly different steps:\n",
        "1. Tokenization. \n",
        "2. Removing stop words.\n",
        "3. Calculating Term Frequency. This will count how many times a word appears in the text\n",
        "4. Calculting IDF. This will check the share of each word in the sentences\n",
        "\n",
        "Note that because we are not using any mathematical representation of the words in TFIDF, we do not need to stem or lemmatize the words especially because we need to find them as they are. \n",
        "\n"
      ]
    },
    {
      "cell_type": "markdown",
      "source": [
        "### TFIDF"
      ],
      "metadata": {
        "id": "FXBmwPpiUDMH"
      }
    },
    {
      "cell_type": "code",
      "execution_count": 17,
      "metadata": {
        "id": "9R_ftuzom19u"
      },
      "outputs": [],
      "source": [
        "# !pip3 install gensim"
      ]
    },
    {
      "cell_type": "code",
      "execution_count": 18,
      "metadata": {
        "colab": {
          "base_uri": "https://localhost:8080/"
        },
        "id": "XZv1kO01m19v",
        "outputId": "9a06722f-f717-4c86-e041-0308e4d6911f"
      },
      "outputs": [
        {
          "output_type": "stream",
          "name": "stdout",
          "text": [
            "[nltk_data] Downloading package stopwords to /root/nltk_data...\n",
            "[nltk_data]   Package stopwords is already up-to-date!\n",
            "[nltk_data] Downloading package punkt to /root/nltk_data...\n",
            "[nltk_data]   Package punkt is already up-to-date!\n"
          ]
        }
      ],
      "source": [
        "from operator import itemgetter\n",
        "import math\n",
        "import matplotlib.pyplot as plt\n",
        "\n",
        "import nltk\n",
        "# for removing stopwords and tokenizing words\n",
        "nltk.download('stopwords')\n",
        "\n",
        "# for dealing with punctuations\n",
        "nltk.download('punkt')\n",
        "from nltk.corpus import stopwords\n",
        "from nltk.tokenize import word_tokenize, sent_tokenize\n"
      ]
    },
    {
      "cell_type": "code",
      "execution_count": 19,
      "metadata": {
        "id": "zpifD_HAm19v"
      },
      "outputs": [],
      "source": [
        "# remove stop words from sentences \n",
        "stop_words = set(stopwords.words('english'))"
      ]
    },
    {
      "cell_type": "code",
      "execution_count": 20,
      "metadata": {
        "id": "tJcjLo8Nm19v"
      },
      "outputs": [],
      "source": [
        "# plot the distribution of words"
      ]
    },
    {
      "cell_type": "code",
      "execution_count": 21,
      "metadata": {
        "id": "UtqCqB6Km19v"
      },
      "outputs": [],
      "source": [
        "def n_words(text, n=-1):\n",
        "    '''Function to get n number of tokenized words from a given blob of text\n",
        "    Input:\n",
        "     str (text): Text to be tokenized\n",
        "     int (n): number of words to return after tokenizing text\n",
        "     default: -1, shows all the sentences\n",
        "    Output:\n",
        "     str: n number of tokenized words\n",
        "    '''\n",
        "    token_words = word_tokenize(text.lower())[:n]\n",
        "    return token_words"
      ]
    },
    {
      "cell_type": "code",
      "execution_count": 22,
      "metadata": {
        "colab": {
          "base_uri": "https://localhost:8080/"
        },
        "id": "CDxrHVeem19v",
        "outputId": "25468dea-938f-4d5c-8e92-3438807f999c"
      },
      "outputs": [
        {
          "output_type": "stream",
          "name": "stdout",
          "text": [
            "Total number of words is : 678\n",
            "last 10 words: ['opportunity', 'to', 'wish', 'all', 'maize', 'farmers', 'a', 'highly', 'productive', 'season']\n"
          ]
        }
      ],
      "source": [
        "# for computing TF, get all the words, third website\n",
        "total_words1 = n_words(df_all[\"Content\"][0])\n",
        "word_length1 = len(total_words1)\n",
        "print(f\"Total number of words is : {word_length1}\")\n",
        "print(f\"last 10 words: {total_words1[668:]}\")"
      ]
    },
    {
      "cell_type": "code",
      "execution_count": 23,
      "metadata": {
        "colab": {
          "base_uri": "https://localhost:8080/"
        },
        "id": "pAEQ9AIOm19v",
        "outputId": "ba4f8db1-d7b5-4088-b00c-d24207c7a087"
      },
      "outputs": [
        {
          "output_type": "stream",
          "name": "stdout",
          "text": [
            "Total number of words is : 522\n",
            "last 10 words: ['or', 'stored', 'as', 'reserve', 'for', 'use', 'in', 'times', 'of', 'famine']\n"
          ]
        }
      ],
      "source": [
        "# for computing TF, get all the words, second website\n",
        "total_words2 = n_words(df_all[\"Content\"][1])\n",
        "word_length2 = len(total_words2)\n",
        "print(f\"Total number of words is : {word_length2}\")\n",
        "print(f\"last 10 words: {total_words2[512:]}\")"
      ]
    },
    {
      "cell_type": "code",
      "source": [
        "# for computing TF, get all the words, third website\n",
        "total_words3 = n_words(df_all[\"Content\"][2])\n",
        "word_length3 = len(total_words3)\n",
        "print(f\"Total number of words is : {word_length3}\")\n",
        "print(f\"last 10 words: {total_words3[3786:]}\")"
      ],
      "metadata": {
        "colab": {
          "base_uri": "https://localhost:8080/"
        },
        "id": "FGyhA7AnZQKi",
        "outputId": "812f5120-edef-43f1-bbe4-4aac9b4d284d"
      },
      "execution_count": 24,
      "outputs": [
        {
          "output_type": "stream",
          "name": "stdout",
          "text": [
            "Total number of words is : 3796\n",
            "last 10 words: ['field', 'and', 'then', 'used', 'as', 'fodder', ',', 'fuel', ',', 'etc']\n"
          ]
        }
      ]
    },
    {
      "cell_type": "code",
      "execution_count": 25,
      "metadata": {
        "id": "y17WU9lMm19w"
      },
      "outputs": [],
      "source": [
        "def n_sentens(text, n=-1):\n",
        "    '''Function to get n number of tokenized sentences from a given blob of text\n",
        "    n=-1 to see all the sentences.\n",
        "    Input:\n",
        "        str (text): Several sentences to be tokenized\n",
        "        int (n): number of sentences to return after tokenizing text\n",
        "            default: -1, shows all the sentences\n",
        "    Output:\n",
        "        str (sent_print): n number of tokenized sentences for print display\n",
        "        array (token_sent): list with n number of tokenized sentences\n",
        "    '''\n",
        "    token_sent = sent_tokenize(text)[:n]\n",
        "    sent_print = \"\\n\".join(sent_tokenize(text)[:n])\n",
        "    return token_sent, sent_print"
      ]
    },
    {
      "cell_type": "code",
      "execution_count": 26,
      "metadata": {
        "id": "Jn53pDS5m19w"
      },
      "outputs": [],
      "source": [
        "token_sent10, print_sent10 = n_sentens(df_all[\"Content\"][0],10)"
      ]
    },
    {
      "cell_type": "code",
      "execution_count": 27,
      "metadata": {
        "colab": {
          "base_uri": "https://localhost:8080/"
        },
        "id": "taY0lBfFm19w",
        "outputId": "abf90139-03ed-4420-975b-bbae91301a25"
      },
      "outputs": [
        {
          "output_type": "stream",
          "name": "stdout",
          "text": [
            "First 10 sentences:\n",
            "The Kenya Meteorological Department has predicted that the current dry and hot conditions in the country will continue to prevail.\n",
            "As a result, the long rains growing season that usually starts in March and ends in May will be delayed.\n",
            "Whether this is just a cyclical pattern or the result of climate change is a subject for a separate debate.\n",
            "The delayed onset of rains is already causing anxiety among farmers as they ponder on the implications of this on their yields.\n",
            "Maize is undoubtedly the primary staple food in Kenya.\n",
            "Any factor that influences maize yields is therefore of key concern to farmers.\n",
            "Extraneous factors such as weather patterns notwithstanding, it is important for maize farmers to pay attention to all the good standard practices needed for optimum production.\n",
            "Firstly, the farmer needs to understand their agro ecological zone.\n",
            "This helps determine the climatic conditions ideal for maize production and informs correct hybrid seed choice.\n",
            "At this juncture, the farmer needs to understand the soil characteristics prevalent in their field.\n"
          ]
        }
      ],
      "source": [
        "print(f\"First 10 sentences:\\n{print_sent10}\")"
      ]
    },
    {
      "cell_type": "code",
      "execution_count": 28,
      "metadata": {
        "colab": {
          "base_uri": "https://localhost:8080/"
        },
        "id": "EXoBD89Gm19w",
        "outputId": "0f708163-fb86-4cfc-8601-85720db53f61"
      },
      "outputs": [
        {
          "output_type": "stream",
          "name": "stdout",
          "text": [
            "Total number of sentences is : 36\n"
          ]
        }
      ],
      "source": [
        "# for computing IDF,  get all the sentences\n",
        "total_sent1, print_total_se = n_sentens(df_all[\"Content\"][0])\n",
        "sent_length1 = len(total_sent1)\n",
        "print(f\"Total number of sentences is : {sent_length1}\")"
      ]
    },
    {
      "cell_type": "code",
      "execution_count": 29,
      "metadata": {
        "colab": {
          "base_uri": "https://localhost:8080/"
        },
        "id": "04ft5PpEm19x",
        "outputId": "f2003862-d434-4385-d3e6-94eca5a19e72"
      },
      "outputs": [
        {
          "output_type": "stream",
          "name": "stdout",
          "text": [
            "Total number of sentences is : 35\n",
            "First 10 sentences: ['Maize growing in Kenya and Tanzania\\nMaize is an important food crop in Eastern Africa.', 'However, in some areas, it is grown as a cash crop.', 'Maize was introduced to Kenya by Portuguese.', 'It is mainly produced on small farms, which vary in size from a quarter hectare to about fi ve hectares.', 'In some cases it is grown on large plantations.', 'Conditions necessary for growing maize\\na) Over 500 mm of rainfall.', 'Therefore, it does not do well in desert and semi-desert\\nareas.', 'b) Maize does not do well in highland areas above 2 200 metres where temperatures are very low.', 'In such areas, maize grows very slowly and takes more than six months to mature.']\n"
          ]
        }
      ],
      "source": [
        "# second website\n",
        "# for computing IDF,  get all the sentences\n",
        "total_sent2, print_total_se2 = n_sentens(df_all[\"Content\"][1])\n",
        "sent_length2 = len(total_sent2)\n",
        "print(f\"Total number of sentences is : {sent_length2}\")\n",
        "print(f\"First 10 sentences: {total_sent2[:9]}\")"
      ]
    },
    {
      "cell_type": "code",
      "source": [
        "# third website\n",
        "# for computing IDF,  get all the sentences\n",
        "total_sent3, print_total_se3 = n_sentens(df_all[\"Content\"][2])\n",
        "sent_length3 = len(total_sent3)\n",
        "print(f\"Total number of sentences is : {sent_length3}\")\n",
        "print(f\"First 10 sentences: {total_sent3[:9]}\")"
      ],
      "metadata": {
        "colab": {
          "base_uri": "https://localhost:8080/"
        },
        "id": "maNTFImyY_-d",
        "outputId": "f226fe9a-3dfd-4b77-befb-ac98e98aec73"
      },
      "execution_count": 30,
      "outputs": [
        {
          "output_type": "stream",
          "name": "stdout",
          "text": [
            "Total number of sentences is : 159\n",
            "First 10 sentences: ['Maize is the most important cereal crop in sub-Saharan Africa.', 'It is a staple food for an estimated 50% of the population.', 'It is an important source of carbohydrate, protein, iron,\\xa0vitamin B, and minerals.', 'Africans consume maize in a wide variety of ways (maize meal, porridges, pastes and beer).', 'Green maize, fresh on the cob, is eaten baked, roasted or boiled.', 'Every part of the maize plant has economic value: the grain, leaves, stalk, tassel, and cob can all be used to produce a large variety of food and non-food products.', 'In sub-Saharan Africa maize is mostly\\xa0grown by small-scale farmers, generally for subsistence as part of mixed agricultural systems.', 'The systems often lack inputs such as fertiliser, improved seed, irrigation, and labour.', 'According to FAO data, Africa produced 7.4% of the 1, 135 million tonnes produced worldwide in 40 million hectares in 2017 (FAOSTAT, 2017).']\n"
          ]
        }
      ]
    },
    {
      "cell_type": "markdown",
      "metadata": {
        "id": "w8R3K-Alm19x"
      },
      "source": [
        "#### Plotting Total Words \n",
        "\n",
        "Before computing the tf and IDF scores, we can plot the frequency distribution of total tokenized words. These will contain stop words and punctuation marks which are removed in computing the TF IDF"
      ]
    },
    {
      "cell_type": "code",
      "execution_count": 31,
      "metadata": {
        "colab": {
          "base_uri": "https://localhost:8080/",
          "height": 1000
        },
        "id": "yfwgGJHqm19x",
        "outputId": "07b90ae8-85ab-47aa-f23b-01dc82abc9d8"
      },
      "outputs": [
        {
          "output_type": "display_data",
          "data": {
            "text/plain": [
              "<Figure size 432x288 with 1 Axes>"
            ],
            "image/png": "[encoded data removed]"
          },
          "metadata": {
            "needs_background": "light"
          }
        },
        {
          "output_type": "display_data",
          "data": {
            "text/plain": [
              "<Figure size 432x288 with 1 Axes>"
            ],
            "image/png": "[encoded data removed]"
          },
          "metadata": {
            "needs_background": "light"
          }
        },
        {
          "output_type": "display_data",
          "data": {
            "text/plain": [
              "<Figure size 432x288 with 1 Axes>"
            ],
            "image/png": "[encoded data removed]"
          },
          "metadata": {
            "needs_background": "light"
          }
        }
      ],
      "source": [
        "# Figures inline\n",
        "%matplotlib inline\n",
        "\n",
        "# Create freq dist and plot\n",
        "freqdist1 = nltk.FreqDist(total_words1)\n",
        "freqdist2 = nltk.FreqDist(total_words2)\n",
        "freqdist3 = nltk.FreqDist(total_words3)\n",
        "freqdist1.plot(25, title='Distribution of words wesbite 1')\n",
        "freqdist2.plot(25, title='Distribution of words wesbite 2')\n",
        "freqdist3.plot(25, title='Distribution of words wesbite 3');"
      ]
    },
    {
      "cell_type": "markdown",
      "metadata": {
        "id": "TYTDQHpTm19x"
      },
      "source": [
        "It is evident that to get a better representation, stop words and punctuations need to be removed. "
      ]
    },
    {
      "cell_type": "code",
      "execution_count": 32,
      "metadata": {
        "colab": {
          "base_uri": "https://localhost:8080/"
        },
        "id": "gpj1_goPm19x",
        "outputId": "10a60d9e-2b78-42e2-be08-643c93b3702e"
      },
      "outputs": [
        {
          "output_type": "stream",
          "name": "stdout",
          "text": [
            "[('kenya', 0.0029498525073746312), ('meteorological', 0.0014749262536873156), ('department', 0.0014749262536873156), ('predicted', 0.0014749262536873156), ('current', 0.0014749262536873156)]\n"
          ]
        }
      ],
      "source": [
        "# computing the tf score\n",
        "def compute_tf_score(tot_words):\n",
        "    '''\n",
        "    Function to compute the term frequency score for the words\n",
        "    Input:\n",
        "        arr (tot_words): list of the tokenized words generated\n",
        "    Output:\n",
        "        dict (tf_score): key/value pair of word and it's tf score\n",
        "    '''\n",
        "    # empty dict to store the term frequency score\n",
        "    tf_score = {}\n",
        "\n",
        "    # loop through, remove all punctuations\n",
        "    for word in tot_words:\n",
        "        word = word.replace('.','')\n",
        "        word = word.replace(',','')\n",
        "        word = word.replace('’','')\n",
        "        word = word.replace('‘','')\n",
        "\n",
        "        # if the word in a stop word, \n",
        "        # then get it's tf_score and add it to the dict\n",
        "        if word not in stop_words:\n",
        "            if word in tf_score:\n",
        "                tf_score[word] += 1\n",
        "            else:\n",
        "                tf_score[word] = 1\n",
        "                \n",
        "    # divide by word_len for each dic element\n",
        "    word_len = len(tot_words)\n",
        "    tf_score.update((x, y/int(word_len)) for x, y in tf_score.items())\n",
        "    return tf_score\n",
        "\n",
        "# tf score for the first website\n",
        "tf_score1 = compute_tf_score(total_words1)\n",
        "print(list(tf_score1.items())[:5])"
      ]
    },
    {
      "cell_type": "code",
      "execution_count": 33,
      "metadata": {
        "colab": {
          "base_uri": "https://localhost:8080/"
        },
        "id": "rFaAaKZNm19x",
        "outputId": "facd38d7-c89f-449a-f276-d2dd3f16076b"
      },
      "outputs": [
        {
          "output_type": "stream",
          "name": "stdout",
          "text": [
            "[('maize', 0.05172413793103448), ('growing', 0.007662835249042145), ('kenya', 0.011494252873563218), ('tanzania', 0.007662835249042145), ('important', 0.007662835249042145)]\n"
          ]
        }
      ],
      "source": [
        "# tf score for the second website\n",
        "tf_score2 = compute_tf_score(total_words2)\n",
        "print(list(tf_score2.items())[:5])"
      ]
    },
    {
      "cell_type": "code",
      "source": [
        "# tf score for the third website\n",
        "tf_score3 = compute_tf_score(total_words3)\n",
        "print(list(tf_score3.items())[:5])"
      ],
      "metadata": {
        "colab": {
          "base_uri": "https://localhost:8080/"
        },
        "id": "ANeO6GNlaXNC",
        "outputId": "7ef90a81-feff-4872-d648-dbb192a16ffe"
      },
      "execution_count": 34,
      "outputs": [
        {
          "output_type": "stream",
          "name": "stdout",
          "text": [
            "[('maize', 0.014488935721812434), ('important', 0.0015806111696522655), ('cereal', 0.00026343519494204424), ('crop', 0.004214963119072708), ('sub-saharan', 0.0005268703898840885)]\n"
          ]
        }
      ]
    },
    {
      "cell_type": "code",
      "execution_count": 35,
      "metadata": {
        "id": "AYeg4DIZm19x"
      },
      "outputs": [],
      "source": [
        "# combining words from all websites\n",
        "total_words_all = total_words1 + total_words2 + total_words3"
      ]
    },
    {
      "cell_type": "code",
      "execution_count": 36,
      "metadata": {
        "colab": {
          "base_uri": "https://localhost:8080/"
        },
        "id": "9d2Jvq2Tm19y",
        "outputId": "8e97e643-543b-4a4e-ef5c-3742cce3f6e6"
      },
      "outputs": [
        {
          "output_type": "stream",
          "name": "stdout",
          "text": [
            "[('kenya', 0.0034027221777421937), ('meteorological', 0.00020016012810248197), ('department', 0.00020016012810248197), ('predicted', 0.00020016012810248197), ('current', 0.00020016012810248197)]\n"
          ]
        }
      ],
      "source": [
        "# tf score for the all website\n",
        "tf_score_all = compute_tf_score(total_words_all)\n",
        "print(list(tf_score_all.items())[:5])"
      ]
    },
    {
      "cell_type": "code",
      "execution_count": 37,
      "metadata": {
        "id": "oumOCIkWm19y"
      },
      "outputs": [],
      "source": [
        "# calculating IDF\n",
        "\n",
        "def check_sent(word, sentences): \n",
        "    '''Function to compute the number of sentences with given a word\n",
        "    Input:\n",
        "        str (word): word to check\n",
        "        str (sentence): sentence to check word\n",
        "    Output:\n",
        "        int (sent_len): number of sentences with the word in it\n",
        "        '''\n",
        "    final = [all([w in x for w in word]) for x in sentences] \n",
        "    sent_len = len([sentences[i] for i in range(0, len(final)) if final[i]])\n",
        "    return int(sent_len)"
      ]
    },
    {
      "cell_type": "code",
      "execution_count": 38,
      "metadata": {
        "colab": {
          "base_uri": "https://localhost:8080/"
        },
        "id": "ipFDTxeTm19y",
        "outputId": "7907e2f9-229c-4cbd-8ded-67c159f3e818"
      },
      "outputs": [
        {
          "output_type": "stream",
          "name": "stdout",
          "text": [
            "[('kenya', 2.8903717578961645), ('meteorological', 3.58351893845611), ('department', 3.58351893845611), ('predicted', 3.58351893845611), ('current', 3.58351893845611)]\n"
          ]
        }
      ],
      "source": [
        "from pandas.core.indexers import check_key_length\n",
        "from string import punctuation\n",
        "# computing the idf score\n",
        "def compute_idf_score(tot_words, tot_sent):\n",
        "    '''\n",
        "    Function to compute the inverse document frequency score for the words\n",
        "    Input:\n",
        "        arr (tot_words): list of the tokenized words generated\n",
        "        arr (tot_sent): list of all the tokenized sentences\n",
        "    Output:\n",
        "        dict (idf_score): key/value pair of word and it's tf score\n",
        "    '''\n",
        "\n",
        "    # initialize empty dict to compute IDF\n",
        "    idf_score = {}\n",
        "\n",
        "    # remove punctuations for all the words\n",
        "    for word in tot_words:\n",
        "        word = word.replace('.','')\n",
        "        word = word.replace(',','')\n",
        "        word = word.replace('’','')\n",
        "        word = word.replace('‘','')\n",
        "        word = word.replace('(','')\n",
        "        word = word.replace(')','')\n",
        "        \n",
        "        # if the word is not a stop_word, compute the IDF score and append to dict\n",
        "        if word not in stop_words:\n",
        "            if word in idf_score:\n",
        "                idf_score[word] = check_sent(word, tot_sent)\n",
        "            else:\n",
        "                idf_score[word] = 1\n",
        "\n",
        "    # get the length of the list of sentences\n",
        "    sent_len = int(len(tot_sent))\n",
        "    \n",
        "    # Performing a log and divide\n",
        "    idf_score.update((x, math.log(sent_len/y)) for x, y in idf_score.items() if y>0)\n",
        "\n",
        "    return idf_score\n",
        "\n",
        "# idf score for first website\n",
        "idf_score1 = compute_idf_score(total_words1, total_sent1)\n",
        "print(list(idf_score1.items())[:5])"
      ]
    },
    {
      "cell_type": "code",
      "execution_count": 39,
      "metadata": {
        "colab": {
          "base_uri": "https://localhost:8080/"
        },
        "id": "paeIfQogm19y",
        "outputId": "7fd3775a-638c-4f4a-ea3e-00e12e30df68"
      },
      "outputs": [
        {
          "output_type": "stream",
          "name": "stdout",
          "text": [
            "[('maize', 0.5108256237659907), ('growing', 0.9162907318741551), ('kenya', 3.5553480614894135), ('tanzania', 0.4643056081310978), ('important', 0.7827593392496325)]\n"
          ]
        }
      ],
      "source": [
        "# idf score for second website\n",
        "idf_score2 = compute_idf_score(total_words2, total_sent2)\n",
        "print(list(idf_score2.items())[:5])"
      ]
    },
    {
      "cell_type": "code",
      "source": [
        "# idf score for third website\n",
        "idf_score3 = compute_idf_score(total_words3, total_sent3)\n",
        "print(list(idf_score3.items())[:5])"
      ],
      "metadata": {
        "colab": {
          "base_uri": "https://localhost:8080/"
        },
        "id": "17wfbXvOcooY",
        "outputId": "45325605-9f21-4d3c-ff0c-e2893f7722fe"
      },
      "execution_count": 40,
      "outputs": [
        {
          "output_type": "stream",
          "name": "stdout",
          "text": [
            "[('maize', 0.9580303380469203), ('important', 0.35040533092513704), ('cereal', 5.0689042022202315), ('crop', 0.3153140111138668), ('sub-saharan', 1.667706820558076)]\n"
          ]
        }
      ]
    },
    {
      "cell_type": "code",
      "execution_count": 41,
      "metadata": {
        "colab": {
          "base_uri": "https://localhost:8080/"
        },
        "id": "z9PwgNO2m19y",
        "outputId": "90002f1b-577f-4373-bdd8-d61bdadcf7ff"
      },
      "outputs": [
        {
          "output_type": "stream",
          "name": "stdout",
          "text": [
            "[('kenya', 0.008526170377274822), ('meteorological', 0.005285426162914616), ('department', 0.005285426162914616), ('predicted', 0.005285426162914616), ('current', 0.005285426162914616)]\n"
          ]
        }
      ],
      "source": [
        "# compute tfidf\n",
        "tf_idf_score1 = {key: tf_score1[key] * idf_score1.get(key, 0) for key in tf_score1.keys()}\n",
        "print(list(tf_idf_score1.items())[:5])"
      ]
    },
    {
      "cell_type": "code",
      "execution_count": 42,
      "metadata": {
        "colab": {
          "base_uri": "https://localhost:8080/"
        },
        "id": "0sX18nDzm19y",
        "outputId": "e31ee960-a923-4a65-9954-d78b4693951c"
      },
      "outputs": [
        {
          "output_type": "stream",
          "name": "stdout",
          "text": [
            "[('maize', 0.02642201502237883), ('growing', 0.0070213849185759005), ('kenya', 0.04086606967229211), ('tanzania', 0.0035578973803149254), ('important', 0.0059981558563190224), ('food', 0.0032172708472050886), ('crop', 0.0070213849185759005), ('eastern', 0.006811011612048685), ('africa', 0.006811011612048685), ('', 0.0)]\n"
          ]
        }
      ],
      "source": [
        "# compute tfidf\n",
        "tf_idf_score2 = {key: tf_score2[key] * idf_score2.get(key, 0) for key in tf_score2.keys()}\n",
        "print(list(tf_idf_score2.items())[:10])"
      ]
    },
    {
      "cell_type": "code",
      "source": [
        "# compute tfidf\n",
        "tf_idf_score3 = {key: tf_score3[key] * idf_score3.get(key, 0) for key in tf_score3.keys()}\n",
        "print(list(tf_idf_score3.items())[:10])"
      ],
      "metadata": {
        "colab": {
          "base_uri": "https://localhost:8080/"
        },
        "id": "Wg_j-v0ofP7o",
        "outputId": "e43d75e2-2096-4af7-ef75-ce3bfa140277"
      },
      "execution_count": 43,
      "outputs": [
        {
          "output_type": "stream",
          "name": "stdout",
          "text": [
            "[('maize', 0.013880839987508066), ('important', 0.00055385457996597), ('cereal', 0.0013353277666544338), ('crop', 0.0013290369277718305), ('sub-saharan', 0.0008786653427597871), ('africa', 0.0007132272986491262), ('', 0.0), ('staple', 0.0013353277666544338), ('food', 0.00024919442395721824), ('estimated', 0.0001526768751889895)]\n"
          ]
        }
      ]
    },
    {
      "cell_type": "markdown",
      "metadata": {
        "id": "1nntEXHmm19y"
      },
      "source": [
        "#### Top n Words\n",
        "\n",
        "Now that we have the computed the term frequency and inverse document frequency, we can see which are the top words per website and see if any new patterns emerge. We can plot them for better visualization and even have a wordcloud to visually represent them better."
      ]
    },
    {
      "cell_type": "code",
      "execution_count": 44,
      "metadata": {
        "id": "lfm2goF1m19y"
      },
      "outputs": [],
      "source": [
        "def get_top_n(tfidf_score, n):\n",
        "    '''Function to get the top n words/important words\n",
        "    Input:\n",
        "        dict (dict_elem): dictionary containing tf_idf_scores\n",
        "        int (n): number of top words to get\n",
        "    Output:\n",
        "        dict: the top n words by their tfidf scores\n",
        "        \n",
        "    '''\n",
        "    result = dict(sorted(tfidf_score.items(), key = itemgetter(1), reverse = True)[:n]) \n",
        "    return result"
      ]
    },
    {
      "cell_type": "code",
      "execution_count": 45,
      "metadata": {
        "id": "M_W6WBvLm19z"
      },
      "outputs": [],
      "source": [
        "# get the top n number of words for first website\n",
        "topn1 = get_top_n(tf_idf_score1, 15)\n",
        "\n",
        "# get the top n number of words for second website\n",
        "topn2 = get_top_n(tf_idf_score2, 15)\n",
        "\n",
        "# get the top n number of words for second website\n",
        "topn3 = get_top_n(tf_idf_score3, 15)"
      ]
    },
    {
      "cell_type": "code",
      "execution_count": 46,
      "metadata": {
        "colab": {
          "base_uri": "https://localhost:8080/",
          "height": 1000
        },
        "id": "0FmNIQrrm19z",
        "outputId": "d1dc3559-1214-45b1-a8b3-717a8ec166da"
      },
      "outputs": [
        {
          "output_type": "display_data",
          "data": {
            "text/plain": [
              "<Figure size 432x288 with 1 Axes>"
            ],
            "image/png": "[encoded data removed]"
          },
          "metadata": {}
        },
        {
          "output_type": "display_data",
          "data": {
            "text/plain": [
              "<Figure size 432x288 with 1 Axes>"
            ],
            "image/png": "[encoded data removed]"
          },
          "metadata": {}
        },
        {
          "output_type": "display_data",
          "data": {
            "text/plain": [
              "<Figure size 432x288 with 1 Axes>"
            ],
            "image/png": "[encoded data removed]"
          },
          "metadata": {}
        }
      ],
      "source": [
        "import matplotlib.pyplot as plt\n",
        "import seaborn as sns\n",
        "\n",
        "# Figures inline and set visualization style\n",
        "%matplotlib inline\n",
        "sns.set()\n",
        "\n",
        "# Create freq dist and plot\n",
        "freqdist1 = nltk.FreqDist(topn1)\n",
        "freqdist2 = nltk.FreqDist(topn2)\n",
        "freqdist2 = nltk.FreqDist(topn2)\n",
        "freqdist1.plot(title='Top 15 words Website 1', )\n",
        "freqdist2.plot(title='Top 15 words Website 2')\n",
        "freqdist2.plot(title='Top 15 words Website 3');"
      ]
    },
    {
      "cell_type": "code",
      "execution_count": 47,
      "metadata": {
        "id": "lstkH75Im19z"
      },
      "outputs": [],
      "source": [
        "# Define a function to plot word cloud\n",
        "def plot_cloud(wordcloud):\n",
        "    # Set figure size\n",
        "    plt.figure(figsize=(20, 10))\n",
        "    # Display image\n",
        "    plt.imshow(wordcloud) \n",
        "    # No axis details\n",
        "    plt.axis(\"off\");"
      ]
    },
    {
      "cell_type": "code",
      "execution_count": 48,
      "metadata": {
        "id": "BSLC64wTm19z"
      },
      "outputs": [],
      "source": [
        "#!pip3 install wordcloud\n",
        "from wordcloud import WordCloud, STOPWORDS\n"
      ]
    },
    {
      "cell_type": "code",
      "execution_count": 49,
      "metadata": {
        "id": "e68rWVVZm19z"
      },
      "outputs": [],
      "source": [
        "# get the top x number of words\n",
        "top_x1 = [i for i in topn1.keys()]\n",
        "\n",
        "# Generate word cloud\n",
        "wordcloud1 = WordCloud(width= 3000, height = 2000, random_state=1, \n",
        "                      background_color='salmon', colormap='Pastel1', \n",
        "                      collocations=False, stopwords = STOPWORDS).generate(str(top_x1))"
      ]
    },
    {
      "cell_type": "code",
      "execution_count": 50,
      "metadata": {
        "id": "AjO8sOSJm19z"
      },
      "outputs": [],
      "source": [
        "# get the top x number of words)\n",
        "top_x2 = [i for i in topn2.keys()]\n",
        "\n",
        "# Generate word cloud\n",
        "wordcloud2 = WordCloud(width= 3000, height = 2000, random_state=1, \n",
        "                      background_color='white', colormap='Paired', \n",
        "                      collocations=False, stopwords = STOPWORDS).generate(str(top_x2))"
      ]
    },
    {
      "cell_type": "code",
      "source": [
        "# get the top x number of words)\n",
        "top_x3 = [i for i in topn3.keys()]\n",
        "\n",
        "# Generate word cloud\n",
        "wordcloud3 = WordCloud(width= 3000, height = 2000, random_state=1, \n",
        "                      background_color='salmon', colormap='Pastel1', \n",
        "                      collocations=False, stopwords = STOPWORDS).generate(str(top_x3))"
      ],
      "metadata": {
        "id": "HkV_ytqNhm51"
      },
      "execution_count": 51,
      "outputs": []
    },
    {
      "cell_type": "code",
      "execution_count": 52,
      "metadata": {
        "colab": {
          "base_uri": "https://localhost:8080/",
          "height": 1000
        },
        "id": "IIzVpXRIm19z",
        "outputId": "bfb15c42-a9e0-4ba8-dc85-28be32e59562"
      },
      "outputs": [
        {
          "output_type": "display_data",
          "data": {
            "text/plain": [
              "<Figure size 1440x720 with 1 Axes>"
            ],
            "image/png": "[encoded data removed]"
          },
          "metadata": {}
        },
        {
          "output_type": "display_data",
          "data": {
            "text/plain": [
              "<Figure size 1440x720 with 1 Axes>"
            ],
            "image/png": "[encoded data removed]"
          },
          "metadata": {}
        },
        {
          "output_type": "display_data",
          "data": {
            "text/plain": [
              "<Figure size 1440x720 with 1 Axes>"
            ],
            "image/png": "[encoded data removed]"
          },
          "metadata": {}
        }
      ],
      "source": [
        "plot_cloud(wordcloud1)\n",
        "plot_cloud(wordcloud2)\n",
        "plot_cloud(wordcloud3)"
      ]
    },
    {
      "cell_type": "markdown",
      "metadata": {
        "id": "rTAcaUu3m19z"
      },
      "source": [
        "Unsurprisingly, Kenya and maize are among the top words in the websites. An interesting observation is that requires is also a top word which means that we can use this as a basis to extract useful summary using requires as a keyword. It may be used to directly refer to the crop requirements. "
      ]
    },
    {
      "cell_type": "markdown",
      "source": [
        "### LDA\n",
        "\n",
        "For this use case, I use a bag of words which checks the number of times a word appears in the training set documents."
      ],
      "metadata": {
        "id": "S-HE8x-9jCet"
      }
    },
    {
      "cell_type": "code",
      "source": [
        "import gensim\n",
        "from gensim.utils import simple_preprocess\n",
        "from gensim.parsing.preprocessing import STOPWORDS\n",
        "from nltk.stem import WordNetLemmatizer, SnowballStemmer\n",
        "from nltk.stem.porter import *\n",
        "\n",
        "np.random.seed(2018)\n",
        "nltk.download('wordnet')"
      ],
      "metadata": {
        "colab": {
          "base_uri": "https://localhost:8080/"
        },
        "id": "R6WLhDpFjGx9",
        "outputId": "6b054517-7b2f-4ed0-8a5d-8d7d11deb314"
      },
      "execution_count": 53,
      "outputs": [
        {
          "output_type": "stream",
          "name": "stdout",
          "text": [
            "[nltk_data] Downloading package wordnet to /root/nltk_data...\n",
            "[nltk_data]   Package wordnet is already up-to-date!\n"
          ]
        },
        {
          "output_type": "execute_result",
          "data": {
            "text/plain": [
              "True"
            ]
          },
          "metadata": {},
          "execution_count": 53
        }
      ]
    },
    {
      "cell_type": "code",
      "source": [
        "def lemma_stem(text):\n",
        "    '''Function to lemmatize and stem words:\n",
        "    Input:\n",
        "        str (text): the word to be stemmed and lemmatized\n",
        "    Output:\n",
        "        str: the lemmatized word    \n",
        "    '''\n",
        "    ps = PorterStemmer()\n",
        "    return ps.stem(WordNetLemmatizer().lemmatize(text, pos='v'))\n",
        "\n",
        "def preprocess(text):\n",
        "    '''Function to preprocess words for lda model\n",
        "    Input: \n",
        "        str (text): word to preprocess\n",
        "    Output:\n",
        "        str : preprocessed word\n",
        "    '''\n",
        "    # empty list to store the words after preprocessing them\n",
        "    result = []\n",
        "\n",
        "    # loop through each word, check if it is not a stop word and it is at least \n",
        "    # 3 or more letter. Stem and lemmatize the word\n",
        "    for token in gensim.utils.simple_preprocess(text):\n",
        "        if token not in gensim.parsing.preprocessing.STOPWORDS and len(token) > 2:\n",
        "            result.append(lemma_stem(token))\n",
        "    return result"
      ],
      "metadata": {
        "id": "DSstIu9vqYbq"
      },
      "execution_count": 82,
      "outputs": []
    },
    {
      "cell_type": "code",
      "source": [
        "processed_words= []\n",
        "\n",
        "# preprocess the words\n",
        "for i in total_words1:\n",
        "    processed_words.append(preprocess(i))\n",
        "processed_words[:5]"
      ],
      "metadata": {
        "colab": {
          "base_uri": "https://localhost:8080/"
        },
        "id": "J2OYJHX2qfq8",
        "outputId": "e8330d3b-5822-4e6b-8a5a-c35a636c94fd"
      },
      "execution_count": 84,
      "outputs": [
        {
          "output_type": "execute_result",
          "data": {
            "text/plain": [
              "[[], ['kenya'], ['meteorolog'], ['depart'], []]"
            ]
          },
          "metadata": {},
          "execution_count": 84
        }
      ]
    },
    {
      "cell_type": "code",
      "source": [
        "# generate a bag of words from the preprocessed data\n",
        "dictionary = gensim.corpora.Dictionary(processed_words)\n",
        "\n",
        "# filter out tokens that are at least in 10 sentences or in \n",
        "# not more that 0.5 of corpus size\n",
        "dictionary.filter_extremes(no_below=10, no_above=0.5, keep_n=100000)\n",
        "\n",
        "# for each document, report how many words and how many times per sentence\n",
        "bow_corpus = [dictionary.doc2bow(doc) for doc in processed_words]"
      ],
      "metadata": {
        "id": "srrlfN1lqkOY"
      },
      "execution_count": 86,
      "outputs": []
    },
    {
      "cell_type": "code",
      "source": [
        "# train lda on bag of words\n",
        "lda_model = gensim.models.LdaMulticore(bow_corpus, num_topics=10, \n",
        "                                       id2word=dictionary, passes=2, workers=2)"
      ],
      "metadata": {
        "id": "IanrL76vrBPA"
      },
      "execution_count": 87,
      "outputs": []
    },
    {
      "cell_type": "code",
      "source": [
        "# print out the main topics\n",
        "for idx, topic in lda_model.print_topics(-1):\n",
        "    print('Topic: {} \\nWords: {}'.format(idx, topic))"
      ],
      "metadata": {
        "colab": {
          "base_uri": "https://localhost:8080/"
        },
        "id": "gIhg4Gd5rDen",
        "outputId": "9b407798-46d2-479b-82b4-67be2f92d321"
      },
      "execution_count": 88,
      "outputs": [
        {
          "output_type": "stream",
          "name": "stdout",
          "text": [
            "Topic: 0 \n",
            "Words: 0.969*\"nutrient\" + 0.031*\"maiz\"\n",
            "Topic: 1 \n",
            "Words: 0.500*\"maiz\" + 0.500*\"nutrient\"\n",
            "Topic: 2 \n",
            "Words: 0.946*\"nutrient\" + 0.054*\"maiz\"\n",
            "Topic: 3 \n",
            "Words: 0.976*\"nutrient\" + 0.024*\"maiz\"\n",
            "Topic: 4 \n",
            "Words: 0.500*\"nutrient\" + 0.500*\"maiz\"\n",
            "Topic: 5 \n",
            "Words: 0.640*\"maiz\" + 0.360*\"nutrient\"\n",
            "Topic: 6 \n",
            "Words: 0.987*\"maiz\" + 0.013*\"nutrient\"\n",
            "Topic: 7 \n",
            "Words: 0.500*\"nutrient\" + 0.500*\"maiz\"\n",
            "Topic: 8 \n",
            "Words: 0.917*\"maiz\" + 0.083*\"nutrient\"\n",
            "Topic: 9 \n",
            "Words: 0.917*\"nutrient\" + 0.083*\"maiz\"\n"
          ]
        }
      ]
    },
    {
      "cell_type": "markdown",
      "source": [
        "The stemming and lemmatization has left some of the words not very legible. All the same, we can see that nutriwnts, fertile, yield, dress, farmer are among the key topics in the first website. Similarly we can repear the same for the other websites and see what are the key topics. I will instead used all the words from all the websites and see the themes that spread across them."
      ],
      "metadata": {
        "id": "EkSHFssiyjs0"
      }
    },
    {
      "cell_type": "code",
      "source": [
        "# all the words\n",
        "processed_words_all = []\n",
        "\n",
        "# preprocess the words\n",
        "for i in total_words_all:\n",
        "    processed_words_all.append(preprocess(i))\n",
        "\n",
        "# generate a bag of words from the preprocessed data\n",
        "dictionary1 = gensim.corpora.Dictionary(processed_words_all)\n",
        "\n",
        "# filter out tokens that are at least in 10 sentences or in \n",
        "# not more that 0.5 of corpus size\n",
        "dictionary1.filter_extremes(no_below=5, no_above=0.8, keep_n=100000)\n",
        "\n",
        "# for each document, report how many words and how many times per sentence\n",
        "bow_corpus1 = [dictionary1.doc2bow(doc) for doc in processed_words_all]\n",
        "\n",
        "# train lda on bag of words\n",
        "lda_model1 = gensim.models.LdaMulticore(bow_corpus1, num_topics=10, \n",
        "                                       id2word=dictionary1, passes=2, workers=2)"
      ],
      "metadata": {
        "id": "e67YoIDE2F2J"
      },
      "execution_count": 97,
      "outputs": []
    },
    {
      "cell_type": "code",
      "source": [
        "# print out the main topics\n",
        "for idx, topic in lda_model.print_topics(-1):\n",
        "    print('Topic: {} \\nWords: {}'.format(idx, topic))"
      ],
      "metadata": {
        "colab": {
          "base_uri": "https://localhost:8080/"
        },
        "id": "RkrodHku2atn",
        "outputId": "8852706a-595c-4806-ceb6-5ff4bb6e6706"
      },
      "execution_count": 98,
      "outputs": [
        {
          "output_type": "stream",
          "name": "stdout",
          "text": [
            "Topic: 0 \n",
            "Words: 0.969*\"nutrient\" + 0.031*\"maiz\"\n",
            "Topic: 1 \n",
            "Words: 0.500*\"maiz\" + 0.500*\"nutrient\"\n",
            "Topic: 2 \n",
            "Words: 0.946*\"nutrient\" + 0.054*\"maiz\"\n",
            "Topic: 3 \n",
            "Words: 0.976*\"nutrient\" + 0.024*\"maiz\"\n",
            "Topic: 4 \n",
            "Words: 0.500*\"nutrient\" + 0.500*\"maiz\"\n",
            "Topic: 5 \n",
            "Words: 0.640*\"maiz\" + 0.360*\"nutrient\"\n",
            "Topic: 6 \n",
            "Words: 0.987*\"maiz\" + 0.013*\"nutrient\"\n",
            "Topic: 7 \n",
            "Words: 0.500*\"nutrient\" + 0.500*\"maiz\"\n",
            "Topic: 8 \n",
            "Words: 0.917*\"maiz\" + 0.083*\"nutrient\"\n",
            "Topic: 9 \n",
            "Words: 0.917*\"nutrient\" + 0.083*\"maiz\"\n"
          ]
        }
      ]
    },
    {
      "cell_type": "markdown",
      "source": [
        "An interesting and unexpected observation. Across all the websites, the only major theme other than maize is nutrients. Maybe this can point to how important the nutrients that go into the soil are or it may be the nutrients from the plants. I changed the `.filter_extremes` values but the main topics remain."
      ],
      "metadata": {
        "id": "qitAow4e2FSO"
      }
    },
    {
      "cell_type": "markdown",
      "metadata": {
        "id": "8H2dXMrTm19z"
      },
      "source": [
        "## Summarization\n",
        "\n",
        "With summarization being a relatively new area of machine learning, there is no one fits all model that can summarize text best. This is a general text in machine learning where though certain algorithms/models are known to work well for certain situations, it is always a good idea to try different algorithms that also work to see which is best. Therefore I will try several models and check their summarization.\n",
        "\n",
        "The second problem with summarization is that it's harder to compute metrics because we are comparing a summary to the original text. This is where `rouge_score` comes in handy. In an ideal situation, we would have a human generated summary of the text and compare that to the ML generated summary. The `rouge_score` on these two summaries would compare the precision, recall and f1 and determine how close the model came to providing a succint summary. For this case however, we do not have a human generated summary. Instead, we can get the first and last tokenized sentences of the unsummarized text and compare that with the fast and last sentences of the summary given that they are similar sentences. We can then use this score to check which model performs best. \n",
        "\n",
        "For the best performing model, I will tune the hyperparameters. I am also curious to see the difference in summarization for entire paragraphs vs tokenized sentences. My suspicion is that entire paragraph summarization will have a better flow to a ready. \n",
        "\n",
        "There are two types of summarizations I am interested in:\n",
        "1. Abstractive Summarization: This type of summarization, as the name suggests, gives an abstract of the text and may include rewriting some of the text to be less verbose and more coherent. This is useful to someone who wants to get a basic gist of what the website content is\n",
        "2. Extractive Summarization: This type of summarization is useful for extracting the most useful pieces of information from text. It can be based on getting the text with the most common non-stop words or getting text with specific keywords. This is useful when someone is looking for specific things such as the temperature for a given crop.\n",
        "\n",
        "### Abstractive Summarization\n",
        "\n",
        "Anyone who has done anything related to abstractive text summarization knows that one of the very first go to approaches is to use the Encoder-Decoder LSTM (Long Short Term Memory) model which is a type of Recurrent Neural Network. Specifically, they make use of encoders and decoders to understand text and provide summaries. The encoders work by having an internal, often vector, representation of words that is fed into the neural network to obtain a summary based on analysis of words one by one. It therefore 'remembers' whether a word is important or not based on the connections between the previous state. Under the hood, it uses the markov chain concept and words that are kept in the sequence are determined by a probability of importance based on their dependencies. The Network then keeps a memory of this dependencies over many words and therefore is long-term. The decoder on the other hand takes the output of the network and using a mapping based on the encoder, converts the internal vector representation back into text that is legible. The limitation of the LSTM is that it is sequential and only checks the importance of words sequentially. This means that it does not get the context of the entire sentence at a go. An additional step of using Attention helps to try and resolve this (I discuss more on attention below). Additionally, it works best if it has reference point of an expected summary to produce.\n",
        "\n",
        "With that said, we want people to get useful summaries and we are scraping data which does not have prewritten summaries. Therefore I will use Transformers with pretrained models. Transformers are a clever adaptation of the LSTM models described above. They make use of convolutional neural networks, self-attention and encoder-decoders to give a coherent summary that maintains the message fo the text. Internally, transformers have encoders and decoders that work in tandem with self-attention layers. The self-attention is a property that is multi-step that allows embedding of words into vectors, determining the importnace of words not just as dependent on the previous word but as a component of the entire sentence. This non-sequential factor allows the vectorized words to be assigned a score of importance and given a probability that determines whether or not it is relevant. This works in parallel across sentences to determine which words have clear significance so that they can be decoded and returned as output in a new paraphrased summary. Lastly, they use positional encodings which gives information about the relationship between words based on their positions in the vector space represenation and consequently in the document. Just like the objective of the abstractive summarization, my discussion of how LSTM, BERT and Transformers is an abstract in itself and leaves out a lot details but delivers the key ideas of the models. \n",
        "\n",
        "Another important thing to note is that for LSTM, I would define the neural networks, encoders and decoders from scratch ie with keras while for Transformers, I will use pre-trained models and finetune the best performing. \n",
        "\n",
        "I will use the following transformers:\n",
        "1. BERT: this is bidirectional encoder representations from transformers. It is the fundamental definition of transformers. While bidirectional may imply it reads text left to right then right to left, it actually means that it is non-directional, that is it reads the entire sequence of words at a go. This makes it good for summarization.  \n",
        "2. GPT2: this is Generative Pre-trained Transformer 2. It is mainly for text generation based on the previous context of the words in the sequence. It works for abstractive summarization because we want to generate a new shorter summary that captures the essence of text based on the context.\n",
        "3. BART: This is a generalization of BERT and GPT2 which was pretrained on CNN news articles with the intention of providing summaries by the model learning to reconstruct the original text. \n",
        "4. T5: This is an encoder-decoder model pre-trained on supervised and unsupervised tasks and makses use of the power of transfer learning. \n",
        "5. XLNet: \n",
        "\n",
        "Lastly, because of being trained on a lot of documents and being refined by many researchers, the fine-tuned models can take entired paragraphs without tokenization and generate very good summaries."
      ]
    },
    {
      "cell_type": "code",
      "execution_count": 111,
      "metadata": {
        "id": "QIOGKeDIm190"
      },
      "outputs": [],
      "source": [
        "# !pip3 install spacy -U\n",
        "# !pip3 install Sentencepiece -U\n",
        "# !pip3 install huggingface transformers -U\n",
        "# !pip3 install transformers\n",
        "# !pip3 install bert-extractive-summarizer -U\n",
        "# !pip3 install torch -U"
      ]
    },
    {
      "cell_type": "code",
      "execution_count": 100,
      "metadata": {
        "id": "g6uaQx1Hm190"
      },
      "outputs": [],
      "source": [
        "# from transformers import Seq2SeqTrainingArguments"
      ]
    },
    {
      "cell_type": "code",
      "execution_count": 103,
      "metadata": {
        "id": "DT79CfVYm190"
      },
      "outputs": [],
      "source": [
        "from summarizer import Summarizer, TransformerSummarizer"
      ]
    },
    {
      "cell_type": "code",
      "execution_count": 109,
      "metadata": {
        "id": "1ARZZ4ocm190"
      },
      "outputs": [],
      "source": [
        "content1 = df_all['Content'][0]\n",
        "content2 = df_all['Content'][1]\n",
        "content3 = df_all['Content'][2]"
      ]
    },
    {
      "cell_type": "code",
      "execution_count": 105,
      "metadata": {
        "id": "lGVUrQPWm190"
      },
      "outputs": [],
      "source": [
        "from transformers import pipeline \n",
        "from icecream import ic"
      ]
    },
    {
      "cell_type": "code",
      "execution_count": 106,
      "metadata": {
        "colab": {
          "base_uri": "https://localhost:8080/",
          "height": 451,
          "referenced_widgets": [
            "4d9d5360d2f14705bc89b55b8b6658fe",
            "b2d7edad540443218ca6d93d576b1751",
            "9658271315be4c789708952914718ab2",
            "53027714204d49b1ac81daac847cd2b9",
            "3a03262f4f0d4ccdbdeebab49804f03f",
            "1d168a6ac15144f993b74fe6ff158507",
            "842f4f6bd1c94038a4f6da8730508d1c",
            "8b571757d3844bed98ba0d781c4fcc42",
            "c2fa3f637dbe41acab01f4c7bdab580c",
            "dcbe062199204f2fa0ea7aa83e561297",
            "e3ba1d9e6f664dfaa4fff9f9e6a1582d",
            "8d273ff838074f85b3df84fd1a32fc16",
            "3f34240fd5a54cd5ac607ece79779480",
            "125feda7b94347d8829691b0d4612276",
            "277eea6abe2b4f348325b969d4160ef7",
            "9a89edc49bff485fa081da8b542bbab7",
            "213510723e8b4b57b13a5004ac36101b",
            "9178d2395e9e41f899cbeaf28aa88dff",
            "5863cfa3f7474c51b1f5da828fbd4e75",
            "c32cf28e34994e83b389472e3e189aed",
            "f93ebbeaccca4c36a57d8e7cd6b100b0",
            "a0a038d917f74799b522ea2ee683a6a7",
            "948fd7273698407a803a78a85eedbdc8",
            "dfc5532f42d649c5b02edf1a92797ab4",
            "9e91a296505f43a3990d385190cdd71a",
            "1988871ecbec41459211d0f43a4198b8",
            "4fedf42cdd204dfd86bd098cac8b9ecc",
            "9b3f48b0a0b34e06a19b882536247d71",
            "ab772b7b09db4018a47d4da0ab3bee8e",
            "fd0a7e5667fc4d6096ab77f5bb0bb24a",
            "ca8ec239c65e4dbda2a08b812f67ad4c",
            "425ab010172e4ab182d0a5fd19141f1d",
            "030a7109ac5c47a58060569e354c8a47",
            "ea601eeb030b4b8ebd83ea3958b91a48",
            "109627dd0ab04f51b4b20a3c7d6e1366",
            "93f3ffc5f33f4b388a9dea2cec7ef27c",
            "5092197aba42492bb1b0cc2c956f2c7e",
            "4ed927066ead4faeb025facf12f4ba4f",
            "b99e764a1c444d56a8ada6ef1376d42d",
            "7dab3167ae36419588a2842837a6ab78",
            "d4680356f3694265a64da606bbeb4f19",
            "b862ee5c8ff64274bc465162b339dfd6",
            "93e1f9027dc14451b90a03bebc92a794",
            "6b06c8034b6a440fafd6f10a3b8322a6"
          ]
        },
        "id": "UA8_iwyzm190",
        "outputId": "94a1a278-a397-430f-e80f-6e2717a05be0"
      },
      "outputs": [
        {
          "output_type": "display_data",
          "data": {
            "text/plain": [
              "Downloading:   0%|          | 0.00/571 [00:00<?, ?B/s]"
            ],
            "application/vnd.jupyter.widget-view+json": {
              "version_major": 2,
              "version_minor": 0,
              "model_id": "4d9d5360d2f14705bc89b55b8b6658fe"
            }
          },
          "metadata": {}
        },
        {
          "output_type": "display_data",
          "data": {
            "text/plain": [
              "Downloading:   0%|          | 0.00/1.25G [00:00<?, ?B/s]"
            ],
            "application/vnd.jupyter.widget-view+json": {
              "version_major": 2,
              "version_minor": 0,
              "model_id": "8d273ff838074f85b3df84fd1a32fc16"
            }
          },
          "metadata": {}
        },
        {
          "output_type": "stream",
          "name": "stderr",
          "text": [
            "Some weights of the model checkpoint at bert-large-uncased were not used when initializing BertModel: ['cls.predictions.transform.LayerNorm.weight', 'cls.seq_relationship.weight', 'cls.predictions.transform.dense.weight', 'cls.predictions.transform.LayerNorm.bias', 'cls.seq_relationship.bias', 'cls.predictions.transform.dense.bias', 'cls.predictions.bias', 'cls.predictions.decoder.weight']\n",
            "- This IS expected if you are initializing BertModel from the checkpoint of a model trained on another task or with another architecture (e.g. initializing a BertForSequenceClassification model from a BertForPreTraining model).\n",
            "- This IS NOT expected if you are initializing BertModel from the checkpoint of a model that you expect to be exactly identical (initializing a BertForSequenceClassification model from a BertForSequenceClassification model).\n"
          ]
        },
        {
          "output_type": "display_data",
          "data": {
            "text/plain": [
              "Downloading:   0%|          | 0.00/226k [00:00<?, ?B/s]"
            ],
            "application/vnd.jupyter.widget-view+json": {
              "version_major": 2,
              "version_minor": 0,
              "model_id": "948fd7273698407a803a78a85eedbdc8"
            }
          },
          "metadata": {}
        },
        {
          "output_type": "display_data",
          "data": {
            "text/plain": [
              "Downloading:   0%|          | 0.00/28.0 [00:00<?, ?B/s]"
            ],
            "application/vnd.jupyter.widget-view+json": {
              "version_major": 2,
              "version_minor": 0,
              "model_id": "ea601eeb030b4b8ebd83ea3958b91a48"
            }
          },
          "metadata": {}
        },
        {
          "output_type": "stream",
          "name": "stderr",
          "text": [
            "ic| bert_list1: [\"['The Kenya Meteorological Department has predicted that the current dry and \"\n",
            "                 \"hot conditions in the country will continue to prevail.', ' This helps \"\n",
            "                 'determine the climatic conditions ideal for maize production and informs '\n",
            "                 \"correct hybrid seed choice.', ' At this juncture, the farmer needs to \"\n",
            "                 \"understand the soil characteristics prevalent in their field.', ' Maize is a \"\n",
            "                 'nutrient intensive and requires adequate supplies of all nutrients for all '\n",
            "                 \"growth stages.', ' Soil testing helps establish the available nutrients and \"\n",
            "                 \"the remedial steps that need to be undertaken in case of deficiencies.', ' \"\n",
            "                 'Commercially acquired certified seeds are as a standard practice dressed '\n",
            "                 'with a fungicide and an insecticide to prevent diseases and insects '\n",
            "                 \"respectively.', ' This improves nutrient and water use efficiency, resulting \"\n",
            "                 \"in a healthy resilient crop able to achieve higher yields.', '\"]\n"
          ]
        },
        {
          "output_type": "execute_result",
          "data": {
            "text/plain": [
              "[\"['The Kenya Meteorological Department has predicted that the current dry and hot conditions in the country will continue to prevail.', ' This helps determine the climatic conditions ideal for maize production and informs correct hybrid seed choice.', ' At this juncture, the farmer needs to understand the soil characteristics prevalent in their field.', ' Maize is a nutrient intensive and requires adequate supplies of all nutrients for all growth stages.', ' Soil testing helps establish the available nutrients and the remedial steps that need to be undertaken in case of deficiencies.', ' Commercially acquired certified seeds are as a standard practice dressed with a fungicide and an insecticide to prevent diseases and insects respectively.', ' This improves nutrient and water use efficiency, resulting in a healthy resilient crop able to achieve higher yields.', '\"]"
            ]
          },
          "metadata": {},
          "execution_count": 106
        }
      ],
      "source": [
        "# website 1\n",
        "# empty list to store the summaries \n",
        "bert_list1 = []\n",
        "\n",
        "# initialize pretrained model default is bert-large-uncased\n",
        "bert_model1 = Summarizer()\n",
        "\n",
        "# train on and get the summary of the text with minimum length of 60\n",
        "bert_summary1 = ''.join(bert_model1(str(total_sent1), min_length=60))\n",
        "\n",
        "# add the generaed summaries to the list.\n",
        "bert_list1.append(bert_summary1)\n",
        "\n",
        "# display the summary\n",
        "ic(bert_list1)"
      ]
    },
    {
      "cell_type": "code",
      "execution_count": 107,
      "metadata": {
        "colab": {
          "base_uri": "https://localhost:8080/"
        },
        "id": "7BDuv3MZm190",
        "outputId": "80261053-b220-443d-d2d5-95817d082714"
      },
      "outputs": [
        {
          "output_type": "stream",
          "name": "stderr",
          "text": [
            "Some weights of the model checkpoint at bert-large-uncased were not used when initializing BertModel: ['cls.predictions.transform.LayerNorm.weight', 'cls.seq_relationship.weight', 'cls.predictions.transform.dense.weight', 'cls.predictions.transform.LayerNorm.bias', 'cls.seq_relationship.bias', 'cls.predictions.transform.dense.bias', 'cls.predictions.bias', 'cls.predictions.decoder.weight']\n",
            "- This IS expected if you are initializing BertModel from the checkpoint of a model trained on another task or with another architecture (e.g. initializing a BertForSequenceClassification model from a BertForPreTraining model).\n",
            "- This IS NOT expected if you are initializing BertModel from the checkpoint of a model that you expect to be exactly identical (initializing a BertForSequenceClassification model from a BertForSequenceClassification model).\n"
          ]
        },
        {
          "output_type": "stream",
          "name": "stdout",
          "text": [
            "[\"['Maize growing in Kenya and Tanzania\\\\nMaize is an important food crop in Eastern Africa.', ' Where soils are poor, it requires manure or fertiliser to be\\\\nadded.', e) It needs plenty of labour during planting, weeding and harvesting.', ' Maize growing in Tanzania\\\\nAlmost every family in Tanzania grows maize.', ' Large-scale maize plantations are found around Arusha, Morogoro, Dodoma and along the shores of Lake Victoria.', '\"]\n"
          ]
        }
      ],
      "source": [
        "# website 2\n",
        "# empty list to store the summaries \n",
        "bert_list2 = []\n",
        "\n",
        "# initialize pretrained model default is bert-large-uncased\n",
        "bert_model2 = Summarizer()\n",
        "\n",
        "# train on and get the summary of the text with minimum length of 60\n",
        "bert_summary2 = ''.join(bert_model2(str(total_sent2), min_length=60))\n",
        "\n",
        "# add the generaed summaries to the list.\n",
        "bert_list2.append(bert_summary2)\n",
        "\n",
        "# display the summary\n",
        "print(bert_list2)"
      ]
    },
    {
      "cell_type": "code",
      "source": [
        "# website 3\n",
        "# empty list to store the summaries \n",
        "bert_list3 = []\n",
        "\n",
        "# initialize pretrained model default is bert-large-uncased\n",
        "bert_model3 = Summarizer()\n",
        "\n",
        "# train on and get the summary of the text with minimum length of 60\n",
        "bert_summary3 = ''.join(bert_model3(str(content3), min_length=60))\n",
        "\n",
        "# add the generaed summaries to the list.\n",
        "bert_list3.append(bert_summary3)\n",
        "\n",
        "# display the summary\n",
        "display(bert_list3)"
      ],
      "metadata": {
        "colab": {
          "base_uri": "https://localhost:8080/",
          "height": 108
        },
        "id": "M6QWcgHv6OHy",
        "outputId": "2e83b69e-1fbe-45ec-8502-c84a7e91f535"
      },
      "execution_count": 110,
      "outputs": [
        {
          "output_type": "stream",
          "name": "stderr",
          "text": [
            "Some weights of the model checkpoint at bert-large-uncased were not used when initializing BertModel: ['cls.predictions.transform.LayerNorm.weight', 'cls.seq_relationship.weight', 'cls.predictions.transform.dense.weight', 'cls.predictions.transform.LayerNorm.bias', 'cls.seq_relationship.bias', 'cls.predictions.transform.dense.bias', 'cls.predictions.bias', 'cls.predictions.decoder.weight']\n",
            "- This IS expected if you are initializing BertModel from the checkpoint of a model trained on another task or with another architecture (e.g. initializing a BertForSequenceClassification model from a BertForPreTraining model).\n",
            "- This IS NOT expected if you are initializing BertModel from the checkpoint of a model that you expect to be exactly identical (initializing a BertForSequenceClassification model from a BertForSequenceClassification model).\n"
          ]
        },
        {
          "output_type": "display_data",
          "data": {
            "text/plain": [
              "['Maize is the most important cereal crop in sub-Saharan Africa. Green maize, fresh on the cob, is eaten baked, roasted or boiled. Every part of the maize plant has economic value: the grain, leaves, stalk, tassel, and cob can all be used to produce a large variety of food and non-food products. Large scale maize production goes on in Trans Nzoia, Nakuru and Uasin Gishu counties. Your daily values may be higher or lower, depending on your calorie needs. It is essentially a crop of warm regions where moisture is adequate. The crop requires an average daily temperature of at least 20℃ for adequate growth and development. The time of flowering is influenced by photoperiod and temperature. Maize is especially sensitive to moisture stress around the time of tasselling and cob formation. It also needs optimum moisture conditions at the time of planting. There are few pure varieties of maize at present because farmers tend to grow the more productive hybrids and composites. Others include double cob varieties for example DH01 and DH02.The choice of appropriate maize varieties for a given location is very important because every variety has extensively been tested and recommended based on climatic conditions, soil type, yield potential, tolerance/resistance to pest and diseases or maturity period among others. Lowland Agro-Ecozone:\\xa0Pwani hybrids (\"PH 1\" and \"PH 4\") and \"Coast Composite\" are fairly short varieties resistant to lodging and more tolerant to moisture stress and recommended for altitude range of 0-1250 m. above sea level with 400 mm of rainfall. Seed Selection;\\xa0Kenya seed company contracts specific farmers to grow maize for seed. Land preparation;\\xa0Land on which maize is to be grown should be prepared early to allow stubble enough time to rot. Harrowing is done where the seedbed is rough, although a fine seedbed is not necessary for maize. Maize does well when grown in rotation with other crops such as beans, tobacco, cotton, groundnuts and Irish potatoes. Planting should be done within the first two weeks of the onset of rains. The quantity of manure applied by smallholders is usually very limited. A maize crop of 2 t/ha grains and five t/ha stover removes about 60 kg N, 10 kg P2O5\\xa0and 70 kg K2O from the soil. Nitrogen uptake is slow during the first month after planting, but increases to a maximum during ear formation and tasselling. Phosphate is not taken up easily by maize and, moreover, some tropical soils are deficient in available phosphate. rock phosphate should be applied in the rows or planting holes at planting to promote root formation., Roots are susceptible to poor drainage, which causes stunted and yellowing of leaves. Intercropping\\xa0maize with beans and otherIntercropping\\xa0maize with beans and squash enhances parasitism of caterpillars. Both grasses attract stemborer predators such as ants, earwigs, and spiders. These may be turned back and the cobs tied together and hung up to dry. Average yields in Kenya in 2014 was 18 bags/ha (1,660 kg/ha) (FAOSTAT, 2014). The shelled grain is dried again for a few days and then stored in bags, tins or baskets.']"
            ]
          },
          "metadata": {}
        }
      ]
    },
    {
      "cell_type": "code",
      "execution_count": 112,
      "metadata": {
        "colab": {
          "base_uri": "https://localhost:8080/",
          "height": 431,
          "referenced_widgets": [
            "7a5a496857a04d93aa428651a80e20ac",
            "43650fd1165046288e84b2e97a4e7691",
            "28b9bb723d4b47d9b5e7e40204cbe554",
            "774ce26715d34ce3a5dedb5239a1c825",
            "0e0790cf257a422194b1fb1c3650f876",
            "8fe99fa84bd3491aa822571bfc7cd0c2",
            "1d57626e997b42d9ad9849b98ad9390f",
            "195979e83b2844fd86e22cd1304031f8",
            "98e12145b12e4b818cd6d98635893b09",
            "ee799f403c2b471087b1c33b6f320f79",
            "6a1655344d894ca2879f4e8e43dc8d75",
            "4eb87c0436b44b07b15f2a2975c0bcc3",
            "0437880f4cd44bc48271a8afc4bee210",
            "f8ebcff82e254435ac1129b69edfc505",
            "76bf2df198f64df690c3ce92ab7b454f",
            "80784403179c4108843529096ddfb8da",
            "b8ba2b1666b5452190be8e15543c3c89",
            "d8e68bc4f302484b8ab981dd005002e9",
            "d4146204cf46496f83cf0fed246dc59b",
            "049cdc671bea46e890494fbda975300d",
            "82667b2ac6324ee0b42571ec521499bf",
            "006285a937414c1792a82b5afc282ccb",
            "a9ba6708f39d447183796f99913ac24f",
            "d87dd3b46bd7400eb6b364b06be1ed63",
            "c70378cd82db47f1a57347d776808aea",
            "1f29396b1f6c4a5794245dcc0ce52116",
            "2d48c8087ebf414ab6b363d771b8eb72",
            "6f6b12fbcc8e40b48e07877f208b3c23",
            "1c7b8b6395da41b980f9bd344ae5d641",
            "9cf0e34d182d4c34ae94eacd0a8eb091",
            "cd5ac3f179f9483dba2240a32591cc38",
            "6ef4f536d9774015a6584537c10f6c59",
            "82f3481712f54458887dc6ff7193affe",
            "fd1f7fec07f644678b1043e5d473b5ce",
            "0a7c5b33a3e14094bc9d606e655bad11",
            "a98f029c885442f1aeb272f8976f3c36",
            "ceb9f1605aa449938567bc6abfd8eb5f",
            "69e609e77fed41cfaee9e66c75912966",
            "8ec38222a66a4ea5acb8e3d592bfd5f3",
            "7d980b1f0e534283aea89fbaccce5404",
            "10092d143cf5437b989326a4b99898f1",
            "67e21c576a624b15a0f6e2177f35b769",
            "7cb21778d17842d0aa1795e197caa747",
            "4a9f6cde3fe54739820e65dd2d7484db"
          ]
        },
        "id": "RivTTSV2m190",
        "outputId": "8bf85ff3-0283-4ca7-979a-a37367e42655"
      },
      "outputs": [
        {
          "output_type": "display_data",
          "data": {
            "text/plain": [
              "Downloading:   0%|          | 0.00/718 [00:00<?, ?B/s]"
            ],
            "application/vnd.jupyter.widget-view+json": {
              "version_major": 2,
              "version_minor": 0,
              "model_id": "7a5a496857a04d93aa428651a80e20ac"
            }
          },
          "metadata": {}
        },
        {
          "output_type": "display_data",
          "data": {
            "text/plain": [
              "Downloading:   0%|          | 0.00/1.42G [00:00<?, ?B/s]"
            ],
            "application/vnd.jupyter.widget-view+json": {
              "version_major": 2,
              "version_minor": 0,
              "model_id": "4eb87c0436b44b07b15f2a2975c0bcc3"
            }
          },
          "metadata": {}
        },
        {
          "output_type": "display_data",
          "data": {
            "text/plain": [
              "Downloading:   0%|          | 0.00/0.99M [00:00<?, ?B/s]"
            ],
            "application/vnd.jupyter.widget-view+json": {
              "version_major": 2,
              "version_minor": 0,
              "model_id": "a9ba6708f39d447183796f99913ac24f"
            }
          },
          "metadata": {}
        },
        {
          "output_type": "display_data",
          "data": {
            "text/plain": [
              "Downloading:   0%|          | 0.00/446k [00:00<?, ?B/s]"
            ],
            "application/vnd.jupyter.widget-view+json": {
              "version_major": 2,
              "version_minor": 0,
              "model_id": "fd1f7fec07f644678b1043e5d473b5ce"
            }
          },
          "metadata": {}
        },
        {
          "output_type": "stream",
          "name": "stderr",
          "text": [
            "ic| gpt_summary1: (\"['The Kenya Meteorological Department has predicted that the current dry and \"\n",
            "                   \"hot conditions in the country will continue to prevail.', ' As a result, the \"\n",
            "                   'long rains growing season that usually starts in March and ends in May will '\n",
            "                   \"be delayed.', ' At this juncture, the farmer needs to understand the soil \"\n",
            "                   \"characteristics prevalent in their field.', ' Fertile, well drained, well \"\n",
            "                   \"aerated and good textured soil is able to supply these nutrients.', ' \"\n",
            "                   'Commercially acquired certified seeds are as a standard practice dressed '\n",
            "                   'with a fungicide and an insecticide to prevent diseases and insects '\n",
            "                   \"respectively.', ' In addition, the correct sowing depth will ensure uniform \"\n",
            "                   \"emergence and good plant population.', ' Maize also requires ‘booster \"\n",
            "                   \"nitrogen’ over the growing period.', '\")\n"
          ]
        },
        {
          "output_type": "execute_result",
          "data": {
            "text/plain": [
              "\"['The Kenya Meteorological Department has predicted that the current dry and hot conditions in the country will continue to prevail.', ' As a result, the long rains growing season that usually starts in March and ends in May will be delayed.', ' At this juncture, the farmer needs to understand the soil characteristics prevalent in their field.', ' Fertile, well drained, well aerated and good textured soil is able to supply these nutrients.', ' Commercially acquired certified seeds are as a standard practice dressed with a fungicide and an insecticide to prevent diseases and insects respectively.', ' In addition, the correct sowing depth will ensure uniform emergence and good plant population.', ' Maize also requires ‘booster nitrogen’ over the growing period.', '\""
            ],
            "application/vnd.google.colaboratory.intrinsic+json": {
              "type": "string"
            }
          },
          "metadata": {},
          "execution_count": 112
        }
      ],
      "source": [
        "# website 1\n",
        "# initialize pretrained GPT2 model\n",
        "GPT2_model1 = TransformerSummarizer(transformer_type=\"GPT2\",\n",
        "                                    transformer_model_key=\"gpt2-medium\")\n",
        "\n",
        "# train on and get the summary of the text with minimum length of 60\n",
        "gpt_summary1 = ''.join(GPT2_model1(str(total_sent1), min_length=60))\n",
        "\n",
        "ic(gpt_summary1)"
      ]
    },
    {
      "cell_type": "code",
      "execution_count": 113,
      "metadata": {
        "colab": {
          "base_uri": "https://localhost:8080/",
          "height": 214
        },
        "id": "6MvbzSEqm191",
        "outputId": "ede35766-9f97-4de1-a556-80f1cae6d6d1"
      },
      "outputs": [
        {
          "output_type": "stream",
          "name": "stderr",
          "text": [
            "ic| gpt_summary2: (\"['Maize growing in Kenya and Tanzania\\\n",
            "                  Maize is an important food crop in \"\n",
            "                   \"Eastern Africa.', ' In such areas, maize grows very slowly and takes more \"\n",
            "                   \"than six months to mature.', ' ii) In Embu, Machakos and Kitui counties, \"\n",
            "                   \"maize is grown on small farms.', ' Maize growing in Tanzania\\\n",
            "                  Almost every \"\n",
            "                   \"family in Tanzania grows maize.', ' It is ground into fl our and used to \"\n",
            "                   \"make ugali and porridge.', '\")\n"
          ]
        },
        {
          "output_type": "execute_result",
          "data": {
            "text/plain": [
              "\"['Maize growing in Kenya and Tanzania\\\\nMaize is an important food crop in Eastern Africa.', ' In such areas, maize grows very slowly and takes more than six months to mature.', ' ii) In Embu, Machakos and Kitui counties, maize is grown on small farms.', ' Maize growing in Tanzania\\\\nAlmost every family in Tanzania grows maize.', ' It is ground into fl our and used to make ugali and porridge.', '\""
            ],
            "application/vnd.google.colaboratory.intrinsic+json": {
              "type": "string"
            }
          },
          "metadata": {},
          "execution_count": 113
        }
      ],
      "source": [
        "# website 3\n",
        "# initialize pretrained GPT2 model\n",
        "GPT2_model2 = TransformerSummarizer(transformer_type=\"GPT2\",\n",
        "                                    transformer_model_key=\"gpt2-medium\")\n",
        "\n",
        "# train on and get the summary of the text with minimum length of 60\n",
        "gpt_summary2 = ''.join(GPT2_model2(str(total_sent2), min_length=60))\n",
        "ic(gpt_summary2)"
      ]
    },
    {
      "cell_type": "code",
      "source": [
        "# website 1\n",
        "# initialize pretrained GPT2 model\n",
        "GPT2_model3 = TransformerSummarizer(transformer_type=\"GPT2\",\n",
        "                                    transformer_model_key=\"gpt2-medium\")\n",
        "\n",
        "# train on and get the summary of the text with minimum length of 60\n",
        "gpt_summary3 = ''.join(GPT2_model3(str(content3), min_length=60))\n",
        "ic(gpt_summary3)"
      ],
      "metadata": {
        "colab": {
          "base_uri": "https://localhost:8080/",
          "height": 1000
        },
        "id": "a3yHl0iy7boK",
        "outputId": "d5061d62-3bd3-463f-f03d-d9720ea22b3f"
      },
      "execution_count": 114,
      "outputs": [
        {
          "output_type": "stream",
          "name": "stderr",
          "text": [
            "ic| gpt_summary3: ('Maize is the most important cereal crop in sub-Saharan Africa. It is an '\n",
            "                   'important source of carbohydrate, protein, iron,\\xa0vitamin B, and minerals. '\n",
            "                   'Table 1: Nutritive Value Per 100g of Edible Portion*Percent Daily Values '\n",
            "                   '(DV) are based on a 2000 calorie diet. Your daily values may be higher or '\n",
            "                   'lower, depending on your calorie needs. There are few pure varieties of '\n",
            "                   'maize at present because farmers tend to grow the more productive hybrids '\n",
            "                   'and composites. The Kenya Flat Complex is one of the low yielding varieties '\n",
            "                   'but has good sheathing which prevents damage by weevil when stored with '\n",
            "                   'husks on. Composites on the other hand are bred growing a number of '\n",
            "                   'varieties together under uncontrolled pollination, there is free inter '\n",
            "                   'pollination. These features help prevent the plant from falling '\n",
            "                   'over/logging, which can lower the yield and quality of the grain.iv) Insect '\n",
            "                   'and disease tolerance/resistanceAlways select a maize variety that is known '\n",
            "                   'to have tolerance/resistance to a disease or insect pest common in your area '\n",
            "                   'where is to be grown so as to attain maximise yield potential. H 627H 626H '\n",
            "                   '625H614D6-86-86-86-942383432Highland zones, high rainfall; Altitudes: '\n",
            "                   '1000-1700m above sea level; Areas:Baringo, Siaya, Kisumu,Busia, Bungoma, '\n",
            "                   'Kakamega,Nakuru, South, Nyanza, Taita TavetaH632, WE1101H6226-86-82422Coffee '\n",
            "                   'zone medium long growing season; Altitude: 1000-1800m above sea leave; '\n",
            "                   'Areas: Coffee zones of Central and Eastern provinces, Kisii, Narok, Nakuru, '\n",
            "                   'Siaya, Kisumu,Busia, Kakamega,Bungoma,West Pokot, '\n",
            "                   'Keiyo,MarakwetH513PHB3253H511Duma 434-54-54-54-520201618Dryland areas. Where '\n",
            "                   'similar conditions prevail in the highlands of Tanzania, Uganda and Ethiopia '\n",
            "                   'these varieties are recommended. The variety performs well within '\n",
            "                   'altitudinal range of 1000-500 m above sea level and is a variety for '\n",
            "                   'marginal rainfall areas. The maize is then harvested and treated using '\n",
            "                   'Thiram-dindane to prevent pest attack and sold to farmers as seed. This is '\n",
            "                   'because of the problem of reduced hybrid vigour in the first generation.b). '\n",
            "                   'Continuous cropping of maize should be avoided unless the soil is very '\n",
            "                   'fertile or where a lot of fertilizers are applied.c). Planting should be '\n",
            "                   'done within the first two weeks of the onset of rains. Spacing and plant '\n",
            "                   'population per hectare The recommended spacing and planting density of maize '\n",
            "                   'for different areas is as shown in table .Region. Highland75x25cm 1 '\n",
            "                   'plant/hill (pure stand)75 x 50cm 2 plants/hill (intercrop)53,33353,333\\xa0'\n",
            "                   'Medium75 x 30cm 1 plant/hill (pure stand)75 x 60cm 2 plants/hill '\n",
            "                   '(intercrop)44,44444,444Dry land and coastal90 x 30cm 1 plant/hill (pure '\n",
            "                   'stand)90x 60cm 2 plants/hill (intercrop)37,85037,850The appropriate planting '\n",
            "                   'depth varies from 2 to 10 cm, depending on the weather conditions and the '\n",
            "                   'moisture status of the soil. In dry and coastal low land areas where the '\n",
            "                   'soil is dry and/or sandy, maize seed should be planted more deeply (5 to 10 '\n",
            "                   'cm). Maize is very sensitive to weed competition during the first 4-6 weeks '\n",
            "                   'after emergence. Maize has a high demand for nitrogen, which is often the '\n",
            "                   'limiting nutrient. K2O deficiency results in leaves with burnt edges and '\n",
            "                   'yellow or light green colour and empty cob ends, while P2O5\\xa0deficiency '\n",
            "                   'results in purple tinged leaves and hollow grains. Nitrogen deficiency shows '\n",
            "                   'as yellow or light green stunted plants. Nitrogen (N) can be applied in\\xa0'\n",
            "                   'organic\\xa0farming via\\xa0green manure\\xa0(legumes fixing N directly from '\n",
            "                   'the atmosphere),\\xa0farmyard manure\\xa0(FYM) or compost. This will allow '\n",
            "                   'roots to absorb the natural nitrates formed with bacterial action in the '\n",
            "                   'soil. The intercropped legumes should be sown at the time of first weeding '\n",
            "                   'in order not to crowd out the young maize plants. Push-pull\\xa0Desmodium\\xa0'\n",
            "                   '(Desmodium uncinatum) and\\xa0molasses grass\\xa0(Melinis minutifolia) when '\n",
            "                   'planted in between maize rows keep the stem borer moths away. Both grasses '\n",
            "                   'attract stemborer predators such as ants, earwigs, and spiders. Sudan grass '\n",
            "                   'also increases the efficiency of\\xa0natural enemies, in particular parasitic '\n",
            "                   'wasps, when planted as border crops (Herren; Pickett, 2000; ICIPE, 2006). '\n",
            "                   'Average yields in Kenya in 2014 was 18 bags/ha (1,660 kg/ha) (FAOSTAT, '\n",
            "                   '2014).')\n"
          ]
        },
        {
          "output_type": "execute_result",
          "data": {
            "text/plain": [
              "'Maize is the most important cereal crop in sub-Saharan Africa. It is an important source of carbohydrate, protein, iron,\\xa0vitamin B, and minerals. Table 1: Nutritive Value Per 100g of Edible Portion*Percent Daily Values (DV) are based on a 2000 calorie diet. Your daily values may be higher or lower, depending on your calorie needs. There are few pure varieties of maize at present because farmers tend to grow the more productive hybrids and composites. The Kenya Flat Complex is one of the low yielding varieties but has good sheathing which prevents damage by weevil when stored with husks on. Composites on the other hand are bred growing a number of varieties together under uncontrolled pollination, there is free inter pollination. These features help prevent the plant from falling over/logging, which can lower the yield and quality of the grain.iv) Insect and disease tolerance/resistanceAlways select a maize variety that is known to have tolerance/resistance to a disease or insect pest common in your area where is to be grown so as to attain maximise yield potential. H 627H 626H 625H614D6-86-86-86-942383432Highland zones, high rainfall; Altitudes: 1000-1700m above sea level; Areas:Baringo, Siaya, Kisumu,Busia, Bungoma, Kakamega,Nakuru, South, Nyanza, Taita TavetaH632, WE1101H6226-86-82422Coffee zone medium long growing season; Altitude: 1000-1800m above sea leave; Areas: Coffee zones of Central and Eastern provinces, Kisii, Narok, Nakuru, Siaya, Kisumu,Busia, Kakamega,Bungoma,West Pokot, Keiyo,MarakwetH513PHB3253H511Duma 434-54-54-54-520201618Dryland areas. Where similar conditions prevail in the highlands of Tanzania, Uganda and Ethiopia these varieties are recommended. The variety performs well within altitudinal range of 1000-500 m above sea level and is a variety for marginal rainfall areas. The maize is then harvested and treated using Thiram-dindane to prevent pest attack and sold to farmers as seed. This is because of the problem of reduced hybrid vigour in the first generation.b). Continuous cropping of maize should be avoided unless the soil is very fertile or where a lot of fertilizers are applied.c). Planting should be done within the first two weeks of the onset of rains. Spacing and plant population per hectare The recommended spacing and planting density of maize for different areas is as shown in table .Region. Highland75x25cm 1 plant/hill (pure stand)75 x 50cm 2 plants/hill (intercrop)53,33353,333\\xa0Medium75 x 30cm 1 plant/hill (pure stand)75 x 60cm 2 plants/hill (intercrop)44,44444,444Dry land and coastal90 x 30cm 1 plant/hill (pure stand)90x 60cm 2 plants/hill (intercrop)37,85037,850The appropriate planting depth varies from 2 to 10 cm, depending on the weather conditions and the moisture status of the soil. In dry and coastal low land areas where the soil is dry and/or sandy, maize seed should be planted more deeply (5 to 10 cm). Maize is very sensitive to weed competition during the first 4-6 weeks after emergence. Maize has a high demand for nitrogen, which is often the limiting nutrient. K2O deficiency results in leaves with burnt edges and yellow or light green colour and empty cob ends, while P2O5\\xa0deficiency results in purple tinged leaves and hollow grains. Nitrogen deficiency shows as yellow or light green stunted plants. Nitrogen (N) can be applied in\\xa0organic\\xa0farming via\\xa0green manure\\xa0(legumes fixing N directly from the atmosphere),\\xa0farmyard manure\\xa0(FYM) or compost. This will allow roots to absorb the natural nitrates formed with bacterial action in the soil. The intercropped legumes should be sown at the time of first weeding in order not to crowd out the young maize plants. Push-pull\\xa0Desmodium\\xa0(Desmodium uncinatum) and\\xa0molasses grass\\xa0(Melinis minutifolia) when planted in between maize rows keep the stem borer moths away. Both grasses attract stemborer predators such as ants, earwigs, and spiders. Sudan grass also increases the efficiency of\\xa0natural enemies, in particular parasitic wasps, when planted as border crops (Herren; Pickett, 2000; ICIPE, 2006). Average yields in Kenya in 2014 was 18 bags/ha (1,660 kg/ha) (FAOSTAT, 2014).'"
            ],
            "application/vnd.google.colaboratory.intrinsic+json": {
              "type": "string"
            }
          },
          "metadata": {},
          "execution_count": 114
        }
      ]
    },
    {
      "cell_type": "code",
      "source": [
        "from transformers import T5Tokenizer, T5ForConditionalGeneration\n",
        "\n",
        "# initialized pretrained T5 model \n",
        "t5_model1 = T5ForConditionalGeneration.from_pretrained('t5-base')\n",
        "tokenizer1 = T5Tokenizer.from_pretrained('t5-base')\n",
        "\n",
        "# preprocess text\n",
        "t5_text1 = \".\".join(total_sent1)\n",
        "Preprocessed_text1 = \"summarize: \" + t5_text1\n",
        "\n",
        "# encode tokenized sentences\n",
        "tokens_input1 = tokenizer1.encode(Preprocessed_text1,return_tensors=\"pt\", \n",
        "                                 max_length=512, truncation=True)\n",
        "\n",
        "# fit and train the model on the encoded sentences \n",
        "summary_ids = t5_model1.generate(tokens_input1,\n",
        "                             min_length=60,\n",
        "                             max_length=180,\n",
        "                             length_penalty=4.0)\n",
        "\n",
        "# get the summarized sentences and decode them\n",
        "t5_summary1 = tokenizer1.decode(summary_ids[0])\n",
        "print(t5_summary1)"
      ],
      "metadata": {
        "id": "nV3bkU5XsXYl"
      },
      "execution_count": null,
      "outputs": []
    },
    {
      "cell_type": "code",
      "source": [
        "# initialized pretrained T5 model \n",
        "t5_model2 = T5ForConditionalGeneration.from_pretrained('t5-base')\n",
        "tokenizer2 = T5Tokenizer.from_pretrained('t5-base')\n",
        "\n",
        "# preprocess text\n",
        "t5_text2 = \".\".join(total_sent2)\n",
        "Preprocessed_text2 = \"summarize: \" + t5_text2\n",
        "\n",
        "# encide tokenized sentences\n",
        "tokens_input2 = tokenizer2.encode(Preprocessed_text2,return_tensors=\"pt\", \n",
        "                                 max_length=512, truncation=True)\n",
        "\n",
        "# fit and train the model on the encoded sentences \n",
        "summary_ids = t5_model1.generate(tokens_input3,\n",
        "                             min_length=60,\n",
        "                             max_length=180,\n",
        "                             length_penalty=4.0)\n",
        "\n",
        "# get the summarized sentences and decode them\n",
        "t5_summary2 = tokenizer2.decode(summary_ids[0])\n",
        "print(t5_summary2)"
      ],
      "metadata": {
        "id": "Dd6MDwKhUM_v"
      },
      "execution_count": null,
      "outputs": []
    },
    {
      "cell_type": "code",
      "source": [
        "# initialized pretrained T5 model \n",
        "t5_model3 = T5ForConditionalGeneration.from_pretrained('t5-base')\n",
        "tokenizer3 = T5Tokenizer.from_pretrained('t5-base')\n",
        "\n",
        "# preprocess text\n",
        "t5_text3 = \".\".join(content3)\n",
        "Preprocessed_text3 = \"summarize: \" + t5_text3\n",
        "\n",
        "# encide tokenized sentences\n",
        "tokens_input2 = tokenizer2.encode(Preprocessed_text3,return_tensors=\"pt\", \n",
        "                                 max_length=512, truncation=True)\n",
        "\n",
        "# fit and train the model on the encoded sentences \n",
        "summary_ids = t5_model1.generate(tokens_input3,\n",
        "                             min_length=60,\n",
        "                             max_length=180,\n",
        "                             length_penalty=4.0)\n",
        "\n",
        "# get the summarized sentences and decode them\n",
        "t5_summary3 = tokenizer3.decode(summary_ids[0])\n",
        "print(t5_summary3)"
      ],
      "metadata": {
        "id": "mA8CWrbQ7oEl"
      },
      "execution_count": null,
      "outputs": []
    },
    {
      "cell_type": "code",
      "execution_count": null,
      "metadata": {
        "id": "OiaLlcmZm191"
      },
      "outputs": [],
      "source": [
        "xl_model1 = TransformerSummarizer(transformer_type=\"XLNet\",\n",
        "                                  transformer_model_key=\"xlnet-base-cased\")\n",
        "xl_summary1 = ''.join(xl_model1(str(total_sent1), min_length=60))\n",
        "print(xl_summary1)"
      ]
    },
    {
      "cell_type": "code",
      "execution_count": null,
      "metadata": {
        "id": "RCWgxLZzm191"
      },
      "outputs": [],
      "source": [
        "xl_model2 = TransformerSummarizer(transformer_type=\"XLNet\",\n",
        "                                  transformer_model_key=\"xlnet-base-cased\")\n",
        "xl_summary2 = ''.join(xl_model2(str(total_sent2), min_length=60))\n",
        "print(xl_summary2)"
      ]
    },
    {
      "cell_type": "code",
      "execution_count": null,
      "metadata": {
        "id": "g2Uc5wcjm191"
      },
      "outputs": [],
      "source": [
        "string = \"250 kg Oranges for Sale. I want to sell 100 kg of Onions at 100 per kg.\"\n",
        "\n",
        "# Split the text\n",
        "words_list = string.split(\" \")\n",
        "print(words_list)\n",
        "\n",
        "# Find which words are numbers\n",
        "quantity_array = []\n",
        "price_array = []\n",
        "for i in range(len(words_list)):\n",
        "    try:\n",
        "        number = int(words_list[i])\n",
        "        # Is it a price or a quantity?\n",
        "        if words_list[i + 1] == 'kg':\n",
        "            quantity_array.append(number)\n",
        "        else:\n",
        "            price_array.append(number)\n",
        "    except ValueError:\n",
        "        print(\"\\'%s\\' is not a number\" % words_list[i])\n",
        "\n",
        "# Get the results\n",
        "print(quantity_array)\n",
        "print(price_array)"
      ]
    },
    {
      "cell_type": "markdown",
      "metadata": {
        "id": "MbIiGm7km191"
      },
      "source": [
        "### Extractive Summarization\n",
        "\n",
        "For extractive summarization, I use the following models:\n",
        "1. TextRank: This is a graph-based ranking model that combines the power of PageRank algorithm with text processing to allow text extraction and summarization. Specifically, it uses word graphs where words are linked together and if some words seem to appear often together, they are assigned higher weight. Then, from this graph/network, the PageRank algorithm is applied to group important keywords together. It is unsupervised. \n",
        "2. Conventional\n",
        "3. Cosine Similarity. \n"
      ]
    },
    {
      "cell_type": "code",
      "execution_count": null,
      "metadata": {
        "id": "ccX4MPtsm191"
      },
      "outputs": [],
      "source": [
        "# necessary to install these locally\n",
        "\n",
        "# !pip3 install pytextrank\n",
        "# !pip3 install spacy\n",
        "# !spacy download en_core_web_sm\n",
        "# !pip3 install murmurhash -U\n",
        "# !pip3 install -U pip setuptools wheel"
      ]
    },
    {
      "cell_type": "code",
      "execution_count": null,
      "metadata": {
        "id": "FBQTzHomm191"
      },
      "outputs": [],
      "source": [
        "# TextRank\n",
        "import spacy\n",
        "import pytextrank\n",
        "\n",
        "# load a spaCy model, depending on language, scale, etc.\n",
        "nlp = spacy.load(\"en_core_web_sm\")\n",
        "\n",
        "# add PyTextRank to the spaCy pipeline\n",
        "nlp.add_pipe(\"textrank\")\n",
        "doc = nlp(content1)\n",
        "\n",
        "# examine the top-ranked phrases in the document\n",
        "for phrase in doc._.phrases[:10]:\n",
        "    print(phrase)"
      ]
    },
    {
      "cell_type": "code",
      "source": [
        "# get the ranking of the words\n",
        "tr = doc._.textrank\n",
        "tr.plot_keyphrases()"
      ],
      "metadata": {
        "id": "dVwVkHDcVEON"
      },
      "execution_count": null,
      "outputs": []
    },
    {
      "cell_type": "code",
      "source": [
        "# loop through the top phrases and print the first 15\n",
        "for sent in tr.summary(limit_phrases=15, limit_sentences=5):\n",
        "    ic(sent)"
      ],
      "metadata": {
        "id": "a5Gq1WhSU6rA"
      },
      "execution_count": null,
      "outputs": []
    },
    {
      "cell_type": "code",
      "source": [
        "# Conventional \n",
        "from heapq import nlargest\n",
        "\n",
        "def summarize(text, per):\n",
        "    '''\n",
        "    \n",
        "    '''\n",
        "    nlp = spacy.load('en_core_web_sm')\n",
        "    doc= nlp(text)\n",
        "    tokens=[token.text for token in doc]\n",
        "    word_frequencies={}\n",
        "    for word in doc:\n",
        "        if word.text.lower() not in list(stop_words):\n",
        "            if word.text.lower() not in punctuation:\n",
        "                if word.text not in word_frequencies.keys():\n",
        "                    word_frequencies[word.text] = 1\n",
        "                else:\n",
        "                    word_frequencies[word.text] += 1\n",
        "    max_frequency=max(word_frequencies.values())\n",
        "    for word in word_frequencies.keys():\n",
        "        word_frequencies[word]=word_frequencies[word]/max_frequency\n",
        "    sentence_tokens= [sent for sent in doc.sents]\n",
        "    sentence_scores = {}\n",
        "    for sent in sentence_tokens:\n",
        "        for word in sent:\n",
        "            if word.text.lower() in word_frequencies.keys():\n",
        "                if sent not in sentence_scores.keys():                            \n",
        "                    sentence_scores[sent]=word_frequencies[word.text.lower()]\n",
        "                else:\n",
        "                    sentence_scores[sent]+=word_frequencies[word.text.lower()]\n",
        "    #select_length=int(len(sentence_tokens)*per)\n",
        "    select_length = int(per)\n",
        "    summary=nlargest(select_length, sentence_scores,key=sentence_scores.get)\n",
        "    final_summary=[word.text for word in summary]\n",
        "    summary=''.join(final_summary)\n",
        "    return summary"
      ],
      "metadata": {
        "id": "NiEVzg-HUyPc"
      },
      "execution_count": null,
      "outputs": []
    },
    {
      "cell_type": "code",
      "source": [
        "summarize(content1, 10)"
      ],
      "metadata": {
        "id": "cal9PNbjU1hx"
      },
      "execution_count": null,
      "outputs": []
    },
    {
      "cell_type": "code",
      "source": [
        ""
      ],
      "metadata": {
        "id": "jmdJAVz-gWQD"
      },
      "execution_count": null,
      "outputs": []
    },
    {
      "cell_type": "code",
      "execution_count": null,
      "metadata": {
        "id": "RfhPJx4rm191"
      },
      "outputs": [],
      "source": [
        "# cosine Similarity\n",
        "from nltk.cluster.util import cosine_distance\n",
        "import networkx as nx"
      ]
    },
    {
      "cell_type": "code",
      "source": [
        "def read_article(text):        \n",
        "    sentences =[]        \n",
        "    sentences = sent_tokenize(text)    \n",
        "    for sentence in sentences:        \n",
        "      sentence.replace(\"[^a-zA-Z0-9]\",\" \")     \n",
        "    return sentences"
      ],
      "metadata": {
        "id": "BikAWbSP3Tci"
      },
      "execution_count": null,
      "outputs": []
    },
    {
      "cell_type": "code",
      "source": [
        "def sentence_similarity(sent1,sent2,stopwords=None):    \n",
        "    if stopwords is None:        \n",
        "        stopwords = []        \n",
        "    sent1 = [w.lower() for w in sent1]    \n",
        "    sent2 = [w.lower() for w in sent2]\n",
        "            \n",
        "    all_words = list(set(sent1 + sent2))   \n",
        "        \n",
        "    vector1 = [0] * len(all_words)    \n",
        "    vector2 = [0] * len(all_words)        \n",
        "    #build the vector for the first sentence    \n",
        "    for w in sent1:        \n",
        "        if not w in stopwords:\n",
        "            vector1[all_words.index(w)]+=1                                                             \n",
        "    #build the vector for the second sentence    \n",
        "    for w in sent2:        \n",
        "        if not w in stopwords:            \n",
        "            vector2[all_words.index(w)]+=1 \n",
        "                \n",
        "    return 1-cosine_distance(vector1,vector2)"
      ],
      "metadata": {
        "id": "1MKm2o9U3bqL"
      },
      "execution_count": null,
      "outputs": []
    },
    {
      "cell_type": "code",
      "source": [
        "# Create similarity matrix among all sentences\n",
        "def build_similarity_matrix(sentences,stop_words):\n",
        "    #create an empty similarity matrix\n",
        "    similarity_matrix = np.zeros((len(sentences),len(sentences)))\n",
        "    \n",
        "    for idx1 in range(len(sentences)):\n",
        "        for idx2 in range(len(sentences)):\n",
        "            if idx1!=idx2:\n",
        "                similarity_matrix[idx1][idx2] = sentence_similarity(sentences[idx1],sentences[idx2],stop_words)\n",
        "                \n",
        "    return similarity_matrix"
      ],
      "metadata": {
        "id": "eKTIJdKT4FRE"
      },
      "execution_count": null,
      "outputs": []
    },
    {
      "cell_type": "code",
      "source": [
        "def generate_summary(text,top_n):\n",
        "    stop_words = stopwords.words('english')    \n",
        "    summarize_text = []\n",
        "    # Step1: read text and tokenize    \n",
        "    sentences = read_article(text)\n",
        "    # Step2: generate similarity matrix            \n",
        "    sentence_similarity_matrix = build_similarity_matrix(sentences,stop_words)\n",
        "    # Step3: Rank sentences in similarity matrix\n",
        "    sentence_similarity_graph = nx.from_numpy_array(sentence_similarity_matrix)\n",
        "    scores = nx.pagerank(sentence_similarity_graph)\n",
        "    # Step4: sort the rank and place top sentences\n",
        "    ranked_sentences = sorted(((scores[i],s) for i,s in enumerate(sentences)),reverse=True)\n",
        "\n",
        "    # Step5: get the top n number of sentences based on rank\n",
        "    for i in range(top_n):\n",
        "        summarize_text.append(ranked_sentences[i][1])\n",
        "    # Step6 : output the summarized version\n",
        "    return \" \".join(summarize_text),len(sentences)"
      ],
      "metadata": {
        "id": "gtvrQv0U3syA"
      },
      "execution_count": null,
      "outputs": []
    },
    {
      "cell_type": "code",
      "source": [
        "print(generate_summary(content1, 5))"
      ],
      "metadata": {
        "id": "c5kqkeve35IL"
      },
      "execution_count": null,
      "outputs": []
    },
    {
      "cell_type": "code",
      "source": [
        ""
      ],
      "metadata": {
        "id": "de2WdbPWpemJ"
      },
      "execution_count": null,
      "outputs": []
    },
    {
      "cell_type": "markdown",
      "source": [
        "### Question Answering"
      ],
      "metadata": {
        "id": "jyux-KCS8Ex9"
      }
    },
    {
      "cell_type": "code",
      "source": [
        ""
      ],
      "metadata": {
        "id": "4EGxZYev9BgX"
      },
      "execution_count": null,
      "outputs": []
    },
    {
      "cell_type": "code",
      "source": [
        "from transformers import AutoTokenizer, TFAutoModelForQuestionAnswering\n",
        "import tensorflow as tf\n",
        "\n",
        "tokenizer = AutoTokenizer.from_pretrained(\"bert-large-uncased-whole-word-masking-finetuned-squad\")\n",
        "model = TFAutoModelForQuestionAnswering.from_pretrained(\"bert-large-uncased-whole-word-masking-finetuned-squad\")\n",
        "\n",
        "\n",
        "\n",
        "questions = [\n",
        "   \"What is the temperature for maize?\"\n",
        "]\n",
        "\n",
        "for question in questions:\n",
        "    inputs = tokenizer(question, total_sent1, add_special_tokens=True, return_tensors=\"tf\")\n",
        "    input_ids = inputs[\"input_ids\"].numpy()[0]\n",
        "\n",
        "    outputs = model(inputs)\n",
        "    answer_start_scores = outputs.start_logits\n",
        "    answer_end_scores = outputs.end_logits\n",
        "\n",
        "    # Get the most likely beginning of answer with the argmax of the score\n",
        "    answer_start = tf.argmax(answer_start_scores, axis=1).numpy()[0]\n",
        "    # Get the most likely end of answer with the argmax of the score\n",
        "    answer_end = tf.argmax(answer_end_scores, axis=1).numpy()[0] + 1\n",
        "\n",
        "    answer = tokenizer.convert_tokens_to_string(\n",
        "        tokenizer.convert_ids_to_tokens(input_ids[answer_start:answer_end])\n",
        "    )\n",
        "\n",
        "    print(f\"Question: {question}\")\n",
        "    print(f\"Answer: {answer}\")"
      ],
      "metadata": {
        "id": "lbu9GvDSYV7P"
      },
      "execution_count": null,
      "outputs": []
    },
    {
      "cell_type": "code",
      "source": [
        "question_answerer = pipeline(\"question-answering\")\n",
        "result = question_answerer(question=\"What is temperature?\", context=total_sent1)\n",
        "print(\n",
        "    f\"Answer: '{result['answer']}', score: {round(result['score'], 4)}, start: {result['start']}, end: {result['end']}\"\n",
        ")"
      ],
      "metadata": {
        "id": "bJ-TcXzBYaiq"
      },
      "execution_count": null,
      "outputs": []
    },
    {
      "cell_type": "code",
      "source": [
        ""
      ],
      "metadata": {
        "id": "LL_CNtazrKit"
      },
      "execution_count": null,
      "outputs": []
    }
  ],
  "metadata": {
    "kernelspec": {
      "display_name": "Python 3",
      "language": "python",
      "name": "python3"
    },
    "language_info": {
      "codemirror_mode": {
        "name": "ipython",
        "version": 3
      },
      "file_extension": ".py",
      "mimetype": "text/x-python",
      "name": "python",
      "nbconvert_exporter": "python",
      "pygments_lexer": "ipython3",
      "version": "3.8.5"
    },
    "colab": {
      "name": "Text_Summarization.ipynb",
      "provenance": [],
      "collapsed_sections": [],
      "include_colab_link": true
    },
    "widgets": {
      "application/vnd.jupyter.widget-state+json": {
        "4d9d5360d2f14705bc89b55b8b6658fe": {
          "model_module": "@jupyter-widgets/controls",
          "model_name": "HBoxModel",
          "model_module_version": "1.5.0",
          "state": {
            "_dom_classes": [],
            "_model_module": "@jupyter-widgets/controls",
            "_model_module_version": "1.5.0",
            "_model_name": "HBoxModel",
            "_view_count": null,
            "_view_module": "@jupyter-widgets/controls",
            "_view_module_version": "1.5.0",
            "_view_name": "HBoxView",
            "box_style": "",
            "children": [
              "IPY_MODEL_b2d7edad540443218ca6d93d576b1751",
              "IPY_MODEL_9658271315be4c789708952914718ab2",
              "IPY_MODEL_53027714204d49b1ac81daac847cd2b9"
            ],
            "layout": "IPY_MODEL_3a03262f4f0d4ccdbdeebab49804f03f"
          }
        },
        "b2d7edad540443218ca6d93d576b1751": {
          "model_module": "@jupyter-widgets/controls",
          "model_name": "HTMLModel",
          "model_module_version": "1.5.0",
          "state": {
            "_dom_classes": [],
            "_model_module": "@jupyter-widgets/controls",
            "_model_module_version": "1.5.0",
            "_model_name": "HTMLModel",
            "_view_count": null,
            "_view_module": "@jupyter-widgets/controls",
            "_view_module_version": "1.5.0",
            "_view_name": "HTMLView",
            "description": "",
            "description_tooltip": null,
            "layout": "IPY_MODEL_1d168a6ac15144f993b74fe6ff158507",
            "placeholder": "​",
            "style": "IPY_MODEL_842f4f6bd1c94038a4f6da8730508d1c",
            "value": "Downloading: 100%"
          }
        },
        "9658271315be4c789708952914718ab2": {
          "model_module": "@jupyter-widgets/controls",
          "model_name": "FloatProgressModel",
          "model_module_version": "1.5.0",
          "state": {
            "_dom_classes": [],
            "_model_module": "@jupyter-widgets/controls",
            "_model_module_version": "1.5.0",
            "_model_name": "FloatProgressModel",
            "_view_count": null,
            "_view_module": "@jupyter-widgets/controls",
            "_view_module_version": "1.5.0",
            "_view_name": "ProgressView",
            "bar_style": "success",
            "description": "",
            "description_tooltip": null,
            "layout": "IPY_MODEL_8b571757d3844bed98ba0d781c4fcc42",
            "max": 571,
            "min": 0,
            "orientation": "horizontal",
            "style": "IPY_MODEL_c2fa3f637dbe41acab01f4c7bdab580c",
            "value": 571
          }
        },
        "53027714204d49b1ac81daac847cd2b9": {
          "model_module": "@jupyter-widgets/controls",
          "model_name": "HTMLModel",
          "model_module_version": "1.5.0",
          "state": {
            "_dom_classes": [],
            "_model_module": "@jupyter-widgets/controls",
            "_model_module_version": "1.5.0",
            "_model_name": "HTMLModel",
            "_view_count": null,
            "_view_module": "@jupyter-widgets/controls",
            "_view_module_version": "1.5.0",
            "_view_name": "HTMLView",
            "description": "",
            "description_tooltip": null,
            "layout": "IPY_MODEL_dcbe062199204f2fa0ea7aa83e561297",
            "placeholder": "​",
            "style": "IPY_MODEL_e3ba1d9e6f664dfaa4fff9f9e6a1582d",
            "value": " 571/571 [00:00&lt;00:00, 15.0kB/s]"
          }
        },
        "3a03262f4f0d4ccdbdeebab49804f03f": {
          "model_module": "@jupyter-widgets/base",
          "model_name": "LayoutModel",
          "model_module_version": "1.2.0",
          "state": {
            "_model_module": "@jupyter-widgets/base",
            "_model_module_version": "1.2.0",
            "_model_name": "LayoutModel",
            "_view_count": null,
            "_view_module": "@jupyter-widgets/base",
            "_view_module_version": "1.2.0",
            "_view_name": "LayoutView",
            "align_content": null,
            "align_items": null,
            "align_self": null,
            "border": null,
            "bottom": null,
            "display": null,
            "flex": null,
            "flex_flow": null,
            "grid_area": null,
            "grid_auto_columns": null,
            "grid_auto_flow": null,
            "grid_auto_rows": null,
            "grid_column": null,
            "grid_gap": null,
            "grid_row": null,
            "grid_template_areas": null,
            "grid_template_columns": null,
            "grid_template_rows": null,
            "height": null,
            "justify_content": null,
            "justify_items": null,
            "left": null,
            "margin": null,
            "max_height": null,
            "max_width": null,
            "min_height": null,
            "min_width": null,
            "object_fit": null,
            "object_position": null,
            "order": null,
            "overflow": null,
            "overflow_x": null,
            "overflow_y": null,
            "padding": null,
            "right": null,
            "top": null,
            "visibility": null,
            "width": null
          }
        },
        "1d168a6ac15144f993b74fe6ff158507": {
          "model_module": "@jupyter-widgets/base",
          "model_name": "LayoutModel",
          "model_module_version": "1.2.0",
          "state": {
            "_model_module": "@jupyter-widgets/base",
            "_model_module_version": "1.2.0",
            "_model_name": "LayoutModel",
            "_view_count": null,
            "_view_module": "@jupyter-widgets/base",
            "_view_module_version": "1.2.0",
            "_view_name": "LayoutView",
            "align_content": null,
            "align_items": null,
            "align_self": null,
            "border": null,
            "bottom": null,
            "display": null,
            "flex": null,
            "flex_flow": null,
            "grid_area": null,
            "grid_auto_columns": null,
            "grid_auto_flow": null,
            "grid_auto_rows": null,
            "grid_column": null,
            "grid_gap": null,
            "grid_row": null,
            "grid_template_areas": null,
            "grid_template_columns": null,
            "grid_template_rows": null,
            "height": null,
            "justify_content": null,
            "justify_items": null,
            "left": null,
            "margin": null,
            "max_height": null,
            "max_width": null,
            "min_height": null,
            "min_width": null,
            "object_fit": null,
            "object_position": null,
            "order": null,
            "overflow": null,
            "overflow_x": null,
            "overflow_y": null,
            "padding": null,
            "right": null,
            "top": null,
            "visibility": null,
            "width": null
          }
        },
        "842f4f6bd1c94038a4f6da8730508d1c": {
          "model_module": "@jupyter-widgets/controls",
          "model_name": "DescriptionStyleModel",
          "model_module_version": "1.5.0",
          "state": {
            "_model_module": "@jupyter-widgets/controls",
            "_model_module_version": "1.5.0",
            "_model_name": "DescriptionStyleModel",
            "_view_count": null,
            "_view_module": "@jupyter-widgets/base",
            "_view_module_version": "1.2.0",
            "_view_name": "StyleView",
            "description_width": ""
          }
        },
        "8b571757d3844bed98ba0d781c4fcc42": {
          "model_module": "@jupyter-widgets/base",
          "model_name": "LayoutModel",
          "model_module_version": "1.2.0",
          "state": {
            "_model_module": "@jupyter-widgets/base",
            "_model_module_version": "1.2.0",
            "_model_name": "LayoutModel",
            "_view_count": null,
            "_view_module": "@jupyter-widgets/base",
            "_view_module_version": "1.2.0",
            "_view_name": "LayoutView",
            "align_content": null,
            "align_items": null,
            "align_self": null,
            "border": null,
            "bottom": null,
            "display": null,
            "flex": null,
            "flex_flow": null,
            "grid_area": null,
            "grid_auto_columns": null,
            "grid_auto_flow": null,
            "grid_auto_rows": null,
            "grid_column": null,
            "grid_gap": null,
            "grid_row": null,
            "grid_template_areas": null,
            "grid_template_columns": null,
            "grid_template_rows": null,
            "height": null,
            "justify_content": null,
            "justify_items": null,
            "left": null,
            "margin": null,
            "max_height": null,
            "max_width": null,
            "min_height": null,
            "min_width": null,
            "object_fit": null,
            "object_position": null,
            "order": null,
            "overflow": null,
            "overflow_x": null,
            "overflow_y": null,
            "padding": null,
            "right": null,
            "top": null,
            "visibility": null,
            "width": null
          }
        },
        "c2fa3f637dbe41acab01f4c7bdab580c": {
          "model_module": "@jupyter-widgets/controls",
          "model_name": "ProgressStyleModel",
          "model_module_version": "1.5.0",
          "state": {
            "_model_module": "@jupyter-widgets/controls",
            "_model_module_version": "1.5.0",
            "_model_name": "ProgressStyleModel",
            "_view_count": null,
            "_view_module": "@jupyter-widgets/base",
            "_view_module_version": "1.2.0",
            "_view_name": "StyleView",
            "bar_color": null,
            "description_width": ""
          }
        },
        "dcbe062199204f2fa0ea7aa83e561297": {
          "model_module": "@jupyter-widgets/base",
          "model_name": "LayoutModel",
          "model_module_version": "1.2.0",
          "state": {
            "_model_module": "@jupyter-widgets/base",
            "_model_module_version": "1.2.0",
            "_model_name": "LayoutModel",
            "_view_count": null,
            "_view_module": "@jupyter-widgets/base",
            "_view_module_version": "1.2.0",
            "_view_name": "LayoutView",
            "align_content": null,
            "align_items": null,
            "align_self": null,
            "border": null,
            "bottom": null,
            "display": null,
            "flex": null,
            "flex_flow": null,
            "grid_area": null,
            "grid_auto_columns": null,
            "grid_auto_flow": null,
            "grid_auto_rows": null,
            "grid_column": null,
            "grid_gap": null,
            "grid_row": null,
            "grid_template_areas": null,
            "grid_template_columns": null,
            "grid_template_rows": null,
            "height": null,
            "justify_content": null,
            "justify_items": null,
            "left": null,
            "margin": null,
            "max_height": null,
            "max_width": null,
            "min_height": null,
            "min_width": null,
            "object_fit": null,
            "object_position": null,
            "order": null,
            "overflow": null,
            "overflow_x": null,
            "overflow_y": null,
            "padding": null,
            "right": null,
            "top": null,
            "visibility": null,
            "width": null
          }
        },
        "e3ba1d9e6f664dfaa4fff9f9e6a1582d": {
          "model_module": "@jupyter-widgets/controls",
          "model_name": "DescriptionStyleModel",
          "model_module_version": "1.5.0",
          "state": {
            "_model_module": "@jupyter-widgets/controls",
            "_model_module_version": "1.5.0",
            "_model_name": "DescriptionStyleModel",
            "_view_count": null,
            "_view_module": "@jupyter-widgets/base",
            "_view_module_version": "1.2.0",
            "_view_name": "StyleView",
            "description_width": ""
          }
        },
        "8d273ff838074f85b3df84fd1a32fc16": {
          "model_module": "@jupyter-widgets/controls",
          "model_name": "HBoxModel",
          "model_module_version": "1.5.0",
          "state": {
            "_dom_classes": [],
            "_model_module": "@jupyter-widgets/controls",
            "_model_module_version": "1.5.0",
            "_model_name": "HBoxModel",
            "_view_count": null,
            "_view_module": "@jupyter-widgets/controls",
            "_view_module_version": "1.5.0",
            "_view_name": "HBoxView",
            "box_style": "",
            "children": [
              "IPY_MODEL_3f34240fd5a54cd5ac607ece79779480",
              "IPY_MODEL_125feda7b94347d8829691b0d4612276",
              "IPY_MODEL_277eea6abe2b4f348325b969d4160ef7"
            ],
            "layout": "IPY_MODEL_9a89edc49bff485fa081da8b542bbab7"
          }
        },
        "3f34240fd5a54cd5ac607ece79779480": {
          "model_module": "@jupyter-widgets/controls",
          "model_name": "HTMLModel",
          "model_module_version": "1.5.0",
          "state": {
            "_dom_classes": [],
            "_model_module": "@jupyter-widgets/controls",
            "_model_module_version": "1.5.0",
            "_model_name": "HTMLModel",
            "_view_count": null,
            "_view_module": "@jupyter-widgets/controls",
            "_view_module_version": "1.5.0",
            "_view_name": "HTMLView",
            "description": "",
            "description_tooltip": null,
            "layout": "IPY_MODEL_213510723e8b4b57b13a5004ac36101b",
            "placeholder": "​",
            "style": "IPY_MODEL_9178d2395e9e41f899cbeaf28aa88dff",
            "value": "Downloading: 100%"
          }
        },
        "125feda7b94347d8829691b0d4612276": {
          "model_module": "@jupyter-widgets/controls",
          "model_name": "FloatProgressModel",
          "model_module_version": "1.5.0",
          "state": {
            "_dom_classes": [],
            "_model_module": "@jupyter-widgets/controls",
            "_model_module_version": "1.5.0",
            "_model_name": "FloatProgressModel",
            "_view_count": null,
            "_view_module": "@jupyter-widgets/controls",
            "_view_module_version": "1.5.0",
            "_view_name": "ProgressView",
            "bar_style": "success",
            "description": "",
            "description_tooltip": null,
            "layout": "IPY_MODEL_5863cfa3f7474c51b1f5da828fbd4e75",
            "max": 1344997306,
            "min": 0,
            "orientation": "horizontal",
            "style": "IPY_MODEL_c32cf28e34994e83b389472e3e189aed",
            "value": 1344997306
          }
        },
        "277eea6abe2b4f348325b969d4160ef7": {
          "model_module": "@jupyter-widgets/controls",
          "model_name": "HTMLModel",
          "model_module_version": "1.5.0",
          "state": {
            "_dom_classes": [],
            "_model_module": "@jupyter-widgets/controls",
            "_model_module_version": "1.5.0",
            "_model_name": "HTMLModel",
            "_view_count": null,
            "_view_module": "@jupyter-widgets/controls",
            "_view_module_version": "1.5.0",
            "_view_name": "HTMLView",
            "description": "",
            "description_tooltip": null,
            "layout": "IPY_MODEL_f93ebbeaccca4c36a57d8e7cd6b100b0",
            "placeholder": "​",
            "style": "IPY_MODEL_a0a038d917f74799b522ea2ee683a6a7",
            "value": " 1.25G/1.25G [00:53&lt;00:00, 13.9MB/s]"
          }
        },
        "9a89edc49bff485fa081da8b542bbab7": {
          "model_module": "@jupyter-widgets/base",
          "model_name": "LayoutModel",
          "model_module_version": "1.2.0",
          "state": {
            "_model_module": "@jupyter-widgets/base",
            "_model_module_version": "1.2.0",
            "_model_name": "LayoutModel",
            "_view_count": null,
            "_view_module": "@jupyter-widgets/base",
            "_view_module_version": "1.2.0",
            "_view_name": "LayoutView",
            "align_content": null,
            "align_items": null,
            "align_self": null,
            "border": null,
            "bottom": null,
            "display": null,
            "flex": null,
            "flex_flow": null,
            "grid_area": null,
            "grid_auto_columns": null,
            "grid_auto_flow": null,
            "grid_auto_rows": null,
            "grid_column": null,
            "grid_gap": null,
            "grid_row": null,
            "grid_template_areas": null,
            "grid_template_columns": null,
            "grid_template_rows": null,
            "height": null,
            "justify_content": null,
            "justify_items": null,
            "left": null,
            "margin": null,
            "max_height": null,
            "max_width": null,
            "min_height": null,
            "min_width": null,
            "object_fit": null,
            "object_position": null,
            "order": null,
            "overflow": null,
            "overflow_x": null,
            "overflow_y": null,
            "padding": null,
            "right": null,
            "top": null,
            "visibility": null,
            "width": null
          }
        },
        "213510723e8b4b57b13a5004ac36101b": {
          "model_module": "@jupyter-widgets/base",
          "model_name": "LayoutModel",
          "model_module_version": "1.2.0",
          "state": {
            "_model_module": "@jupyter-widgets/base",
            "_model_module_version": "1.2.0",
            "_model_name": "LayoutModel",
            "_view_count": null,
            "_view_module": "@jupyter-widgets/base",
            "_view_module_version": "1.2.0",
            "_view_name": "LayoutView",
            "align_content": null,
            "align_items": null,
            "align_self": null,
            "border": null,
            "bottom": null,
            "display": null,
            "flex": null,
            "flex_flow": null,
            "grid_area": null,
            "grid_auto_columns": null,
            "grid_auto_flow": null,
            "grid_auto_rows": null,
            "grid_column": null,
            "grid_gap": null,
            "grid_row": null,
            "grid_template_areas": null,
            "grid_template_columns": null,
            "grid_template_rows": null,
            "height": null,
            "justify_content": null,
            "justify_items": null,
            "left": null,
            "margin": null,
            "max_height": null,
            "max_width": null,
            "min_height": null,
            "min_width": null,
            "object_fit": null,
            "object_position": null,
            "order": null,
            "overflow": null,
            "overflow_x": null,
            "overflow_y": null,
            "padding": null,
            "right": null,
            "top": null,
            "visibility": null,
            "width": null
          }
        },
        "9178d2395e9e41f899cbeaf28aa88dff": {
          "model_module": "@jupyter-widgets/controls",
          "model_name": "DescriptionStyleModel",
          "model_module_version": "1.5.0",
          "state": {
            "_model_module": "@jupyter-widgets/controls",
            "_model_module_version": "1.5.0",
            "_model_name": "DescriptionStyleModel",
            "_view_count": null,
            "_view_module": "@jupyter-widgets/base",
            "_view_module_version": "1.2.0",
            "_view_name": "StyleView",
            "description_width": ""
          }
        },
        "5863cfa3f7474c51b1f5da828fbd4e75": {
          "model_module": "@jupyter-widgets/base",
          "model_name": "LayoutModel",
          "model_module_version": "1.2.0",
          "state": {
            "_model_module": "@jupyter-widgets/base",
            "_model_module_version": "1.2.0",
            "_model_name": "LayoutModel",
            "_view_count": null,
            "_view_module": "@jupyter-widgets/base",
            "_view_module_version": "1.2.0",
            "_view_name": "LayoutView",
            "align_content": null,
            "align_items": null,
            "align_self": null,
            "border": null,
            "bottom": null,
            "display": null,
            "flex": null,
            "flex_flow": null,
            "grid_area": null,
            "grid_auto_columns": null,
            "grid_auto_flow": null,
            "grid_auto_rows": null,
            "grid_column": null,
            "grid_gap": null,
            "grid_row": null,
            "grid_template_areas": null,
            "grid_template_columns": null,
            "grid_template_rows": null,
            "height": null,
            "justify_content": null,
            "justify_items": null,
            "left": null,
            "margin": null,
            "max_height": null,
            "max_width": null,
            "min_height": null,
            "min_width": null,
            "object_fit": null,
            "object_position": null,
            "order": null,
            "overflow": null,
            "overflow_x": null,
            "overflow_y": null,
            "padding": null,
            "right": null,
            "top": null,
            "visibility": null,
            "width": null
          }
        },
        "c32cf28e34994e83b389472e3e189aed": {
          "model_module": "@jupyter-widgets/controls",
          "model_name": "ProgressStyleModel",
          "model_module_version": "1.5.0",
          "state": {
            "_model_module": "@jupyter-widgets/controls",
            "_model_module_version": "1.5.0",
            "_model_name": "ProgressStyleModel",
            "_view_count": null,
            "_view_module": "@jupyter-widgets/base",
            "_view_module_version": "1.2.0",
            "_view_name": "StyleView",
            "bar_color": null,
            "description_width": ""
          }
        },
        "f93ebbeaccca4c36a57d8e7cd6b100b0": {
          "model_module": "@jupyter-widgets/base",
          "model_name": "LayoutModel",
          "model_module_version": "1.2.0",
          "state": {
            "_model_module": "@jupyter-widgets/base",
            "_model_module_version": "1.2.0",
            "_model_name": "LayoutModel",
            "_view_count": null,
            "_view_module": "@jupyter-widgets/base",
            "_view_module_version": "1.2.0",
            "_view_name": "LayoutView",
            "align_content": null,
            "align_items": null,
            "align_self": null,
            "border": null,
            "bottom": null,
            "display": null,
            "flex": null,
            "flex_flow": null,
            "grid_area": null,
            "grid_auto_columns": null,
            "grid_auto_flow": null,
            "grid_auto_rows": null,
            "grid_column": null,
            "grid_gap": null,
            "grid_row": null,
            "grid_template_areas": null,
            "grid_template_columns": null,
            "grid_template_rows": null,
            "height": null,
            "justify_content": null,
            "justify_items": null,
            "left": null,
            "margin": null,
            "max_height": null,
            "max_width": null,
            "min_height": null,
            "min_width": null,
            "object_fit": null,
            "object_position": null,
            "order": null,
            "overflow": null,
            "overflow_x": null,
            "overflow_y": null,
            "padding": null,
            "right": null,
            "top": null,
            "visibility": null,
            "width": null
          }
        },
        "a0a038d917f74799b522ea2ee683a6a7": {
          "model_module": "@jupyter-widgets/controls",
          "model_name": "DescriptionStyleModel",
          "model_module_version": "1.5.0",
          "state": {
            "_model_module": "@jupyter-widgets/controls",
            "_model_module_version": "1.5.0",
            "_model_name": "DescriptionStyleModel",
            "_view_count": null,
            "_view_module": "@jupyter-widgets/base",
            "_view_module_version": "1.2.0",
            "_view_name": "StyleView",
            "description_width": ""
          }
        },
        "948fd7273698407a803a78a85eedbdc8": {
          "model_module": "@jupyter-widgets/controls",
          "model_name": "HBoxModel",
          "model_module_version": "1.5.0",
          "state": {
            "_dom_classes": [],
            "_model_module": "@jupyter-widgets/controls",
            "_model_module_version": "1.5.0",
            "_model_name": "HBoxModel",
            "_view_count": null,
            "_view_module": "@jupyter-widgets/controls",
            "_view_module_version": "1.5.0",
            "_view_name": "HBoxView",
            "box_style": "",
            "children": [
              "IPY_MODEL_dfc5532f42d649c5b02edf1a92797ab4",
              "IPY_MODEL_9e91a296505f43a3990d385190cdd71a",
              "IPY_MODEL_1988871ecbec41459211d0f43a4198b8"
            ],
            "layout": "IPY_MODEL_4fedf42cdd204dfd86bd098cac8b9ecc"
          }
        },
        "dfc5532f42d649c5b02edf1a92797ab4": {
          "model_module": "@jupyter-widgets/controls",
          "model_name": "HTMLModel",
          "model_module_version": "1.5.0",
          "state": {
            "_dom_classes": [],
            "_model_module": "@jupyter-widgets/controls",
            "_model_module_version": "1.5.0",
            "_model_name": "HTMLModel",
            "_view_count": null,
            "_view_module": "@jupyter-widgets/controls",
            "_view_module_version": "1.5.0",
            "_view_name": "HTMLView",
            "description": "",
            "description_tooltip": null,
            "layout": "IPY_MODEL_9b3f48b0a0b34e06a19b882536247d71",
            "placeholder": "​",
            "style": "IPY_MODEL_ab772b7b09db4018a47d4da0ab3bee8e",
            "value": "Downloading: 100%"
          }
        },
        "9e91a296505f43a3990d385190cdd71a": {
          "model_module": "@jupyter-widgets/controls",
          "model_name": "FloatProgressModel",
          "model_module_version": "1.5.0",
          "state": {
            "_dom_classes": [],
            "_model_module": "@jupyter-widgets/controls",
            "_model_module_version": "1.5.0",
            "_model_name": "FloatProgressModel",
            "_view_count": null,
            "_view_module": "@jupyter-widgets/controls",
            "_view_module_version": "1.5.0",
            "_view_name": "ProgressView",
            "bar_style": "success",
            "description": "",
            "description_tooltip": null,
            "layout": "IPY_MODEL_fd0a7e5667fc4d6096ab77f5bb0bb24a",
            "max": 231508,
            "min": 0,
            "orientation": "horizontal",
            "style": "IPY_MODEL_ca8ec239c65e4dbda2a08b812f67ad4c",
            "value": 231508
          }
        },
        "1988871ecbec41459211d0f43a4198b8": {
          "model_module": "@jupyter-widgets/controls",
          "model_name": "HTMLModel",
          "model_module_version": "1.5.0",
          "state": {
            "_dom_classes": [],
            "_model_module": "@jupyter-widgets/controls",
            "_model_module_version": "1.5.0",
            "_model_name": "HTMLModel",
            "_view_count": null,
            "_view_module": "@jupyter-widgets/controls",
            "_view_module_version": "1.5.0",
            "_view_name": "HTMLView",
            "description": "",
            "description_tooltip": null,
            "layout": "IPY_MODEL_425ab010172e4ab182d0a5fd19141f1d",
            "placeholder": "​",
            "style": "IPY_MODEL_030a7109ac5c47a58060569e354c8a47",
            "value": " 226k/226k [00:00&lt;00:00, 882kB/s]"
          }
        },
        "4fedf42cdd204dfd86bd098cac8b9ecc": {
          "model_module": "@jupyter-widgets/base",
          "model_name": "LayoutModel",
          "model_module_version": "1.2.0",
          "state": {
            "_model_module": "@jupyter-widgets/base",
            "_model_module_version": "1.2.0",
            "_model_name": "LayoutModel",
            "_view_count": null,
            "_view_module": "@jupyter-widgets/base",
            "_view_module_version": "1.2.0",
            "_view_name": "LayoutView",
            "align_content": null,
            "align_items": null,
            "align_self": null,
            "border": null,
            "bottom": null,
            "display": null,
            "flex": null,
            "flex_flow": null,
            "grid_area": null,
            "grid_auto_columns": null,
            "grid_auto_flow": null,
            "grid_auto_rows": null,
            "grid_column": null,
            "grid_gap": null,
            "grid_row": null,
            "grid_template_areas": null,
            "grid_template_columns": null,
            "grid_template_rows": null,
            "height": null,
            "justify_content": null,
            "justify_items": null,
            "left": null,
            "margin": null,
            "max_height": null,
            "max_width": null,
            "min_height": null,
            "min_width": null,
            "object_fit": null,
            "object_position": null,
            "order": null,
            "overflow": null,
            "overflow_x": null,
            "overflow_y": null,
            "padding": null,
            "right": null,
            "top": null,
            "visibility": null,
            "width": null
          }
        },
        "9b3f48b0a0b34e06a19b882536247d71": {
          "model_module": "@jupyter-widgets/base",
          "model_name": "LayoutModel",
          "model_module_version": "1.2.0",
          "state": {
            "_model_module": "@jupyter-widgets/base",
            "_model_module_version": "1.2.0",
            "_model_name": "LayoutModel",
            "_view_count": null,
            "_view_module": "@jupyter-widgets/base",
            "_view_module_version": "1.2.0",
            "_view_name": "LayoutView",
            "align_content": null,
            "align_items": null,
            "align_self": null,
            "border": null,
            "bottom": null,
            "display": null,
            "flex": null,
            "flex_flow": null,
            "grid_area": null,
            "grid_auto_columns": null,
            "grid_auto_flow": null,
            "grid_auto_rows": null,
            "grid_column": null,
            "grid_gap": null,
            "grid_row": null,
            "grid_template_areas": null,
            "grid_template_columns": null,
            "grid_template_rows": null,
            "height": null,
            "justify_content": null,
            "justify_items": null,
            "left": null,
            "margin": null,
            "max_height": null,
            "max_width": null,
            "min_height": null,
            "min_width": null,
            "object_fit": null,
            "object_position": null,
            "order": null,
            "overflow": null,
            "overflow_x": null,
            "overflow_y": null,
            "padding": null,
            "right": null,
            "top": null,
            "visibility": null,
            "width": null
          }
        },
        "ab772b7b09db4018a47d4da0ab3bee8e": {
          "model_module": "@jupyter-widgets/controls",
          "model_name": "DescriptionStyleModel",
          "model_module_version": "1.5.0",
          "state": {
            "_model_module": "@jupyter-widgets/controls",
            "_model_module_version": "1.5.0",
            "_model_name": "DescriptionStyleModel",
            "_view_count": null,
            "_view_module": "@jupyter-widgets/base",
            "_view_module_version": "1.2.0",
            "_view_name": "StyleView",
            "description_width": ""
          }
        },
        "fd0a7e5667fc4d6096ab77f5bb0bb24a": {
          "model_module": "@jupyter-widgets/base",
          "model_name": "LayoutModel",
          "model_module_version": "1.2.0",
          "state": {
            "_model_module": "@jupyter-widgets/base",
            "_model_module_version": "1.2.0",
            "_model_name": "LayoutModel",
            "_view_count": null,
            "_view_module": "@jupyter-widgets/base",
            "_view_module_version": "1.2.0",
            "_view_name": "LayoutView",
            "align_content": null,
            "align_items": null,
            "align_self": null,
            "border": null,
            "bottom": null,
            "display": null,
            "flex": null,
            "flex_flow": null,
            "grid_area": null,
            "grid_auto_columns": null,
            "grid_auto_flow": null,
            "grid_auto_rows": null,
            "grid_column": null,
            "grid_gap": null,
            "grid_row": null,
            "grid_template_areas": null,
            "grid_template_columns": null,
            "grid_template_rows": null,
            "height": null,
            "justify_content": null,
            "justify_items": null,
            "left": null,
            "margin": null,
            "max_height": null,
            "max_width": null,
            "min_height": null,
            "min_width": null,
            "object_fit": null,
            "object_position": null,
            "order": null,
            "overflow": null,
            "overflow_x": null,
            "overflow_y": null,
            "padding": null,
            "right": null,
            "top": null,
            "visibility": null,
            "width": null
          }
        },
        "ca8ec239c65e4dbda2a08b812f67ad4c": {
          "model_module": "@jupyter-widgets/controls",
          "model_name": "ProgressStyleModel",
          "model_module_version": "1.5.0",
          "state": {
            "_model_module": "@jupyter-widgets/controls",
            "_model_module_version": "1.5.0",
            "_model_name": "ProgressStyleModel",
            "_view_count": null,
            "_view_module": "@jupyter-widgets/base",
            "_view_module_version": "1.2.0",
            "_view_name": "StyleView",
            "bar_color": null,
            "description_width": ""
          }
        },
        "425ab010172e4ab182d0a5fd19141f1d": {
          "model_module": "@jupyter-widgets/base",
          "model_name": "LayoutModel",
          "model_module_version": "1.2.0",
          "state": {
            "_model_module": "@jupyter-widgets/base",
            "_model_module_version": "1.2.0",
            "_model_name": "LayoutModel",
            "_view_count": null,
            "_view_module": "@jupyter-widgets/base",
            "_view_module_version": "1.2.0",
            "_view_name": "LayoutView",
            "align_content": null,
            "align_items": null,
            "align_self": null,
            "border": null,
            "bottom": null,
            "display": null,
            "flex": null,
            "flex_flow": null,
            "grid_area": null,
            "grid_auto_columns": null,
            "grid_auto_flow": null,
            "grid_auto_rows": null,
            "grid_column": null,
            "grid_gap": null,
            "grid_row": null,
            "grid_template_areas": null,
            "grid_template_columns": null,
            "grid_template_rows": null,
            "height": null,
            "justify_content": null,
            "justify_items": null,
            "left": null,
            "margin": null,
            "max_height": null,
            "max_width": null,
            "min_height": null,
            "min_width": null,
            "object_fit": null,
            "object_position": null,
            "order": null,
            "overflow": null,
            "overflow_x": null,
            "overflow_y": null,
            "padding": null,
            "right": null,
            "top": null,
            "visibility": null,
            "width": null
          }
        },
        "030a7109ac5c47a58060569e354c8a47": {
          "model_module": "@jupyter-widgets/controls",
          "model_name": "DescriptionStyleModel",
          "model_module_version": "1.5.0",
          "state": {
            "_model_module": "@jupyter-widgets/controls",
            "_model_module_version": "1.5.0",
            "_model_name": "DescriptionStyleModel",
            "_view_count": null,
            "_view_module": "@jupyter-widgets/base",
            "_view_module_version": "1.2.0",
            "_view_name": "StyleView",
            "description_width": ""
          }
        },
        "ea601eeb030b4b8ebd83ea3958b91a48": {
          "model_module": "@jupyter-widgets/controls",
          "model_name": "HBoxModel",
          "model_module_version": "1.5.0",
          "state": {
            "_dom_classes": [],
            "_model_module": "@jupyter-widgets/controls",
            "_model_module_version": "1.5.0",
            "_model_name": "HBoxModel",
            "_view_count": null,
            "_view_module": "@jupyter-widgets/controls",
            "_view_module_version": "1.5.0",
            "_view_name": "HBoxView",
            "box_style": "",
            "children": [
              "IPY_MODEL_109627dd0ab04f51b4b20a3c7d6e1366",
              "IPY_MODEL_93f3ffc5f33f4b388a9dea2cec7ef27c",
              "IPY_MODEL_5092197aba42492bb1b0cc2c956f2c7e"
            ],
            "layout": "IPY_MODEL_4ed927066ead4faeb025facf12f4ba4f"
          }
        },
        "109627dd0ab04f51b4b20a3c7d6e1366": {
          "model_module": "@jupyter-widgets/controls",
          "model_name": "HTMLModel",
          "model_module_version": "1.5.0",
          "state": {
            "_dom_classes": [],
            "_model_module": "@jupyter-widgets/controls",
            "_model_module_version": "1.5.0",
            "_model_name": "HTMLModel",
            "_view_count": null,
            "_view_module": "@jupyter-widgets/controls",
            "_view_module_version": "1.5.0",
            "_view_name": "HTMLView",
            "description": "",
            "description_tooltip": null,
            "layout": "IPY_MODEL_b99e764a1c444d56a8ada6ef1376d42d",
            "placeholder": "​",
            "style": "IPY_MODEL_7dab3167ae36419588a2842837a6ab78",
            "value": "Downloading: 100%"
          }
        },
        "93f3ffc5f33f4b388a9dea2cec7ef27c": {
          "model_module": "@jupyter-widgets/controls",
          "model_name": "FloatProgressModel",
          "model_module_version": "1.5.0",
          "state": {
            "_dom_classes": [],
            "_model_module": "@jupyter-widgets/controls",
            "_model_module_version": "1.5.0",
            "_model_name": "FloatProgressModel",
            "_view_count": null,
            "_view_module": "@jupyter-widgets/controls",
            "_view_module_version": "1.5.0",
            "_view_name": "ProgressView",
            "bar_style": "success",
            "description": "",
            "description_tooltip": null,
            "layout": "IPY_MODEL_d4680356f3694265a64da606bbeb4f19",
            "max": 28,
            "min": 0,
            "orientation": "horizontal",
            "style": "IPY_MODEL_b862ee5c8ff64274bc465162b339dfd6",
            "value": 28
          }
        },
        "5092197aba42492bb1b0cc2c956f2c7e": {
          "model_module": "@jupyter-widgets/controls",
          "model_name": "HTMLModel",
          "model_module_version": "1.5.0",
          "state": {
            "_dom_classes": [],
            "_model_module": "@jupyter-widgets/controls",
            "_model_module_version": "1.5.0",
            "_model_name": "HTMLModel",
            "_view_count": null,
            "_view_module": "@jupyter-widgets/controls",
            "_view_module_version": "1.5.0",
            "_view_name": "HTMLView",
            "description": "",
            "description_tooltip": null,
            "layout": "IPY_MODEL_93e1f9027dc14451b90a03bebc92a794",
            "placeholder": "​",
            "style": "IPY_MODEL_6b06c8034b6a440fafd6f10a3b8322a6",
            "value": " 28.0/28.0 [00:00&lt;00:00, 257B/s]"
          }
        },
        "4ed927066ead4faeb025facf12f4ba4f": {
          "model_module": "@jupyter-widgets/base",
          "model_name": "LayoutModel",
          "model_module_version": "1.2.0",
          "state": {
            "_model_module": "@jupyter-widgets/base",
            "_model_module_version": "1.2.0",
            "_model_name": "LayoutModel",
            "_view_count": null,
            "_view_module": "@jupyter-widgets/base",
            "_view_module_version": "1.2.0",
            "_view_name": "LayoutView",
            "align_content": null,
            "align_items": null,
            "align_self": null,
            "border": null,
            "bottom": null,
            "display": null,
            "flex": null,
            "flex_flow": null,
            "grid_area": null,
            "grid_auto_columns": null,
            "grid_auto_flow": null,
            "grid_auto_rows": null,
            "grid_column": null,
            "grid_gap": null,
            "grid_row": null,
            "grid_template_areas": null,
            "grid_template_columns": null,
            "grid_template_rows": null,
            "height": null,
            "justify_content": null,
            "justify_items": null,
            "left": null,
            "margin": null,
            "max_height": null,
            "max_width": null,
            "min_height": null,
            "min_width": null,
            "object_fit": null,
            "object_position": null,
            "order": null,
            "overflow": null,
            "overflow_x": null,
            "overflow_y": null,
            "padding": null,
            "right": null,
            "top": null,
            "visibility": null,
            "width": null
          }
        },
        "b99e764a1c444d56a8ada6ef1376d42d": {
          "model_module": "@jupyter-widgets/base",
          "model_name": "LayoutModel",
          "model_module_version": "1.2.0",
          "state": {
            "_model_module": "@jupyter-widgets/base",
            "_model_module_version": "1.2.0",
            "_model_name": "LayoutModel",
            "_view_count": null,
            "_view_module": "@jupyter-widgets/base",
            "_view_module_version": "1.2.0",
            "_view_name": "LayoutView",
            "align_content": null,
            "align_items": null,
            "align_self": null,
            "border": null,
            "bottom": null,
            "display": null,
            "flex": null,
            "flex_flow": null,
            "grid_area": null,
            "grid_auto_columns": null,
            "grid_auto_flow": null,
            "grid_auto_rows": null,
            "grid_column": null,
            "grid_gap": null,
            "grid_row": null,
            "grid_template_areas": null,
            "grid_template_columns": null,
            "grid_template_rows": null,
            "height": null,
            "justify_content": null,
            "justify_items": null,
            "left": null,
            "margin": null,
            "max_height": null,
            "max_width": null,
            "min_height": null,
            "min_width": null,
            "object_fit": null,
            "object_position": null,
            "order": null,
            "overflow": null,
            "overflow_x": null,
            "overflow_y": null,
            "padding": null,
            "right": null,
            "top": null,
            "visibility": null,
            "width": null
          }
        },
        "7dab3167ae36419588a2842837a6ab78": {
          "model_module": "@jupyter-widgets/controls",
          "model_name": "DescriptionStyleModel",
          "model_module_version": "1.5.0",
          "state": {
            "_model_module": "@jupyter-widgets/controls",
            "_model_module_version": "1.5.0",
            "_model_name": "DescriptionStyleModel",
            "_view_count": null,
            "_view_module": "@jupyter-widgets/base",
            "_view_module_version": "1.2.0",
            "_view_name": "StyleView",
            "description_width": ""
          }
        },
        "d4680356f3694265a64da606bbeb4f19": {
          "model_module": "@jupyter-widgets/base",
          "model_name": "LayoutModel",
          "model_module_version": "1.2.0",
          "state": {
            "_model_module": "@jupyter-widgets/base",
            "_model_module_version": "1.2.0",
            "_model_name": "LayoutModel",
            "_view_count": null,
            "_view_module": "@jupyter-widgets/base",
            "_view_module_version": "1.2.0",
            "_view_name": "LayoutView",
            "align_content": null,
            "align_items": null,
            "align_self": null,
            "border": null,
            "bottom": null,
            "display": null,
            "flex": null,
            "flex_flow": null,
            "grid_area": null,
            "grid_auto_columns": null,
            "grid_auto_flow": null,
            "grid_auto_rows": null,
            "grid_column": null,
            "grid_gap": null,
            "grid_row": null,
            "grid_template_areas": null,
            "grid_template_columns": null,
            "grid_template_rows": null,
            "height": null,
            "justify_content": null,
            "justify_items": null,
            "left": null,
            "margin": null,
            "max_height": null,
            "max_width": null,
            "min_height": null,
            "min_width": null,
            "object_fit": null,
            "object_position": null,
            "order": null,
            "overflow": null,
            "overflow_x": null,
            "overflow_y": null,
            "padding": null,
            "right": null,
            "top": null,
            "visibility": null,
            "width": null
          }
        },
        "b862ee5c8ff64274bc465162b339dfd6": {
          "model_module": "@jupyter-widgets/controls",
          "model_name": "ProgressStyleModel",
          "model_module_version": "1.5.0",
          "state": {
            "_model_module": "@jupyter-widgets/controls",
            "_model_module_version": "1.5.0",
            "_model_name": "ProgressStyleModel",
            "_view_count": null,
            "_view_module": "@jupyter-widgets/base",
            "_view_module_version": "1.2.0",
            "_view_name": "StyleView",
            "bar_color": null,
            "description_width": ""
          }
        },
        "93e1f9027dc14451b90a03bebc92a794": {
          "model_module": "@jupyter-widgets/base",
          "model_name": "LayoutModel",
          "model_module_version": "1.2.0",
          "state": {
            "_model_module": "@jupyter-widgets/base",
            "_model_module_version": "1.2.0",
            "_model_name": "LayoutModel",
            "_view_count": null,
            "_view_module": "@jupyter-widgets/base",
            "_view_module_version": "1.2.0",
            "_view_name": "LayoutView",
            "align_content": null,
            "align_items": null,
            "align_self": null,
            "border": null,
            "bottom": null,
            "display": null,
            "flex": null,
            "flex_flow": null,
            "grid_area": null,
            "grid_auto_columns": null,
            "grid_auto_flow": null,
            "grid_auto_rows": null,
            "grid_column": null,
            "grid_gap": null,
            "grid_row": null,
            "grid_template_areas": null,
            "grid_template_columns": null,
            "grid_template_rows": null,
            "height": null,
            "justify_content": null,
            "justify_items": null,
            "left": null,
            "margin": null,
            "max_height": null,
            "max_width": null,
            "min_height": null,
            "min_width": null,
            "object_fit": null,
            "object_position": null,
            "order": null,
            "overflow": null,
            "overflow_x": null,
            "overflow_y": null,
            "padding": null,
            "right": null,
            "top": null,
            "visibility": null,
            "width": null
          }
        },
        "6b06c8034b6a440fafd6f10a3b8322a6": {
          "model_module": "@jupyter-widgets/controls",
          "model_name": "DescriptionStyleModel",
          "model_module_version": "1.5.0",
          "state": {
            "_model_module": "@jupyter-widgets/controls",
            "_model_module_version": "1.5.0",
            "_model_name": "DescriptionStyleModel",
            "_view_count": null,
            "_view_module": "@jupyter-widgets/base",
            "_view_module_version": "1.2.0",
            "_view_name": "StyleView",
            "description_width": ""
          }
        },
        "7a5a496857a04d93aa428651a80e20ac": {
          "model_module": "@jupyter-widgets/controls",
          "model_name": "HBoxModel",
          "model_module_version": "1.5.0",
          "state": {
            "_dom_classes": [],
            "_model_module": "@jupyter-widgets/controls",
            "_model_module_version": "1.5.0",
            "_model_name": "HBoxModel",
            "_view_count": null,
            "_view_module": "@jupyter-widgets/controls",
            "_view_module_version": "1.5.0",
            "_view_name": "HBoxView",
            "box_style": "",
            "children": [
              "IPY_MODEL_43650fd1165046288e84b2e97a4e7691",
              "IPY_MODEL_28b9bb723d4b47d9b5e7e40204cbe554",
              "IPY_MODEL_774ce26715d34ce3a5dedb5239a1c825"
            ],
            "layout": "IPY_MODEL_0e0790cf257a422194b1fb1c3650f876"
          }
        },
        "43650fd1165046288e84b2e97a4e7691": {
          "model_module": "@jupyter-widgets/controls",
          "model_name": "HTMLModel",
          "model_module_version": "1.5.0",
          "state": {
            "_dom_classes": [],
            "_model_module": "@jupyter-widgets/controls",
            "_model_module_version": "1.5.0",
            "_model_name": "HTMLModel",
            "_view_count": null,
            "_view_module": "@jupyter-widgets/controls",
            "_view_module_version": "1.5.0",
            "_view_name": "HTMLView",
            "description": "",
            "description_tooltip": null,
            "layout": "IPY_MODEL_8fe99fa84bd3491aa822571bfc7cd0c2",
            "placeholder": "​",
            "style": "IPY_MODEL_1d57626e997b42d9ad9849b98ad9390f",
            "value": "Downloading: 100%"
          }
        },
        "28b9bb723d4b47d9b5e7e40204cbe554": {
          "model_module": "@jupyter-widgets/controls",
          "model_name": "FloatProgressModel",
          "model_module_version": "1.5.0",
          "state": {
            "_dom_classes": [],
            "_model_module": "@jupyter-widgets/controls",
            "_model_module_version": "1.5.0",
            "_model_name": "FloatProgressModel",
            "_view_count": null,
            "_view_module": "@jupyter-widgets/controls",
            "_view_module_version": "1.5.0",
            "_view_name": "ProgressView",
            "bar_style": "success",
            "description": "",
            "description_tooltip": null,
            "layout": "IPY_MODEL_195979e83b2844fd86e22cd1304031f8",
            "max": 718,
            "min": 0,
            "orientation": "horizontal",
            "style": "IPY_MODEL_98e12145b12e4b818cd6d98635893b09",
            "value": 718
          }
        },
        "774ce26715d34ce3a5dedb5239a1c825": {
          "model_module": "@jupyter-widgets/controls",
          "model_name": "HTMLModel",
          "model_module_version": "1.5.0",
          "state": {
            "_dom_classes": [],
            "_model_module": "@jupyter-widgets/controls",
            "_model_module_version": "1.5.0",
            "_model_name": "HTMLModel",
            "_view_count": null,
            "_view_module": "@jupyter-widgets/controls",
            "_view_module_version": "1.5.0",
            "_view_name": "HTMLView",
            "description": "",
            "description_tooltip": null,
            "layout": "IPY_MODEL_ee799f403c2b471087b1c33b6f320f79",
            "placeholder": "​",
            "style": "IPY_MODEL_6a1655344d894ca2879f4e8e43dc8d75",
            "value": " 718/718 [00:00&lt;00:00, 17.6kB/s]"
          }
        },
        "0e0790cf257a422194b1fb1c3650f876": {
          "model_module": "@jupyter-widgets/base",
          "model_name": "LayoutModel",
          "model_module_version": "1.2.0",
          "state": {
            "_model_module": "@jupyter-widgets/base",
            "_model_module_version": "1.2.0",
            "_model_name": "LayoutModel",
            "_view_count": null,
            "_view_module": "@jupyter-widgets/base",
            "_view_module_version": "1.2.0",
            "_view_name": "LayoutView",
            "align_content": null,
            "align_items": null,
            "align_self": null,
            "border": null,
            "bottom": null,
            "display": null,
            "flex": null,
            "flex_flow": null,
            "grid_area": null,
            "grid_auto_columns": null,
            "grid_auto_flow": null,
            "grid_auto_rows": null,
            "grid_column": null,
            "grid_gap": null,
            "grid_row": null,
            "grid_template_areas": null,
            "grid_template_columns": null,
            "grid_template_rows": null,
            "height": null,
            "justify_content": null,
            "justify_items": null,
            "left": null,
            "margin": null,
            "max_height": null,
            "max_width": null,
            "min_height": null,
            "min_width": null,
            "object_fit": null,
            "object_position": null,
            "order": null,
            "overflow": null,
            "overflow_x": null,
            "overflow_y": null,
            "padding": null,
            "right": null,
            "top": null,
            "visibility": null,
            "width": null
          }
        },
        "8fe99fa84bd3491aa822571bfc7cd0c2": {
          "model_module": "@jupyter-widgets/base",
          "model_name": "LayoutModel",
          "model_module_version": "1.2.0",
          "state": {
            "_model_module": "@jupyter-widgets/base",
            "_model_module_version": "1.2.0",
            "_model_name": "LayoutModel",
            "_view_count": null,
            "_view_module": "@jupyter-widgets/base",
            "_view_module_version": "1.2.0",
            "_view_name": "LayoutView",
            "align_content": null,
            "align_items": null,
            "align_self": null,
            "border": null,
            "bottom": null,
            "display": null,
            "flex": null,
            "flex_flow": null,
            "grid_area": null,
            "grid_auto_columns": null,
            "grid_auto_flow": null,
            "grid_auto_rows": null,
            "grid_column": null,
            "grid_gap": null,
            "grid_row": null,
            "grid_template_areas": null,
            "grid_template_columns": null,
            "grid_template_rows": null,
            "height": null,
            "justify_content": null,
            "justify_items": null,
            "left": null,
            "margin": null,
            "max_height": null,
            "max_width": null,
            "min_height": null,
            "min_width": null,
            "object_fit": null,
            "object_position": null,
            "order": null,
            "overflow": null,
            "overflow_x": null,
            "overflow_y": null,
            "padding": null,
            "right": null,
            "top": null,
            "visibility": null,
            "width": null
          }
        },
        "1d57626e997b42d9ad9849b98ad9390f": {
          "model_module": "@jupyter-widgets/controls",
          "model_name": "DescriptionStyleModel",
          "model_module_version": "1.5.0",
          "state": {
            "_model_module": "@jupyter-widgets/controls",
            "_model_module_version": "1.5.0",
            "_model_name": "DescriptionStyleModel",
            "_view_count": null,
            "_view_module": "@jupyter-widgets/base",
            "_view_module_version": "1.2.0",
            "_view_name": "StyleView",
            "description_width": ""
          }
        },
        "195979e83b2844fd86e22cd1304031f8": {
          "model_module": "@jupyter-widgets/base",
          "model_name": "LayoutModel",
          "model_module_version": "1.2.0",
          "state": {
            "_model_module": "@jupyter-widgets/base",
            "_model_module_version": "1.2.0",
            "_model_name": "LayoutModel",
            "_view_count": null,
            "_view_module": "@jupyter-widgets/base",
            "_view_module_version": "1.2.0",
            "_view_name": "LayoutView",
            "align_content": null,
            "align_items": null,
            "align_self": null,
            "border": null,
            "bottom": null,
            "display": null,
            "flex": null,
            "flex_flow": null,
            "grid_area": null,
            "grid_auto_columns": null,
            "grid_auto_flow": null,
            "grid_auto_rows": null,
            "grid_column": null,
            "grid_gap": null,
            "grid_row": null,
            "grid_template_areas": null,
            "grid_template_columns": null,
            "grid_template_rows": null,
            "height": null,
            "justify_content": null,
            "justify_items": null,
            "left": null,
            "margin": null,
            "max_height": null,
            "max_width": null,
            "min_height": null,
            "min_width": null,
            "object_fit": null,
            "object_position": null,
            "order": null,
            "overflow": null,
            "overflow_x": null,
            "overflow_y": null,
            "padding": null,
            "right": null,
            "top": null,
            "visibility": null,
            "width": null
          }
        },
        "98e12145b12e4b818cd6d98635893b09": {
          "model_module": "@jupyter-widgets/controls",
          "model_name": "ProgressStyleModel",
          "model_module_version": "1.5.0",
          "state": {
            "_model_module": "@jupyter-widgets/controls",
            "_model_module_version": "1.5.0",
            "_model_name": "ProgressStyleModel",
            "_view_count": null,
            "_view_module": "@jupyter-widgets/base",
            "_view_module_version": "1.2.0",
            "_view_name": "StyleView",
            "bar_color": null,
            "description_width": ""
          }
        },
        "ee799f403c2b471087b1c33b6f320f79": {
          "model_module": "@jupyter-widgets/base",
          "model_name": "LayoutModel",
          "model_module_version": "1.2.0",
          "state": {
            "_model_module": "@jupyter-widgets/base",
            "_model_module_version": "1.2.0",
            "_model_name": "LayoutModel",
            "_view_count": null,
            "_view_module": "@jupyter-widgets/base",
            "_view_module_version": "1.2.0",
            "_view_name": "LayoutView",
            "align_content": null,
            "align_items": null,
            "align_self": null,
            "border": null,
            "bottom": null,
            "display": null,
            "flex": null,
            "flex_flow": null,
            "grid_area": null,
            "grid_auto_columns": null,
            "grid_auto_flow": null,
            "grid_auto_rows": null,
            "grid_column": null,
            "grid_gap": null,
            "grid_row": null,
            "grid_template_areas": null,
            "grid_template_columns": null,
            "grid_template_rows": null,
            "height": null,
            "justify_content": null,
            "justify_items": null,
            "left": null,
            "margin": null,
            "max_height": null,
            "max_width": null,
            "min_height": null,
            "min_width": null,
            "object_fit": null,
            "object_position": null,
            "order": null,
            "overflow": null,
            "overflow_x": null,
            "overflow_y": null,
            "padding": null,
            "right": null,
            "top": null,
            "visibility": null,
            "width": null
          }
        },
        "6a1655344d894ca2879f4e8e43dc8d75": {
          "model_module": "@jupyter-widgets/controls",
          "model_name": "DescriptionStyleModel",
          "model_module_version": "1.5.0",
          "state": {
            "_model_module": "@jupyter-widgets/controls",
            "_model_module_version": "1.5.0",
            "_model_name": "DescriptionStyleModel",
            "_view_count": null,
            "_view_module": "@jupyter-widgets/base",
            "_view_module_version": "1.2.0",
            "_view_name": "StyleView",
            "description_width": ""
          }
        },
        "4eb87c0436b44b07b15f2a2975c0bcc3": {
          "model_module": "@jupyter-widgets/controls",
          "model_name": "HBoxModel",
          "model_module_version": "1.5.0",
          "state": {
            "_dom_classes": [],
            "_model_module": "@jupyter-widgets/controls",
            "_model_module_version": "1.5.0",
            "_model_name": "HBoxModel",
            "_view_count": null,
            "_view_module": "@jupyter-widgets/controls",
            "_view_module_version": "1.5.0",
            "_view_name": "HBoxView",
            "box_style": "",
            "children": [
              "IPY_MODEL_0437880f4cd44bc48271a8afc4bee210",
              "IPY_MODEL_f8ebcff82e254435ac1129b69edfc505",
              "IPY_MODEL_76bf2df198f64df690c3ce92ab7b454f"
            ],
            "layout": "IPY_MODEL_80784403179c4108843529096ddfb8da"
          }
        },
        "0437880f4cd44bc48271a8afc4bee210": {
          "model_module": "@jupyter-widgets/controls",
          "model_name": "HTMLModel",
          "model_module_version": "1.5.0",
          "state": {
            "_dom_classes": [],
            "_model_module": "@jupyter-widgets/controls",
            "_model_module_version": "1.5.0",
            "_model_name": "HTMLModel",
            "_view_count": null,
            "_view_module": "@jupyter-widgets/controls",
            "_view_module_version": "1.5.0",
            "_view_name": "HTMLView",
            "description": "",
            "description_tooltip": null,
            "layout": "IPY_MODEL_b8ba2b1666b5452190be8e15543c3c89",
            "placeholder": "​",
            "style": "IPY_MODEL_d8e68bc4f302484b8ab981dd005002e9",
            "value": "Downloading: 100%"
          }
        },
        "f8ebcff82e254435ac1129b69edfc505": {
          "model_module": "@jupyter-widgets/controls",
          "model_name": "FloatProgressModel",
          "model_module_version": "1.5.0",
          "state": {
            "_dom_classes": [],
            "_model_module": "@jupyter-widgets/controls",
            "_model_module_version": "1.5.0",
            "_model_name": "FloatProgressModel",
            "_view_count": null,
            "_view_module": "@jupyter-widgets/controls",
            "_view_module_version": "1.5.0",
            "_view_name": "ProgressView",
            "bar_style": "success",
            "description": "",
            "description_tooltip": null,
            "layout": "IPY_MODEL_d4146204cf46496f83cf0fed246dc59b",
            "max": 1520013706,
            "min": 0,
            "orientation": "horizontal",
            "style": "IPY_MODEL_049cdc671bea46e890494fbda975300d",
            "value": 1520013706
          }
        },
        "76bf2df198f64df690c3ce92ab7b454f": {
          "model_module": "@jupyter-widgets/controls",
          "model_name": "HTMLModel",
          "model_module_version": "1.5.0",
          "state": {
            "_dom_classes": [],
            "_model_module": "@jupyter-widgets/controls",
            "_model_module_version": "1.5.0",
            "_model_name": "HTMLModel",
            "_view_count": null,
            "_view_module": "@jupyter-widgets/controls",
            "_view_module_version": "1.5.0",
            "_view_name": "HTMLView",
            "description": "",
            "description_tooltip": null,
            "layout": "IPY_MODEL_82667b2ac6324ee0b42571ec521499bf",
            "placeholder": "​",
            "style": "IPY_MODEL_006285a937414c1792a82b5afc282ccb",
            "value": " 1.42G/1.42G [01:11&lt;00:00, 38.1MB/s]"
          }
        },
        "80784403179c4108843529096ddfb8da": {
          "model_module": "@jupyter-widgets/base",
          "model_name": "LayoutModel",
          "model_module_version": "1.2.0",
          "state": {
            "_model_module": "@jupyter-widgets/base",
            "_model_module_version": "1.2.0",
            "_model_name": "LayoutModel",
            "_view_count": null,
            "_view_module": "@jupyter-widgets/base",
            "_view_module_version": "1.2.0",
            "_view_name": "LayoutView",
            "align_content": null,
            "align_items": null,
            "align_self": null,
            "border": null,
            "bottom": null,
            "display": null,
            "flex": null,
            "flex_flow": null,
            "grid_area": null,
            "grid_auto_columns": null,
            "grid_auto_flow": null,
            "grid_auto_rows": null,
            "grid_column": null,
            "grid_gap": null,
            "grid_row": null,
            "grid_template_areas": null,
            "grid_template_columns": null,
            "grid_template_rows": null,
            "height": null,
            "justify_content": null,
            "justify_items": null,
            "left": null,
            "margin": null,
            "max_height": null,
            "max_width": null,
            "min_height": null,
            "min_width": null,
            "object_fit": null,
            "object_position": null,
            "order": null,
            "overflow": null,
            "overflow_x": null,
            "overflow_y": null,
            "padding": null,
            "right": null,
            "top": null,
            "visibility": null,
            "width": null
          }
        },
        "b8ba2b1666b5452190be8e15543c3c89": {
          "model_module": "@jupyter-widgets/base",
          "model_name": "LayoutModel",
          "model_module_version": "1.2.0",
          "state": {
            "_model_module": "@jupyter-widgets/base",
            "_model_module_version": "1.2.0",
            "_model_name": "LayoutModel",
            "_view_count": null,
            "_view_module": "@jupyter-widgets/base",
            "_view_module_version": "1.2.0",
            "_view_name": "LayoutView",
            "align_content": null,
            "align_items": null,
            "align_self": null,
            "border": null,
            "bottom": null,
            "display": null,
            "flex": null,
            "flex_flow": null,
            "grid_area": null,
            "grid_auto_columns": null,
            "grid_auto_flow": null,
            "grid_auto_rows": null,
            "grid_column": null,
            "grid_gap": null,
            "grid_row": null,
            "grid_template_areas": null,
            "grid_template_columns": null,
            "grid_template_rows": null,
            "height": null,
            "justify_content": null,
            "justify_items": null,
            "left": null,
            "margin": null,
            "max_height": null,
            "max_width": null,
            "min_height": null,
            "min_width": null,
            "object_fit": null,
            "object_position": null,
            "order": null,
            "overflow": null,
            "overflow_x": null,
            "overflow_y": null,
            "padding": null,
            "right": null,
            "top": null,
            "visibility": null,
            "width": null
          }
        },
        "d8e68bc4f302484b8ab981dd005002e9": {
          "model_module": "@jupyter-widgets/controls",
          "model_name": "DescriptionStyleModel",
          "model_module_version": "1.5.0",
          "state": {
            "_model_module": "@jupyter-widgets/controls",
            "_model_module_version": "1.5.0",
            "_model_name": "DescriptionStyleModel",
            "_view_count": null,
            "_view_module": "@jupyter-widgets/base",
            "_view_module_version": "1.2.0",
            "_view_name": "StyleView",
            "description_width": ""
          }
        },
        "d4146204cf46496f83cf0fed246dc59b": {
          "model_module": "@jupyter-widgets/base",
          "model_name": "LayoutModel",
          "model_module_version": "1.2.0",
          "state": {
            "_model_module": "@jupyter-widgets/base",
            "_model_module_version": "1.2.0",
            "_model_name": "LayoutModel",
            "_view_count": null,
            "_view_module": "@jupyter-widgets/base",
            "_view_module_version": "1.2.0",
            "_view_name": "LayoutView",
            "align_content": null,
            "align_items": null,
            "align_self": null,
            "border": null,
            "bottom": null,
            "display": null,
            "flex": null,
            "flex_flow": null,
            "grid_area": null,
            "grid_auto_columns": null,
            "grid_auto_flow": null,
            "grid_auto_rows": null,
            "grid_column": null,
            "grid_gap": null,
            "grid_row": null,
            "grid_template_areas": null,
            "grid_template_columns": null,
            "grid_template_rows": null,
            "height": null,
            "justify_content": null,
            "justify_items": null,
            "left": null,
            "margin": null,
            "max_height": null,
            "max_width": null,
            "min_height": null,
            "min_width": null,
            "object_fit": null,
            "object_position": null,
            "order": null,
            "overflow": null,
            "overflow_x": null,
            "overflow_y": null,
            "padding": null,
            "right": null,
            "top": null,
            "visibility": null,
            "width": null
          }
        },
        "049cdc671bea46e890494fbda975300d": {
          "model_module": "@jupyter-widgets/controls",
          "model_name": "ProgressStyleModel",
          "model_module_version": "1.5.0",
          "state": {
            "_model_module": "@jupyter-widgets/controls",
            "_model_module_version": "1.5.0",
            "_model_name": "ProgressStyleModel",
            "_view_count": null,
            "_view_module": "@jupyter-widgets/base",
            "_view_module_version": "1.2.0",
            "_view_name": "StyleView",
            "bar_color": null,
            "description_width": ""
          }
        },
        "82667b2ac6324ee0b42571ec521499bf": {
          "model_module": "@jupyter-widgets/base",
          "model_name": "LayoutModel",
          "model_module_version": "1.2.0",
          "state": {
            "_model_module": "@jupyter-widgets/base",
            "_model_module_version": "1.2.0",
            "_model_name": "LayoutModel",
            "_view_count": null,
            "_view_module": "@jupyter-widgets/base",
            "_view_module_version": "1.2.0",
            "_view_name": "LayoutView",
            "align_content": null,
            "align_items": null,
            "align_self": null,
            "border": null,
            "bottom": null,
            "display": null,
            "flex": null,
            "flex_flow": null,
            "grid_area": null,
            "grid_auto_columns": null,
            "grid_auto_flow": null,
            "grid_auto_rows": null,
            "grid_column": null,
            "grid_gap": null,
            "grid_row": null,
            "grid_template_areas": null,
            "grid_template_columns": null,
            "grid_template_rows": null,
            "height": null,
            "justify_content": null,
            "justify_items": null,
            "left": null,
            "margin": null,
            "max_height": null,
            "max_width": null,
            "min_height": null,
            "min_width": null,
            "object_fit": null,
            "object_position": null,
            "order": null,
            "overflow": null,
            "overflow_x": null,
            "overflow_y": null,
            "padding": null,
            "right": null,
            "top": null,
            "visibility": null,
            "width": null
          }
        },
        "006285a937414c1792a82b5afc282ccb": {
          "model_module": "@jupyter-widgets/controls",
          "model_name": "DescriptionStyleModel",
          "model_module_version": "1.5.0",
          "state": {
            "_model_module": "@jupyter-widgets/controls",
            "_model_module_version": "1.5.0",
            "_model_name": "DescriptionStyleModel",
            "_view_count": null,
            "_view_module": "@jupyter-widgets/base",
            "_view_module_version": "1.2.0",
            "_view_name": "StyleView",
            "description_width": ""
          }
        },
        "a9ba6708f39d447183796f99913ac24f": {
          "model_module": "@jupyter-widgets/controls",
          "model_name": "HBoxModel",
          "model_module_version": "1.5.0",
          "state": {
            "_dom_classes": [],
            "_model_module": "@jupyter-widgets/controls",
            "_model_module_version": "1.5.0",
            "_model_name": "HBoxModel",
            "_view_count": null,
            "_view_module": "@jupyter-widgets/controls",
            "_view_module_version": "1.5.0",
            "_view_name": "HBoxView",
            "box_style": "",
            "children": [
              "IPY_MODEL_d87dd3b46bd7400eb6b364b06be1ed63",
              "IPY_MODEL_c70378cd82db47f1a57347d776808aea",
              "IPY_MODEL_1f29396b1f6c4a5794245dcc0ce52116"
            ],
            "layout": "IPY_MODEL_2d48c8087ebf414ab6b363d771b8eb72"
          }
        },
        "d87dd3b46bd7400eb6b364b06be1ed63": {
          "model_module": "@jupyter-widgets/controls",
          "model_name": "HTMLModel",
          "model_module_version": "1.5.0",
          "state": {
            "_dom_classes": [],
            "_model_module": "@jupyter-widgets/controls",
            "_model_module_version": "1.5.0",
            "_model_name": "HTMLModel",
            "_view_count": null,
            "_view_module": "@jupyter-widgets/controls",
            "_view_module_version": "1.5.0",
            "_view_name": "HTMLView",
            "description": "",
            "description_tooltip": null,
            "layout": "IPY_MODEL_6f6b12fbcc8e40b48e07877f208b3c23",
            "placeholder": "​",
            "style": "IPY_MODEL_1c7b8b6395da41b980f9bd344ae5d641",
            "value": "Downloading: 100%"
          }
        },
        "c70378cd82db47f1a57347d776808aea": {
          "model_module": "@jupyter-widgets/controls",
          "model_name": "FloatProgressModel",
          "model_module_version": "1.5.0",
          "state": {
            "_dom_classes": [],
            "_model_module": "@jupyter-widgets/controls",
            "_model_module_version": "1.5.0",
            "_model_name": "FloatProgressModel",
            "_view_count": null,
            "_view_module": "@jupyter-widgets/controls",
            "_view_module_version": "1.5.0",
            "_view_name": "ProgressView",
            "bar_style": "success",
            "description": "",
            "description_tooltip": null,
            "layout": "IPY_MODEL_9cf0e34d182d4c34ae94eacd0a8eb091",
            "max": 1042301,
            "min": 0,
            "orientation": "horizontal",
            "style": "IPY_MODEL_cd5ac3f179f9483dba2240a32591cc38",
            "value": 1042301
          }
        },
        "1f29396b1f6c4a5794245dcc0ce52116": {
          "model_module": "@jupyter-widgets/controls",
          "model_name": "HTMLModel",
          "model_module_version": "1.5.0",
          "state": {
            "_dom_classes": [],
            "_model_module": "@jupyter-widgets/controls",
            "_model_module_version": "1.5.0",
            "_model_name": "HTMLModel",
            "_view_count": null,
            "_view_module": "@jupyter-widgets/controls",
            "_view_module_version": "1.5.0",
            "_view_name": "HTMLView",
            "description": "",
            "description_tooltip": null,
            "layout": "IPY_MODEL_6ef4f536d9774015a6584537c10f6c59",
            "placeholder": "​",
            "style": "IPY_MODEL_82f3481712f54458887dc6ff7193affe",
            "value": " 0.99M/0.99M [00:00&lt;00:00, 1.03MB/s]"
          }
        },
        "2d48c8087ebf414ab6b363d771b8eb72": {
          "model_module": "@jupyter-widgets/base",
          "model_name": "LayoutModel",
          "model_module_version": "1.2.0",
          "state": {
            "_model_module": "@jupyter-widgets/base",
            "_model_module_version": "1.2.0",
            "_model_name": "LayoutModel",
            "_view_count": null,
            "_view_module": "@jupyter-widgets/base",
            "_view_module_version": "1.2.0",
            "_view_name": "LayoutView",
            "align_content": null,
            "align_items": null,
            "align_self": null,
            "border": null,
            "bottom": null,
            "display": null,
            "flex": null,
            "flex_flow": null,
            "grid_area": null,
            "grid_auto_columns": null,
            "grid_auto_flow": null,
            "grid_auto_rows": null,
            "grid_column": null,
            "grid_gap": null,
            "grid_row": null,
            "grid_template_areas": null,
            "grid_template_columns": null,
            "grid_template_rows": null,
            "height": null,
            "justify_content": null,
            "justify_items": null,
            "left": null,
            "margin": null,
            "max_height": null,
            "max_width": null,
            "min_height": null,
            "min_width": null,
            "object_fit": null,
            "object_position": null,
            "order": null,
            "overflow": null,
            "overflow_x": null,
            "overflow_y": null,
            "padding": null,
            "right": null,
            "top": null,
            "visibility": null,
            "width": null
          }
        },
        "6f6b12fbcc8e40b48e07877f208b3c23": {
          "model_module": "@jupyter-widgets/base",
          "model_name": "LayoutModel",
          "model_module_version": "1.2.0",
          "state": {
            "_model_module": "@jupyter-widgets/base",
            "_model_module_version": "1.2.0",
            "_model_name": "LayoutModel",
            "_view_count": null,
            "_view_module": "@jupyter-widgets/base",
            "_view_module_version": "1.2.0",
            "_view_name": "LayoutView",
            "align_content": null,
            "align_items": null,
            "align_self": null,
            "border": null,
            "bottom": null,
            "display": null,
            "flex": null,
            "flex_flow": null,
            "grid_area": null,
            "grid_auto_columns": null,
            "grid_auto_flow": null,
            "grid_auto_rows": null,
            "grid_column": null,
            "grid_gap": null,
            "grid_row": null,
            "grid_template_areas": null,
            "grid_template_columns": null,
            "grid_template_rows": null,
            "height": null,
            "justify_content": null,
            "justify_items": null,
            "left": null,
            "margin": null,
            "max_height": null,
            "max_width": null,
            "min_height": null,
            "min_width": null,
            "object_fit": null,
            "object_position": null,
            "order": null,
            "overflow": null,
            "overflow_x": null,
            "overflow_y": null,
            "padding": null,
            "right": null,
            "top": null,
            "visibility": null,
            "width": null
          }
        },
        "1c7b8b6395da41b980f9bd344ae5d641": {
          "model_module": "@jupyter-widgets/controls",
          "model_name": "DescriptionStyleModel",
          "model_module_version": "1.5.0",
          "state": {
            "_model_module": "@jupyter-widgets/controls",
            "_model_module_version": "1.5.0",
            "_model_name": "DescriptionStyleModel",
            "_view_count": null,
            "_view_module": "@jupyter-widgets/base",
            "_view_module_version": "1.2.0",
            "_view_name": "StyleView",
            "description_width": ""
          }
        },
        "9cf0e34d182d4c34ae94eacd0a8eb091": {
          "model_module": "@jupyter-widgets/base",
          "model_name": "LayoutModel",
          "model_module_version": "1.2.0",
          "state": {
            "_model_module": "@jupyter-widgets/base",
            "_model_module_version": "1.2.0",
            "_model_name": "LayoutModel",
            "_view_count": null,
            "_view_module": "@jupyter-widgets/base",
            "_view_module_version": "1.2.0",
            "_view_name": "LayoutView",
            "align_content": null,
            "align_items": null,
            "align_self": null,
            "border": null,
            "bottom": null,
            "display": null,
            "flex": null,
            "flex_flow": null,
            "grid_area": null,
            "grid_auto_columns": null,
            "grid_auto_flow": null,
            "grid_auto_rows": null,
            "grid_column": null,
            "grid_gap": null,
            "grid_row": null,
            "grid_template_areas": null,
            "grid_template_columns": null,
            "grid_template_rows": null,
            "height": null,
            "justify_content": null,
            "justify_items": null,
            "left": null,
            "margin": null,
            "max_height": null,
            "max_width": null,
            "min_height": null,
            "min_width": null,
            "object_fit": null,
            "object_position": null,
            "order": null,
            "overflow": null,
            "overflow_x": null,
            "overflow_y": null,
            "padding": null,
            "right": null,
            "top": null,
            "visibility": null,
            "width": null
          }
        },
        "cd5ac3f179f9483dba2240a32591cc38": {
          "model_module": "@jupyter-widgets/controls",
          "model_name": "ProgressStyleModel",
          "model_module_version": "1.5.0",
          "state": {
            "_model_module": "@jupyter-widgets/controls",
            "_model_module_version": "1.5.0",
            "_model_name": "ProgressStyleModel",
            "_view_count": null,
            "_view_module": "@jupyter-widgets/base",
            "_view_module_version": "1.2.0",
            "_view_name": "StyleView",
            "bar_color": null,
            "description_width": ""
          }
        },
        "6ef4f536d9774015a6584537c10f6c59": {
          "model_module": "@jupyter-widgets/base",
          "model_name": "LayoutModel",
          "model_module_version": "1.2.0",
          "state": {
            "_model_module": "@jupyter-widgets/base",
            "_model_module_version": "1.2.0",
            "_model_name": "LayoutModel",
            "_view_count": null,
            "_view_module": "@jupyter-widgets/base",
            "_view_module_version": "1.2.0",
            "_view_name": "LayoutView",
            "align_content": null,
            "align_items": null,
            "align_self": null,
            "border": null,
            "bottom": null,
            "display": null,
            "flex": null,
            "flex_flow": null,
            "grid_area": null,
            "grid_auto_columns": null,
            "grid_auto_flow": null,
            "grid_auto_rows": null,
            "grid_column": null,
            "grid_gap": null,
            "grid_row": null,
            "grid_template_areas": null,
            "grid_template_columns": null,
            "grid_template_rows": null,
            "height": null,
            "justify_content": null,
            "justify_items": null,
            "left": null,
            "margin": null,
            "max_height": null,
            "max_width": null,
            "min_height": null,
            "min_width": null,
            "object_fit": null,
            "object_position": null,
            "order": null,
            "overflow": null,
            "overflow_x": null,
            "overflow_y": null,
            "padding": null,
            "right": null,
            "top": null,
            "visibility": null,
            "width": null
          }
        },
        "82f3481712f54458887dc6ff7193affe": {
          "model_module": "@jupyter-widgets/controls",
          "model_name": "DescriptionStyleModel",
          "model_module_version": "1.5.0",
          "state": {
            "_model_module": "@jupyter-widgets/controls",
            "_model_module_version": "1.5.0",
            "_model_name": "DescriptionStyleModel",
            "_view_count": null,
            "_view_module": "@jupyter-widgets/base",
            "_view_module_version": "1.2.0",
            "_view_name": "StyleView",
            "description_width": ""
          }
        },
        "fd1f7fec07f644678b1043e5d473b5ce": {
          "model_module": "@jupyter-widgets/controls",
          "model_name": "HBoxModel",
          "model_module_version": "1.5.0",
          "state": {
            "_dom_classes": [],
            "_model_module": "@jupyter-widgets/controls",
            "_model_module_version": "1.5.0",
            "_model_name": "HBoxModel",
            "_view_count": null,
            "_view_module": "@jupyter-widgets/controls",
            "_view_module_version": "1.5.0",
            "_view_name": "HBoxView",
            "box_style": "",
            "children": [
              "IPY_MODEL_0a7c5b33a3e14094bc9d606e655bad11",
              "IPY_MODEL_a98f029c885442f1aeb272f8976f3c36",
              "IPY_MODEL_ceb9f1605aa449938567bc6abfd8eb5f"
            ],
            "layout": "IPY_MODEL_69e609e77fed41cfaee9e66c75912966"
          }
        },
        "0a7c5b33a3e14094bc9d606e655bad11": {
          "model_module": "@jupyter-widgets/controls",
          "model_name": "HTMLModel",
          "model_module_version": "1.5.0",
          "state": {
            "_dom_classes": [],
            "_model_module": "@jupyter-widgets/controls",
            "_model_module_version": "1.5.0",
            "_model_name": "HTMLModel",
            "_view_count": null,
            "_view_module": "@jupyter-widgets/controls",
            "_view_module_version": "1.5.0",
            "_view_name": "HTMLView",
            "description": "",
            "description_tooltip": null,
            "layout": "IPY_MODEL_8ec38222a66a4ea5acb8e3d592bfd5f3",
            "placeholder": "​",
            "style": "IPY_MODEL_7d980b1f0e534283aea89fbaccce5404",
            "value": "Downloading: 100%"
          }
        },
        "a98f029c885442f1aeb272f8976f3c36": {
          "model_module": "@jupyter-widgets/controls",
          "model_name": "FloatProgressModel",
          "model_module_version": "1.5.0",
          "state": {
            "_dom_classes": [],
            "_model_module": "@jupyter-widgets/controls",
            "_model_module_version": "1.5.0",
            "_model_name": "FloatProgressModel",
            "_view_count": null,
            "_view_module": "@jupyter-widgets/controls",
            "_view_module_version": "1.5.0",
            "_view_name": "ProgressView",
            "bar_style": "success",
            "description": "",
            "description_tooltip": null,
            "layout": "IPY_MODEL_10092d143cf5437b989326a4b99898f1",
            "max": 456318,
            "min": 0,
            "orientation": "horizontal",
            "style": "IPY_MODEL_67e21c576a624b15a0f6e2177f35b769",
            "value": 456318
          }
        },
        "ceb9f1605aa449938567bc6abfd8eb5f": {
          "model_module": "@jupyter-widgets/controls",
          "model_name": "HTMLModel",
          "model_module_version": "1.5.0",
          "state": {
            "_dom_classes": [],
            "_model_module": "@jupyter-widgets/controls",
            "_model_module_version": "1.5.0",
            "_model_name": "HTMLModel",
            "_view_count": null,
            "_view_module": "@jupyter-widgets/controls",
            "_view_module_version": "1.5.0",
            "_view_name": "HTMLView",
            "description": "",
            "description_tooltip": null,
            "layout": "IPY_MODEL_7cb21778d17842d0aa1795e197caa747",
            "placeholder": "​",
            "style": "IPY_MODEL_4a9f6cde3fe54739820e65dd2d7484db",
            "value": " 446k/446k [00:00&lt;00:00, 904kB/s]"
          }
        },
        "69e609e77fed41cfaee9e66c75912966": {
          "model_module": "@jupyter-widgets/base",
          "model_name": "LayoutModel",
          "model_module_version": "1.2.0",
          "state": {
            "_model_module": "@jupyter-widgets/base",
            "_model_module_version": "1.2.0",
            "_model_name": "LayoutModel",
            "_view_count": null,
            "_view_module": "@jupyter-widgets/base",
            "_view_module_version": "1.2.0",
            "_view_name": "LayoutView",
            "align_content": null,
            "align_items": null,
            "align_self": null,
            "border": null,
            "bottom": null,
            "display": null,
            "flex": null,
            "flex_flow": null,
            "grid_area": null,
            "grid_auto_columns": null,
            "grid_auto_flow": null,
            "grid_auto_rows": null,
            "grid_column": null,
            "grid_gap": null,
            "grid_row": null,
            "grid_template_areas": null,
            "grid_template_columns": null,
            "grid_template_rows": null,
            "height": null,
            "justify_content": null,
            "justify_items": null,
            "left": null,
            "margin": null,
            "max_height": null,
            "max_width": null,
            "min_height": null,
            "min_width": null,
            "object_fit": null,
            "object_position": null,
            "order": null,
            "overflow": null,
            "overflow_x": null,
            "overflow_y": null,
            "padding": null,
            "right": null,
            "top": null,
            "visibility": null,
            "width": null
          }
        },
        "8ec38222a66a4ea5acb8e3d592bfd5f3": {
          "model_module": "@jupyter-widgets/base",
          "model_name": "LayoutModel",
          "model_module_version": "1.2.0",
          "state": {
            "_model_module": "@jupyter-widgets/base",
            "_model_module_version": "1.2.0",
            "_model_name": "LayoutModel",
            "_view_count": null,
            "_view_module": "@jupyter-widgets/base",
            "_view_module_version": "1.2.0",
            "_view_name": "LayoutView",
            "align_content": null,
            "align_items": null,
            "align_self": null,
            "border": null,
            "bottom": null,
            "display": null,
            "flex": null,
            "flex_flow": null,
            "grid_area": null,
            "grid_auto_columns": null,
            "grid_auto_flow": null,
            "grid_auto_rows": null,
            "grid_column": null,
            "grid_gap": null,
            "grid_row": null,
            "grid_template_areas": null,
            "grid_template_columns": null,
            "grid_template_rows": null,
            "height": null,
            "justify_content": null,
            "justify_items": null,
            "left": null,
            "margin": null,
            "max_height": null,
            "max_width": null,
            "min_height": null,
            "min_width": null,
            "object_fit": null,
            "object_position": null,
            "order": null,
            "overflow": null,
            "overflow_x": null,
            "overflow_y": null,
            "padding": null,
            "right": null,
            "top": null,
            "visibility": null,
            "width": null
          }
        },
        "7d980b1f0e534283aea89fbaccce5404": {
          "model_module": "@jupyter-widgets/controls",
          "model_name": "DescriptionStyleModel",
          "model_module_version": "1.5.0",
          "state": {
            "_model_module": "@jupyter-widgets/controls",
            "_model_module_version": "1.5.0",
            "_model_name": "DescriptionStyleModel",
            "_view_count": null,
            "_view_module": "@jupyter-widgets/base",
            "_view_module_version": "1.2.0",
            "_view_name": "StyleView",
            "description_width": ""
          }
        },
        "10092d143cf5437b989326a4b99898f1": {
          "model_module": "@jupyter-widgets/base",
          "model_name": "LayoutModel",
          "model_module_version": "1.2.0",
          "state": {
            "_model_module": "@jupyter-widgets/base",
            "_model_module_version": "1.2.0",
            "_model_name": "LayoutModel",
            "_view_count": null,
            "_view_module": "@jupyter-widgets/base",
            "_view_module_version": "1.2.0",
            "_view_name": "LayoutView",
            "align_content": null,
            "align_items": null,
            "align_self": null,
            "border": null,
            "bottom": null,
            "display": null,
            "flex": null,
            "flex_flow": null,
            "grid_area": null,
            "grid_auto_columns": null,
            "grid_auto_flow": null,
            "grid_auto_rows": null,
            "grid_column": null,
            "grid_gap": null,
            "grid_row": null,
            "grid_template_areas": null,
            "grid_template_columns": null,
            "grid_template_rows": null,
            "height": null,
            "justify_content": null,
            "justify_items": null,
            "left": null,
            "margin": null,
            "max_height": null,
            "max_width": null,
            "min_height": null,
            "min_width": null,
            "object_fit": null,
            "object_position": null,
            "order": null,
            "overflow": null,
            "overflow_x": null,
            "overflow_y": null,
            "padding": null,
            "right": null,
            "top": null,
            "visibility": null,
            "width": null
          }
        },
        "67e21c576a624b15a0f6e2177f35b769": {
          "model_module": "@jupyter-widgets/controls",
          "model_name": "ProgressStyleModel",
          "model_module_version": "1.5.0",
          "state": {
            "_model_module": "@jupyter-widgets/controls",
            "_model_module_version": "1.5.0",
            "_model_name": "ProgressStyleModel",
            "_view_count": null,
            "_view_module": "@jupyter-widgets/base",
            "_view_module_version": "1.2.0",
            "_view_name": "StyleView",
            "bar_color": null,
            "description_width": ""
          }
        },
        "7cb21778d17842d0aa1795e197caa747": {
          "model_module": "@jupyter-widgets/base",
          "model_name": "LayoutModel",
          "model_module_version": "1.2.0",
          "state": {
            "_model_module": "@jupyter-widgets/base",
            "_model_module_version": "1.2.0",
            "_model_name": "LayoutModel",
            "_view_count": null,
            "_view_module": "@jupyter-widgets/base",
            "_view_module_version": "1.2.0",
            "_view_name": "LayoutView",
            "align_content": null,
            "align_items": null,
            "align_self": null,
            "border": null,
            "bottom": null,
            "display": null,
            "flex": null,
            "flex_flow": null,
            "grid_area": null,
            "grid_auto_columns": null,
            "grid_auto_flow": null,
            "grid_auto_rows": null,
            "grid_column": null,
            "grid_gap": null,
            "grid_row": null,
            "grid_template_areas": null,
            "grid_template_columns": null,
            "grid_template_rows": null,
            "height": null,
            "justify_content": null,
            "justify_items": null,
            "left": null,
            "margin": null,
            "max_height": null,
            "max_width": null,
            "min_height": null,
            "min_width": null,
            "object_fit": null,
            "object_position": null,
            "order": null,
            "overflow": null,
            "overflow_x": null,
            "overflow_y": null,
            "padding": null,
            "right": null,
            "top": null,
            "visibility": null,
            "width": null
          }
        },
        "4a9f6cde3fe54739820e65dd2d7484db": {
          "model_module": "@jupyter-widgets/controls",
          "model_name": "DescriptionStyleModel",
          "model_module_version": "1.5.0",
          "state": {
            "_model_module": "@jupyter-widgets/controls",
            "_model_module_version": "1.5.0",
            "_model_name": "DescriptionStyleModel",
            "_view_count": null,
            "_view_module": "@jupyter-widgets/base",
            "_view_module_version": "1.2.0",
            "_view_name": "StyleView",
            "description_width": ""
          }
        }
      }
    }
  },
  "nbformat": 4,
  "nbformat_minor": 0
}